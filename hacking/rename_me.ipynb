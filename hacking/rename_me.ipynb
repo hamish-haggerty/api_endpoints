{
 "cells": [
  {
   "cell_type": "markdown",
   "metadata": {},
   "source": [
    "Simple idea:\n",
    "\n",
    "    - We can partition our code / functionality into two streams:\n",
    "    i) Finding whales / profitable wallets etc.\n",
    "    ii) Mapping these wallets to something. e.g. an alert when 1 (or more) of them purchase something. \n",
    "\n",
    "Example of i) we already have written some `early_whales` functionality. For ii) we could use `intersect_dict` functionality. e.g. after identifying several wallets of interest (through whatever means) once per day we could run some code to compute the current intersection of their portfolios. How this might play out: we identify 20 wallets that are highly profitable. Some were early pepe whales, for example. Then, once per day, we run some code to compute the intersection of their portfolios. We notice that 8/20 have purchased a coin $\\theta$. Maybe $\\theta$ is a newly launched coin - this would be of particular interest! Maybe $\\theta$ is a \"trending\" token. And so on.\n",
    "\n",
    "Anyway, we basically have the functionality to do this (once given the wallets of interest - which we already have a few of)."
   ]
  },
  {
   "cell_type": "code",
   "execution_count": 1,
   "metadata": {},
   "outputs": [],
   "source": [
    "from api_endpoints.etherscan_api import *\n",
    "from api_endpoints.covalent_api import *\n",
    "from etherscan import Etherscan #externally installed package https://github.com/pcko1/etherscan-python\n",
    "\n",
    "from fastcore.test import *\n",
    "from fastcore.basics import *"
   ]
  },
  {
   "cell_type": "markdown",
   "metadata": {},
   "source": [
    "Alright. Let's try a slightly different track to the early whales track. How about we do the following:\n",
    "\n",
    "1) Compute the current top_n holders of several tokens (meaning, get their portfolios at present).\n",
    "2) Compute the intersect_dict\n",
    "\n",
    "Then we can try several thresholds, and see if there are coins held by several of the accounts. Ok, cool."
   ]
  }
 ],
 "metadata": {
  "kernelspec": {
   "display_name": "ether_crypto",
   "language": "python",
   "name": "python3"
  },
  "language_info": {
   "codemirror_mode": {
    "name": "ipython",
    "version": 3
   },
   "file_extension": ".py",
   "mimetype": "text/x-python",
   "name": "python",
   "nbconvert_exporter": "python",
   "pygments_lexer": "ipython3",
   "version": "3.10.9"
  },
  "orig_nbformat": 4
 },
 "nbformat": 4,
 "nbformat_minor": 2
}
