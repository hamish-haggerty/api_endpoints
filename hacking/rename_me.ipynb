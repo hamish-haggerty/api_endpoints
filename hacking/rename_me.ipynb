{
 "cells": [
  {
   "cell_type": "markdown",
   "metadata": {},
   "source": [
    "Simple idea:\n",
    "\n",
    "    - We can partition our code / functionality into two streams:\n",
    "    i) Finding whales / profitable wallets etc.\n",
    "    ii) Mapping these wallets to something.\n",
    "\n",
    "Example of i) we already have written some `early_whales` functionality. For ii) we could use `intersect_dict` functionality. e.g. after identifying several wallets of interest (through whatever means) once per day we could run some code to compute the current intersection of their portfolios. How this might play out: we identify 20 wallets that are highly profitable. Some were early pepe whales, for example. Then, once per day, we run some code to compute the intersection of their portfolios. We notice that 8/20 have purchased a coin $\\theta$. Maybe $\\theta$ is a newly launched coin - this would be of particular interest! Maybe $\\theta$ is a \"trending\" token. And so on.\n",
    "\n",
    "Anyway, we basically have the functionality to do this (once given the wallets of interest - which we already have a few of)."
   ]
  },
  {
   "cell_type": "code",
   "execution_count": 108,
   "metadata": {},
   "outputs": [],
   "source": [
    "from api_endpoints.etherscan_api import *\n",
    "from api_endpoints.covalent_api import *\n",
    "from etherscan import Etherscan #externally installed package https://github.com/pcko1/etherscan-python\n",
    "\n",
    "from fastcore.test import *\n",
    "from fastcore.basics import *"
   ]
  },
  {
   "cell_type": "code",
   "execution_count": 109,
   "metadata": {},
   "outputs": [],
   "source": [
    "from typing import List\n",
    "\n",
    "def strip_none(portfolios:List[dict])->List[dict]:\n",
    "    \"\"\"Strip the holdings that have no quote\n",
    "        Inputs: \n",
    "            portfolios: list of `portfolio` dictionaries\n",
    "        Outputs:\n",
    "            portfolios: list of `portfolio` dictionaries with no `None` quotes\n",
    "    \"\"\"\n",
    "\n",
    "    for portfolio in portfolios:\n",
    "\n",
    "        stripped_portfolio=[]\n",
    "        for _holding in portfolio['portfolio']:\n",
    "            if _holding['quote'] != None:\n",
    "                stripped_portfolio.append(_holding)\n",
    "        portfolio['portfolio'] = stripped_portfolio\n",
    "\n",
    "    return portfolios\n",
    "\n",
    "\n",
    "def strip_dust(portfolios:List[dict])->List[dict]:\n",
    "    \"\"\"Strip the holdings that are small\n",
    "        Inputs: \n",
    "            portfolios: list of `portfolio` dictionaries\n",
    "        Outputs:\n",
    "            portfolios: list of `portfolio` dictionaries with no `None` quotes\n",
    "    \"\"\"\n",
    "\n",
    "    for portfolio in portfolios:\n",
    "\n",
    "        stripped_portfolio=[]\n",
    "        for _holding in portfolio['portfolio']:\n",
    "            if float(_holding['quote']) >= 0.01:\n",
    "                stripped_portfolio.append(_holding)\n",
    "        portfolio['portfolio'] = stripped_portfolio\n",
    "\n",
    "    return portfolios"
   ]
  },
  {
   "cell_type": "markdown",
   "metadata": {},
   "source": [
    "This code seems to do what we want. Just need to wrap it into a nice class / function."
   ]
  },
  {
   "cell_type": "code",
   "execution_count": 110,
   "metadata": {},
   "outputs": [],
   "source": [
    "class WalletListToIntersectDict:\n",
    "    #TODO: needs a better name perhaps?\n",
    "    \"\"\"Wrapper to compute the `intersect_dict` given a list of wallets. Basically a map to the `intersect_dict`        \n",
    "        Inputs:\n",
    "            cov_api: Covalent_Api instance\n",
    "            n_lst: list of wallets, of the form [{'address':wallet_1},{'address':wallet_2}]\n",
    "            chainName: e.g. 'eth-mainnet'\n",
    "            date: e.g. '2023-09-24'\n",
    "            quote_currency: e.g. USD\n",
    "    \"\"\"\n",
    "\n",
    "    def __init__(self, cov_api, n_lst, chainName,date,quote_currency=\"USD\"): \n",
    "        store_attr()\n",
    "        \n",
    "        self.intersect_dict = self.get_data()\n",
    "        \n",
    "    def get_data(self):\n",
    "        self.portfolios = cov_api.get_holders_portfolios(n_lst=self.n_lst,chainName=self.chainName,date=self.date)\n",
    "        self.portfolios = strip_none(self.portfolios)\n",
    "        self.portfolios = strip_dust(self.portfolios)\n",
    "        self.union_portfolios  = union_top_n(self.portfolios)#i.e. all the tokens (\"union\")\n",
    "        self.intersect_dict = intersection_count(self.portfolios,self.union_portfolios)\n",
    "\n",
    "        return self.intersect_dict"
   ]
  },
  {
   "cell_type": "code",
   "execution_count": null,
   "metadata": {},
   "outputs": [],
   "source": [
    "###Setup\n",
    "chainName='eth-mainnet'\n",
    "cov_api = Covalent_Api() #might need to pass an API key (different to default -- see __init__ of class)\n",
    "###\n",
    "\n",
    "#Inputs:\n",
    "wallet_1 = '0xaf2358e98683265cbd3a48509123d390ddf54534' #this guy is an early pepe whale\n",
    "wallet_2 = '0x711281c1b26aaed86e40e4caaf76c1962b45e161' #this guy is an early pepe whale\n",
    "n_lst = [{'address':wallet_1},{'address':wallet_2}]\n",
    "#wallet_1 >> wallet_2, but yeah.\n",
    "date = '2023-09-24' #todays date. Want this to automatically gets todays date!\n",
    "\n",
    "#Out:\n",
    "walletlist_to_intersect_dict = WalletListToIntersectDict(cov_api,n_lst,chainName,date) \n",
    "intersect_dict = walletlist_to_intersect_dict.intersect_dict\n",
    "\n",
    "#now update token holders info by getting their whole portfolios on the given `date`. We take the list output from `get_token_holders` and update it with the portfolio info.\n",
    "#date = '2023-09-24' #todays date. Want this to automatically gets todays date!\n",
    "# portfolios = cov_api.get_holders_portfolios(n_lst=n_lst,chainName=chainName,date=date)\n",
    "# portfolios = strip_none(portfolios)\n",
    "# portfolios = strip_dust(portfolios)\n",
    "\n",
    "# union_portfolios  = union_top_n(portfolios)#i.e. all the tokens (\"union\")\n",
    "# intersect_dict = intersection_count(portfolios,union_portfolios)\n"
   ]
  },
  {
   "cell_type": "code",
   "execution_count": 112,
   "metadata": {},
   "outputs": [],
   "source": [
    "#Test:\n",
    "for _portfolio in walletlist_to_intersect_dict.portfolios:\n",
    "    for _holding in _portfolio['portfolio']:\n",
    "        test_ne(_holding['quote'],None) #check there are no `None` values of holdings.\n",
    "        assert float(_holding['quote'])>=0.01, f\"Expected {_holding['quote']} to be greater than 0.01\""
   ]
  },
  {
   "cell_type": "markdown",
   "metadata": {},
   "source": [
    "So, after stripping `None` and `dust` from portfolios we are left with the fact that of these two wallets (which are in our list of early pepe whales), they both hold (as of `date` above, which is now in the past):"
   ]
  },
  {
   "cell_type": "code",
   "execution_count": 76,
   "metadata": {},
   "outputs": [
    {
     "data": {
      "text/plain": [
       "[('Ether', '0xeeeeeeeeeeeeeeeeeeeeeeeeeeeeeeeeeeeeeeee'),\n",
       " ('Ushi', '0x6dca182ac5e3f99985bc4ee0f726d6472ab1ec55'),\n",
       " ('HarryPotterObamaSonic10Inu', '0x72e4f9f808c49a2a61de9c5896298920dc4eeea9'),\n",
       " ('Pepe', '0x6982508145454ce325ddbe47a25d4ec3d2311933'),\n",
       " ('USD Coin', '0xa0b86991c6218b36c1d19d4a2e9eb0ce3606eb48')]"
      ]
     },
     "execution_count": 76,
     "metadata": {},
     "output_type": "execute_result"
    }
   ],
   "source": [
    "token_list = contract_name_if_k_holders(walletlist_to_intersect_dict.intersect_dict,2)\n",
    "token_list"
   ]
  },
  {
   "cell_type": "markdown",
   "metadata": {},
   "source": [
    "Clearly it is also of interest *how much* they currently have in each of these tokens. I guess in terms of % of their portfolio and also in absolute terms. Hence we need a nice function to extract this info easily:"
   ]
  },
  {
   "cell_type": "code",
   "execution_count": 104,
   "metadata": {},
   "outputs": [],
   "source": [
    "def get_intersect_values(token_list,portfolios):\n",
    "    \"\"\"Given a list of tokens, and a list of portfolios, return a dictionary of the token values for each portfolio.\n",
    "        Inputs: \n",
    "                token_list: list of tokens, e.g. [('Ether', '0xeeeeeeeeeeeeeeeeeeeeeeeeeeeeeeeeeeeeeeee'),\n",
    "                            ('Ushi', '0x6dca182ac5e3f99985bc4ee0f726d6472ab1ec55')].\n",
    "                            So, for example the return value of `contract_name_if_k_holders` function.\n",
    "                portfolios: list of `portfolio` dictionaries\n",
    "        Outputs:\n",
    "                token_list_dict: dictionary, where keys are the portfolio addresses, and values are dictionaries giving the amount of each token\n",
    "                                 in USD that they hold.\n",
    "    \"\"\"\n",
    "\n",
    "    token_list_dict={}\n",
    "    for _portfolio in portfolios:\n",
    "        token_list_dict[_portfolio['address']] = {}\n",
    "        for _token in token_list:\n",
    "            for _holding in _portfolio['portfolio']:\n",
    "                if _holding['contract_address'] == _token[1]: #second element of tuple is the contract address\n",
    "                    token_list_dict[_portfolio['address']][_token] = _holding['quote']\n",
    "    \n",
    "    return token_list_dict\n",
    "\n",
    "def print_intersect_values(token_list_dict,portfolios):\n",
    "    \"Function to print the values of the tokens in each portfolio.\"\n",
    "\n",
    "    for _portfolio in portfolios:\n",
    "        print(f\"Portfolio: {_portfolio['address']}\")\n",
    "        for _token in token_list_dict[_portfolio['address']]:\n",
    "            print(f\"\\tToken: {_token[0]}\")\n",
    "            print(f\"\\t\\tQuote: ${token_list_dict[_portfolio['address']][_token]}\")\n",
    "            print(f\"\\t\\tPercentage of portfolio: {token_list_dict[_portfolio['address']][_token]/_portfolio['portfolio_sum'] * 100:.2f}%\")\n",
    "            \n"
   ]
  },
  {
   "cell_type": "markdown",
   "metadata": {},
   "source": [
    "How to use `get_intersect_values` and `print_intersect_values`"
   ]
  },
  {
   "cell_type": "code",
   "execution_count": 105,
   "metadata": {},
   "outputs": [
    {
     "name": "stdout",
     "output_type": "stream",
     "text": [
      "Portfolio: 0xaf2358e98683265cbd3a48509123d390ddf54534\n",
      "\tToken: Ether\n",
      "\t\tQuote: $358162.8\n",
      "\t\tPercentage of portfolio: 7.88%\n",
      "\tToken: Ushi\n",
      "\t\tQuote: $4.5941653\n",
      "\t\tPercentage of portfolio: 0.00%\n",
      "\tToken: HarryPotterObamaSonic10Inu\n",
      "\t\tQuote: $7.923421\n",
      "\t\tPercentage of portfolio: 0.00%\n",
      "\tToken: Pepe\n",
      "\t\tQuote: $1704826.5\n",
      "\t\tPercentage of portfolio: 37.51%\n",
      "\tToken: USD Coin\n",
      "\t\tQuote: $49.369713\n",
      "\t\tPercentage of portfolio: 0.00%\n",
      "Portfolio: 0x711281c1b26aaed86e40e4caaf76c1962b45e161\n",
      "\tToken: Ether\n",
      "\t\tQuote: $34805.703\n",
      "\t\tPercentage of portfolio: 4.69%\n",
      "\tToken: Ushi\n",
      "\t\tQuote: $0.1186439\n",
      "\t\tPercentage of portfolio: 0.00%\n",
      "\tToken: HarryPotterObamaSonic10Inu\n",
      "\t\tQuote: $2.0857906\n",
      "\t\tPercentage of portfolio: 0.00%\n",
      "\tToken: Pepe\n",
      "\t\tQuote: $0.15355708\n",
      "\t\tPercentage of portfolio: 0.00%\n",
      "\tToken: USD Coin\n",
      "\t\tQuote: $679467.4\n",
      "\t\tPercentage of portfolio: 91.52%\n"
     ]
    }
   ],
   "source": [
    "token_list_dict = get_intersect_values(token_list,portfolios)\n",
    "print_intersect_values(token_list_dict,portfolios)"
   ]
  }
 ],
 "metadata": {
  "kernelspec": {
   "display_name": "ether_crypto",
   "language": "python",
   "name": "python3"
  },
  "language_info": {
   "codemirror_mode": {
    "name": "ipython",
    "version": 3
   },
   "file_extension": ".py",
   "mimetype": "text/x-python",
   "name": "python",
   "nbconvert_exporter": "python",
   "pygments_lexer": "ipython3",
   "version": "3.10.9"
  },
  "orig_nbformat": 4
 },
 "nbformat": 4,
 "nbformat_minor": 2
}
