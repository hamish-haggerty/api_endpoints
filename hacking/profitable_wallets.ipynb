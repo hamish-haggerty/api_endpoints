{
 "cells": [
  {
   "cell_type": "code",
   "execution_count": null,
   "metadata": {},
   "outputs": [],
   "source": []
  },
  {
   "cell_type": "markdown",
   "metadata": {},
   "source": [
    "Want a place to store the profitable wallets we find - e.g. just by reading about them on twitter. We were just storing them under favourites on alpha.xyz but annoyingly there is a limit to the number of lists and wallets/list. Anyway, here we just store a list of what we find manually FOR NOW.\n",
    "\n",
    "Eventually maybe we store the wallets in a json dict or something. This is just to get started."
   ]
  },
  {
   "cell_type": "code",
   "execution_count": 1,
   "metadata": {},
   "outputs": [],
   "source": [
    "#Just plonk them in a list, maybe with a comment on where you found it.\n",
    "\n",
    "#Please see alpha.xyz for some other wallets.\n",
    "wallets = []\n",
    "\n",
    "wallets.append('0x1d91da30b083fc17c5cda25b25819d4b8db27862') #https://twitter.com/DamiDefi/status/1711368665239589344\n"
   ]
  }
 ],
 "metadata": {
  "kernelspec": {
   "display_name": "ether_crypto",
   "language": "python",
   "name": "python3"
  },
  "language_info": {
   "codemirror_mode": {
    "name": "ipython",
    "version": 3
   },
   "file_extension": ".py",
   "mimetype": "text/x-python",
   "name": "python",
   "nbconvert_exporter": "python",
   "pygments_lexer": "ipython3",
   "version": "3.10.9"
  }
 },
 "nbformat": 4,
 "nbformat_minor": 2
}
