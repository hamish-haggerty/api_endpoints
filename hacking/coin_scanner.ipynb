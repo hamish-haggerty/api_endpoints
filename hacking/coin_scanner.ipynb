{
 "cells": [
  {
   "cell_type": "code",
   "execution_count": 1,
   "metadata": {},
   "outputs": [],
   "source": [
    "from api_endpoints.covalent_api import *\n"
   ]
  },
  {
   "cell_type": "code",
   "execution_count": 2,
   "metadata": {},
   "outputs": [],
   "source": [
    "def print_balance_top_n(cov_api,tokenAddress,tokenName,chainName,date,n=10):\n",
    "\n",
    "    ### Get token holders\n",
    "    token_holders = cov_api.get_token_holders(chainName=chainName,tokenAddress=tokenAddress,page_size=100,page_number=0)\n",
    "    token_holders = token_holders[0:n]\n",
    "\n",
    "    ##Next, let's update with the portfolio of each guy\n",
    "    token_holders = cov_api.get_holders_portfolios(wallet_list=token_holders,chainName=chainName,date=date)\n",
    "\n",
    "    #Print out\n",
    "    print(f\"Printing out portfolio value of top {n} holders of {tokenName} on {date}:\")\n",
    "    for i,_holder in enumerate(token_holders):\n",
    "        print(f\"\\tThe {i}-th top holder has address {_holder['address']} portfolio value: {_holder['portfolio_sum']}\")\n"
   ]
  },
  {
   "cell_type": "code",
   "execution_count": 3,
   "metadata": {},
   "outputs": [],
   "source": [
    "from tabulate import tabulate\n",
    "\n",
    "def print_balance_top_n(cov_api, tokenAddress, tokenName, chainName, date, n=10):\n",
    "    ### Get token holders\n",
    "    token_holders = cov_api.get_token_holders(chainName=chainName, tokenAddress=tokenAddress, page_size=100, page_number=0)\n",
    "    token_holders = token_holders[0:n]\n",
    "\n",
    "    ## Update with the portfolio of each holder\n",
    "    token_holders = cov_api.get_holders_portfolios(wallet_list=token_holders, chainName=chainName, date=date)\n",
    "    \n",
    "    # Extract the data for table and median calculation\n",
    "    data = []\n",
    "    values = []\n",
    "    for i, _holder in enumerate(token_holders):\n",
    "        row = {\n",
    "            \"Rank\": i,\n",
    "            \"Address\": _holder['address'],\n",
    "            \"Portfolio Value\": _holder['portfolio_sum']\n",
    "        }\n",
    "        data.append(row)\n",
    "        values.append(float(_holder['portfolio_sum']))\n",
    "\n",
    "    # Calculate the median\n",
    "    sorted_values = sorted(values)\n",
    "    length = len(sorted_values)\n",
    "    if length % 2 == 0:\n",
    "        median = (sorted_values[length // 2 - 1] + sorted_values[length // 2]) / 2\n",
    "    else:\n",
    "        median = sorted_values[length // 2]\n",
    "    \n",
    "    # Print out\n",
    "    print(f\"Printing out portfolio value of top {n} holders of {tokenName} on {date}:\")\n",
    "    print(tabulate(data, headers=\"keys\", tablefmt=\"grid\"))\n",
    "    print(f\"\\nMedian Portfolio Value: {median}\")\n",
    "\n",
    "# Your setup code and call to the function remain unchanged.\n"
   ]
  },
  {
   "cell_type": "code",
   "execution_count": 4,
   "metadata": {},
   "outputs": [
    {
     "name": "stdout",
     "output_type": "stream",
     "text": [
      "Printing out portfolio value of top 10 holders of trendx on 2023-10-23:\n",
      "+--------+--------------------------------------------+-------------------+\n",
      "|   Rank | Address                                    |   Portfolio Value |\n",
      "+========+============================================+===================+\n",
      "|      0 | 0x917c850f637e6d12ead6c4cc90dbebd7976249e9 |  176086           |\n",
      "+--------+--------------------------------------------+-------------------+\n",
      "|      1 | 0x07f7373a623fe3eef9adacefbe1282da9be026cf |   42215.2         |\n",
      "+--------+--------------------------------------------+-------------------+\n",
      "|      2 | 0x8011592616d5ea356981d8f5811524e9dfc80b30 |   42213.2         |\n",
      "+--------+--------------------------------------------+-------------------+\n",
      "|      3 | 0x6863e1091e73de0cd4546ef0d12183133cd252bd |       1.19586e+06 |\n",
      "+--------+--------------------------------------------+-------------------+\n",
      "|      4 | 0x35d4d4c2db6000cb2db0d89f8c4f1365487fdf2a |   25778.2         |\n",
      "+--------+--------------------------------------------+-------------------+\n",
      "|      5 | 0x0f8d541b280b13779c3ca92c8d5d6654f156c745 |   97503.3         |\n",
      "+--------+--------------------------------------------+-------------------+\n",
      "|      6 | 0x0045666d334c90c63b9a9f124609dbbc9cfae383 |   27858.1         |\n",
      "+--------+--------------------------------------------+-------------------+\n",
      "|      7 | 0x638c7b28063a23c4cb2a39f72ed54b631d83badd |   26000.1         |\n",
      "+--------+--------------------------------------------+-------------------+\n",
      "|      8 | 0xf74181c2500c0ac00471a496b4112d7237150fd9 |   20295           |\n",
      "+--------+--------------------------------------------+-------------------+\n",
      "|      9 | 0xa6b9efb8ba662af26cd9641a2ced5652e2e1b29a |   18316.2         |\n",
      "+--------+--------------------------------------------+-------------------+\n",
      "\n",
      "Median Portfolio Value: 35035.64257690909\n"
     ]
    }
   ],
   "source": [
    "### Setup\n",
    "chainName = 'eth-mainnet'\n",
    "tokenAddress = '0xc89d9aa9d9e54bb196319c6195aea1038d2bc936' #trendX\n",
    "tokenName = 'trendx'\n",
    "date = '2023-10-23'\n",
    "cov_api = Covalent_Api()\n",
    "###\n",
    "print_balance_top_n(cov_api,tokenAddress,tokenName,chainName,date,n=10)\n"
   ]
  },
  {
   "cell_type": "markdown",
   "metadata": {},
   "source": [
    "Alright, let's just explore for a few more coins. See if anything interesting pops up:"
   ]
  },
  {
   "cell_type": "code",
   "execution_count": 7,
   "metadata": {},
   "outputs": [
    {
     "name": "stderr",
     "output_type": "stream",
     "text": [
      "Exceeded the maximum number of retries (0) for URL: https://api.covalenthq.com/v1/eth-mainnet/tokens/0xa4838122c683f732289805fc3c207febd55babdd/token_holders_v2/?&page-size=100&page-number=0 without success\n"
     ]
    },
    {
     "ename": "TypeError",
     "evalue": "'NoneType' object is not subscriptable",
     "output_type": "error",
     "traceback": [
      "\u001b[0;31m---------------------------------------------------------------------------\u001b[0m",
      "\u001b[0;31mTypeError\u001b[0m                                 Traceback (most recent call last)",
      "\u001b[1;32m/Users/hamishhaggerty/finance/crypto_code/api_endpoints/hacking/coin_scanner.ipynb Cell 6\u001b[0m line \u001b[0;36m3\n\u001b[1;32m      <a href='vscode-notebook-cell:/Users/hamishhaggerty/finance/crypto_code/api_endpoints/hacking/coin_scanner.ipynb#W6sZmlsZQ%3D%3D?line=0'>1</a>\u001b[0m tokenAddress \u001b[39m=\u001b[39m \u001b[39m'\u001b[39m\u001b[39m0xa4838122c683f732289805fc3c207febd55babdd\u001b[39m\u001b[39m'\u001b[39m \u001b[39m#copybot\u001b[39;00m\n\u001b[1;32m      <a href='vscode-notebook-cell:/Users/hamishhaggerty/finance/crypto_code/api_endpoints/hacking/coin_scanner.ipynb#W6sZmlsZQ%3D%3D?line=1'>2</a>\u001b[0m tokenName \u001b[39m=\u001b[39m \u001b[39m'\u001b[39m\u001b[39mtrias\u001b[39m\u001b[39m'\u001b[39m\n\u001b[0;32m----> <a href='vscode-notebook-cell:/Users/hamishhaggerty/finance/crypto_code/api_endpoints/hacking/coin_scanner.ipynb#W6sZmlsZQ%3D%3D?line=2'>3</a>\u001b[0m print_balance_top_n(cov_api,tokenAddress,tokenName,chainName,date,n\u001b[39m=\u001b[39;49m\u001b[39m50\u001b[39;49m)\n",
      "\u001b[1;32m/Users/hamishhaggerty/finance/crypto_code/api_endpoints/hacking/coin_scanner.ipynb Cell 6\u001b[0m line \u001b[0;36m6\n\u001b[1;32m      <a href='vscode-notebook-cell:/Users/hamishhaggerty/finance/crypto_code/api_endpoints/hacking/coin_scanner.ipynb#W6sZmlsZQ%3D%3D?line=2'>3</a>\u001b[0m \u001b[39mdef\u001b[39;00m \u001b[39mprint_balance_top_n\u001b[39m(cov_api, tokenAddress, tokenName, chainName, date, n\u001b[39m=\u001b[39m\u001b[39m10\u001b[39m):\n\u001b[1;32m      <a href='vscode-notebook-cell:/Users/hamishhaggerty/finance/crypto_code/api_endpoints/hacking/coin_scanner.ipynb#W6sZmlsZQ%3D%3D?line=3'>4</a>\u001b[0m     \u001b[39m### Get token holders\u001b[39;00m\n\u001b[1;32m      <a href='vscode-notebook-cell:/Users/hamishhaggerty/finance/crypto_code/api_endpoints/hacking/coin_scanner.ipynb#W6sZmlsZQ%3D%3D?line=4'>5</a>\u001b[0m     token_holders \u001b[39m=\u001b[39m cov_api\u001b[39m.\u001b[39mget_token_holders(chainName\u001b[39m=\u001b[39mchainName, tokenAddress\u001b[39m=\u001b[39mtokenAddress, page_size\u001b[39m=\u001b[39m\u001b[39m100\u001b[39m, page_number\u001b[39m=\u001b[39m\u001b[39m0\u001b[39m)\n\u001b[0;32m----> <a href='vscode-notebook-cell:/Users/hamishhaggerty/finance/crypto_code/api_endpoints/hacking/coin_scanner.ipynb#W6sZmlsZQ%3D%3D?line=5'>6</a>\u001b[0m     token_holders \u001b[39m=\u001b[39m token_holders[\u001b[39m0\u001b[39;49m:n]\n\u001b[1;32m      <a href='vscode-notebook-cell:/Users/hamishhaggerty/finance/crypto_code/api_endpoints/hacking/coin_scanner.ipynb#W6sZmlsZQ%3D%3D?line=7'>8</a>\u001b[0m     \u001b[39m## Update with the portfolio of each holder\u001b[39;00m\n\u001b[1;32m      <a href='vscode-notebook-cell:/Users/hamishhaggerty/finance/crypto_code/api_endpoints/hacking/coin_scanner.ipynb#W6sZmlsZQ%3D%3D?line=8'>9</a>\u001b[0m     token_holders \u001b[39m=\u001b[39m cov_api\u001b[39m.\u001b[39mget_holders_portfolios(wallet_list\u001b[39m=\u001b[39mtoken_holders, chainName\u001b[39m=\u001b[39mchainName, date\u001b[39m=\u001b[39mdate)\n",
      "\u001b[0;31mTypeError\u001b[0m: 'NoneType' object is not subscriptable"
     ]
    }
   ],
   "source": [
    "tokenAddress = '0xa4838122c683f732289805fc3c207febd55babdd' #copybot\n",
    "tokenName = 'trias'\n",
    "print_balance_top_n(cov_api,tokenAddress,tokenName,chainName,date,n=50) #AHHH wrong chain!"
   ]
  },
  {
   "cell_type": "code",
   "execution_count": null,
   "metadata": {},
   "outputs": [
    {
     "name": "stderr",
     "output_type": "stream",
     "text": [
      "Exceeded the maximum number of retries (0) for URL: https://api.covalenthq.com/v1/eth-mainnet/tokens/0xa735a3af76cc30791c61c10d585833829d36cbe0/token_holders_v2/?&page-size=100&page-number=0 without success\n"
     ]
    },
    {
     "ename": "TypeError",
     "evalue": "'NoneType' object is not subscriptable",
     "output_type": "error",
     "traceback": [
      "\u001b[0;31m---------------------------------------------------------------------------\u001b[0m",
      "\u001b[0;31mTypeError\u001b[0m                                 Traceback (most recent call last)",
      "\u001b[1;32m/Users/hamishhaggerty/finance/crypto_code/api_endpoints/hacking/coin_scanner.ipynb Cell 8\u001b[0m line \u001b[0;36m5\n\u001b[1;32m      <a href='vscode-notebook-cell:/Users/hamishhaggerty/finance/crypto_code/api_endpoints/hacking/coin_scanner.ipynb#X10sZmlsZQ%3D%3D?line=1'>2</a>\u001b[0m tokenName \u001b[39m=\u001b[39m \u001b[39m'\u001b[39m\u001b[39mImgnAI\u001b[39m\u001b[39m'\u001b[39m\n\u001b[1;32m      <a href='vscode-notebook-cell:/Users/hamishhaggerty/finance/crypto_code/api_endpoints/hacking/coin_scanner.ipynb#X10sZmlsZQ%3D%3D?line=2'>3</a>\u001b[0m date \u001b[39m=\u001b[39m \u001b[39m'\u001b[39m\u001b[39m2023-10-25\u001b[39m\u001b[39m'\u001b[39m\n\u001b[0;32m----> <a href='vscode-notebook-cell:/Users/hamishhaggerty/finance/crypto_code/api_endpoints/hacking/coin_scanner.ipynb#X10sZmlsZQ%3D%3D?line=4'>5</a>\u001b[0m print_balance_top_n(cov_api,tokenAddress,tokenName,chainName,date,n\u001b[39m=\u001b[39;49m\u001b[39m10\u001b[39;49m)\n",
      "\u001b[1;32m/Users/hamishhaggerty/finance/crypto_code/api_endpoints/hacking/coin_scanner.ipynb Cell 8\u001b[0m line \u001b[0;36m6\n\u001b[1;32m      <a href='vscode-notebook-cell:/Users/hamishhaggerty/finance/crypto_code/api_endpoints/hacking/coin_scanner.ipynb#X10sZmlsZQ%3D%3D?line=2'>3</a>\u001b[0m \u001b[39mdef\u001b[39;00m \u001b[39mprint_balance_top_n\u001b[39m(cov_api, tokenAddress, tokenName, chainName, date, n\u001b[39m=\u001b[39m\u001b[39m10\u001b[39m):\n\u001b[1;32m      <a href='vscode-notebook-cell:/Users/hamishhaggerty/finance/crypto_code/api_endpoints/hacking/coin_scanner.ipynb#X10sZmlsZQ%3D%3D?line=3'>4</a>\u001b[0m     \u001b[39m### Get token holders\u001b[39;00m\n\u001b[1;32m      <a href='vscode-notebook-cell:/Users/hamishhaggerty/finance/crypto_code/api_endpoints/hacking/coin_scanner.ipynb#X10sZmlsZQ%3D%3D?line=4'>5</a>\u001b[0m     token_holders \u001b[39m=\u001b[39m cov_api\u001b[39m.\u001b[39mget_token_holders(chainName\u001b[39m=\u001b[39mchainName, tokenAddress\u001b[39m=\u001b[39mtokenAddress, page_size\u001b[39m=\u001b[39m\u001b[39m100\u001b[39m, page_number\u001b[39m=\u001b[39m\u001b[39m0\u001b[39m)\n\u001b[0;32m----> <a href='vscode-notebook-cell:/Users/hamishhaggerty/finance/crypto_code/api_endpoints/hacking/coin_scanner.ipynb#X10sZmlsZQ%3D%3D?line=5'>6</a>\u001b[0m     token_holders \u001b[39m=\u001b[39m token_holders[\u001b[39m0\u001b[39;49m:n]\n\u001b[1;32m      <a href='vscode-notebook-cell:/Users/hamishhaggerty/finance/crypto_code/api_endpoints/hacking/coin_scanner.ipynb#X10sZmlsZQ%3D%3D?line=7'>8</a>\u001b[0m     \u001b[39m## Update with the portfolio of each holder\u001b[39;00m\n\u001b[1;32m      <a href='vscode-notebook-cell:/Users/hamishhaggerty/finance/crypto_code/api_endpoints/hacking/coin_scanner.ipynb#X10sZmlsZQ%3D%3D?line=8'>9</a>\u001b[0m     token_holders \u001b[39m=\u001b[39m cov_api\u001b[39m.\u001b[39mget_holders_portfolios(wallet_list\u001b[39m=\u001b[39mtoken_holders, chainName\u001b[39m=\u001b[39mchainName, date\u001b[39m=\u001b[39mdate)\n",
      "\u001b[0;31mTypeError\u001b[0m: 'NoneType' object is not subscriptable"
     ]
    }
   ],
   "source": [
    "tokenAddress = '0xa735a3af76cc30791c61c10d585833829d36cbe0'\n",
    "tokenName = 'ImgnAI'\n",
    "date = '2023-10-25'\n",
    "\n",
    "print_balance_top_n(cov_api,tokenAddress,tokenName,chainName,date,n=10)"
   ]
  },
  {
   "cell_type": "code",
   "execution_count": null,
   "metadata": {},
   "outputs": [
    {
     "name": "stdout",
     "output_type": "stream",
     "text": [
      "Printing out portfolio value of top 10 holders of kibshi on 2023-10-23:\n",
      "+--------+--------------------------------------------+-------------------+\n",
      "|   Rank | Address                                    |   Portfolio Value |\n",
      "+========+============================================+===================+\n",
      "|      0 | 0xf22fdd2be7c6da9788e4941a6ffc78ca99d7b15c |          50951.2  |\n",
      "+--------+--------------------------------------------+-------------------+\n",
      "|      1 | 0xf5091dc7e0759ab7eacf20461704ca79ed694979 |          26117    |\n",
      "+--------+--------------------------------------------+-------------------+\n",
      "|      2 | 0x6183b00ecc06d9333e001369753b689b073e3567 |          13221.5  |\n",
      "+--------+--------------------------------------------+-------------------+\n",
      "|      3 | 0x95a139cf31440a48f99517d07b4d6f0a26abbdff |           8230.95 |\n",
      "+--------+--------------------------------------------+-------------------+\n",
      "|      4 | 0xe1acb40d81fa88a40af5f77deaabb2371fe55a4a |           7965.05 |\n",
      "+--------+--------------------------------------------+-------------------+\n",
      "|      5 | 0x89d9acef221382dd089c5b7e5d464f45eedbbce7 |           6874.31 |\n",
      "+--------+--------------------------------------------+-------------------+\n",
      "|      6 | 0xe7997def4718487761233690fc058322f268dc16 |           6505.71 |\n",
      "+--------+--------------------------------------------+-------------------+\n",
      "|      7 | 0xb27698d18b6455dd6849be5b9a0c61f91f8f9fc0 |              0    |\n",
      "+--------+--------------------------------------------+-------------------+\n",
      "|      8 | 0x85e768f436406bdbf3613e42d124229b017e25eb |           6381.07 |\n",
      "+--------+--------------------------------------------+-------------------+\n",
      "|      9 | 0xe42cfe866b1111fb55622608acc0d49840b2de70 |          66489.4  |\n",
      "+--------+--------------------------------------------+-------------------+\n",
      "\n",
      "Median Portfolio Value: 8098.0\n"
     ]
    }
   ],
   "source": [
    "tokenAddress = '0x02e7f808990638e9e67e1f00313037ede2362361'\n",
    "tokenName = 'kibshi'\n",
    "\n",
    "print_balance_top_n(cov_api,tokenAddress,tokenName,chainName,date,n=10)"
   ]
  },
  {
   "cell_type": "code",
   "execution_count": null,
   "metadata": {},
   "outputs": [
    {
     "name": "stdout",
     "output_type": "stream",
     "text": [
      "Printing out portfolio value of top 50 holders of tyrion on 2023-10-25:\n",
      "+--------+--------------------------------------------+-------------------+\n",
      "|   Rank | Address                                    |   Portfolio Value |\n",
      "+========+============================================+===================+\n",
      "|      0 | 0x798f580905ce3f751800c7e9cde3d1712a182e49 |       2.75291e+06 |\n",
      "+--------+--------------------------------------------+-------------------+\n",
      "|      1 | 0xf61398c574965ba419d30dacbd019ec85a4b84ec |  600219           |\n",
      "+--------+--------------------------------------------+-------------------+\n",
      "|      2 | 0x5fe638845642444a9090abfde0dc3c602945a348 |  194635           |\n",
      "+--------+--------------------------------------------+-------------------+\n",
      "|      3 | 0x3f74c65ce2bbf212016a51322dee0d9d95d61709 |   44016.8         |\n",
      "+--------+--------------------------------------------+-------------------+\n",
      "|      4 | 0x0a33555d37a423bc38d5188de9fd2c60976cbcfd |   21118.3         |\n",
      "+--------+--------------------------------------------+-------------------+\n",
      "|      5 | 0xbb2314d60bc69ff8ec5b542952ba138eb8124e4b |   24988.8         |\n",
      "+--------+--------------------------------------------+-------------------+\n",
      "|      6 | 0xecd0aed2a07f1574af8059c1cfd9b2aa83b641c9 |   17978.8         |\n",
      "+--------+--------------------------------------------+-------------------+\n",
      "|      7 | 0xf6fba1c04cb7a74a9d08703c0a0df6b2dae25d40 |   18819.1         |\n",
      "+--------+--------------------------------------------+-------------------+\n",
      "|      8 | 0x588ef1baee78d1152ede8744497b3caeb9e125d3 |   16937.8         |\n",
      "+--------+--------------------------------------------+-------------------+\n",
      "|      9 | 0x37827e9c6297542fbd5b1d0891260cd7386f3012 |   15104.9         |\n",
      "+--------+--------------------------------------------+-------------------+\n",
      "|     10 | 0x10ead0a3eadda9b1fb031e18f3b83ee44dd07611 |   13170.7         |\n",
      "+--------+--------------------------------------------+-------------------+\n",
      "|     11 | 0xd2b8ea2f32effd8a1371051805fe4cf58bd56623 |   18503.1         |\n",
      "+--------+--------------------------------------------+-------------------+\n",
      "|     12 | 0x73411ee08ae4368a0cc09daed6aefa89cf652ac7 |       0           |\n",
      "+--------+--------------------------------------------+-------------------+\n",
      "|     13 | 0x14439dbe3eacf79d66d11d866a38fff52fe67fac |  195872           |\n",
      "+--------+--------------------------------------------+-------------------+\n",
      "|     14 | 0x9ecad9d9d3ed0938cc3b84732d3ffa8ece3a87c8 |  129903           |\n",
      "+--------+--------------------------------------------+-------------------+\n",
      "|     15 | 0x14be74a8266f3c78de03a2d36c42d84d001429ce |   21619           |\n",
      "+--------+--------------------------------------------+-------------------+\n",
      "|     16 | 0xdfd6a355876ab8e1579e0c8611f9ebc99789acac |    8892.32        |\n",
      "+--------+--------------------------------------------+-------------------+\n",
      "|     17 | 0x400d7154518559f5ca4e6a70307e367660fb2421 |    7748.9         |\n",
      "+--------+--------------------------------------------+-------------------+\n",
      "|     18 | 0xa614992c607ec29cde9c49c27aedb670dc4a28c2 |    8496.86        |\n",
      "+--------+--------------------------------------------+-------------------+\n",
      "|     19 | 0x49df75d3d89215e305355950c8e10dac0f6ca0ba |  376462           |\n",
      "+--------+--------------------------------------------+-------------------+\n",
      "|     20 | 0xb4f1952f564747011da69edcb19c02c6860c57e0 |    5762.56        |\n",
      "+--------+--------------------------------------------+-------------------+\n",
      "|     21 | 0xc3c0755031fda7dcb8b8af0ac2e58e34b78df3a8 |    6076.45        |\n",
      "+--------+--------------------------------------------+-------------------+\n",
      "|     22 | 0x26ae7a4095c7286e3836a791ed8f3f062f87c1b0 |   12404.9         |\n",
      "+--------+--------------------------------------------+-------------------+\n",
      "|     23 | 0xd86c7d48d07f3be6a163e6c49bf4ce0ef543662b |  186582           |\n",
      "+--------+--------------------------------------------+-------------------+\n",
      "|     24 | 0x4ff1aa01b1772b090d7ec84e2e4c0fa01f442e18 |       0           |\n",
      "+--------+--------------------------------------------+-------------------+\n",
      "|     25 | 0x9c17c9bf68ca1a3feedb8d684c6344ff6ba1c59f |    4509.03        |\n",
      "+--------+--------------------------------------------+-------------------+\n",
      "|     26 | 0x28e0d130363b465e0ea6ee7730d27698bc4db610 |    6351.66        |\n",
      "+--------+--------------------------------------------+-------------------+\n",
      "|     27 | 0xf2ca196263d92a9e84cbcefa365f29cd72e1daed |    6500.48        |\n",
      "+--------+--------------------------------------------+-------------------+\n",
      "|     28 | 0x074cd98914b337c5c90cd6f5ae594380351ef149 |  253909           |\n",
      "+--------+--------------------------------------------+-------------------+\n",
      "|     29 | 0xac50a7309cabf0e4d45d73b95d71af2e6fe08962 |    4928.01        |\n",
      "+--------+--------------------------------------------+-------------------+\n",
      "|     30 | 0xf8e2c98324cc51916c630d7afed76e86906cb265 |   88484.8         |\n",
      "+--------+--------------------------------------------+-------------------+\n",
      "|     31 | 0x292132ae7283f7ec7b82afed06c235bca864748a |   24979           |\n",
      "+--------+--------------------------------------------+-------------------+\n",
      "|     32 | 0x4f204c959512ab502ea04f6584fc1dcc8933499c |      23.6698      |\n",
      "+--------+--------------------------------------------+-------------------+\n",
      "|     33 | 0x6a435bb223781aec18b36530c6b49518f9ee1093 |    5617.05        |\n",
      "+--------+--------------------------------------------+-------------------+\n",
      "|     34 | 0x84685aaf3281ff674941d6a7c3e897cf487fde21 |    5602.8         |\n",
      "+--------+--------------------------------------------+-------------------+\n",
      "|     35 | 0x778a890b9449d449ff821a417342f229cd577925 |   94754.2         |\n",
      "+--------+--------------------------------------------+-------------------+\n",
      "|     36 | 0xe1b0a9a0fea98c085e1587ef91d09f7b1d6379df |    6054.32        |\n",
      "+--------+--------------------------------------------+-------------------+\n",
      "|     37 | 0x4701ba27d8c579fe8560aea152ec809ecf5fd6db |   15532.5         |\n",
      "+--------+--------------------------------------------+-------------------+\n",
      "|     38 | 0x24d1479ae2daaf0ae539b69b72ce3e034e3e4822 |    4391.19        |\n",
      "+--------+--------------------------------------------+-------------------+\n",
      "|     39 | 0xf53de57804189993866fd0e913c8a364d7fd77c6 |    5443.05        |\n",
      "+--------+--------------------------------------------+-------------------+\n",
      "|     40 | 0x737054485d544d63f298e5323946d5b961cb4bbf |    4965.25        |\n",
      "+--------+--------------------------------------------+-------------------+\n",
      "|     41 | 0x37e8466c7214289036316e70a6fc85dc749bca3e |   31135.1         |\n",
      "+--------+--------------------------------------------+-------------------+\n",
      "|     42 | 0xe94c8721a23d13874474060951c91c9ea9e10985 |   65636.2         |\n",
      "+--------+--------------------------------------------+-------------------+\n",
      "|     43 | 0xdd182a258dc93b08ca5f4708d54659dbc1839d00 |   10737           |\n",
      "+--------+--------------------------------------------+-------------------+\n",
      "|     44 | 0xdf31685465ddf564c111f3ddc3fc9043d9eb8552 |   40509.2         |\n",
      "+--------+--------------------------------------------+-------------------+\n",
      "|     45 | 0x55df47a635c18e923d2fb2d82dceefee5ef4a3f4 |       1.42103     |\n",
      "+--------+--------------------------------------------+-------------------+\n",
      "|     46 | 0xc6d76ff64fc1d39a81a36eb055c77315548c3155 |   37453.9         |\n",
      "+--------+--------------------------------------------+-------------------+\n",
      "|     47 | 0x5e420cbb7998703af67b6411c549eb6e873377da |    4644.17        |\n",
      "+--------+--------------------------------------------+-------------------+\n",
      "|     48 | 0x1908b3e9a752f0493f15420822edf95ad25889ab |    4316.98        |\n",
      "+--------+--------------------------------------------+-------------------+\n",
      "|     49 | 0x01467c420df8d9556fe5dbbf02b0c25c42226558 |   59639.1         |\n",
      "+--------+--------------------------------------------+-------------------+\n",
      "\n",
      "Median Portfolio Value: 15318.738573696286\n"
     ]
    }
   ],
   "source": [
    "tokenAddress = '0x5e27e384acbba20982f991893b9970aaf3f43181'\n",
    "tokenName = 'tyrion'\n",
    "\n",
    "print_balance_top_n(cov_api,tokenAddress,tokenName,chainName,date,n=50)"
   ]
  },
  {
   "cell_type": "code",
   "execution_count": null,
   "metadata": {},
   "outputs": [
    {
     "name": "stdout",
     "output_type": "stream",
     "text": [
      "2023-12-06\n"
     ]
    }
   ],
   "source": [
    "from datetime import datetime\n",
    "\n",
    "today = datetime.now().strftime('%Y-%m-%d')\n",
    "print(today)\n"
   ]
  },
  {
   "cell_type": "code",
   "execution_count": null,
   "metadata": {},
   "outputs": [
    {
     "data": {
      "text/plain": [
       "datetime.datetime"
      ]
     },
     "execution_count": 26,
     "metadata": {},
     "output_type": "execute_result"
    }
   ],
   "source": [
    "datetime"
   ]
  },
  {
   "cell_type": "code",
   "execution_count": null,
   "metadata": {},
   "outputs": [
    {
     "name": "stdout",
     "output_type": "stream",
     "text": [
      "Printing out portfolio value of top 10 holders of gene on 2023-12-09:\n",
      "+--------+--------------------------------------------+-------------------+\n",
      "|   Rank | Address                                    |   Portfolio Value |\n",
      "+========+============================================+===================+\n",
      "|      0 | 0xa3a7b6f88361f48403514059f1f16c8e78d60eec |       1.13271e+09 |\n",
      "+--------+--------------------------------------------+-------------------+\n",
      "|      1 | 0x40ec5b33f54e0e8a33a975908c5ba1c14e5bbbdf |       2.51032e+09 |\n",
      "+--------+--------------------------------------------+-------------------+\n",
      "|      2 | 0xd53c79ff8c473bbfe4e40e5525d4d24fd4b8534c |  923602           |\n",
      "+--------+--------------------------------------------+-------------------+\n",
      "|      3 | 0xa9b5880d1c130a7bb0293e17ed729c6a4d70db32 |  637028           |\n",
      "+--------+--------------------------------------------+-------------------+\n",
      "|      4 | 0x0eb21ed8543789c79bed81d85b13ea31e7ac805b |  602968           |\n",
      "+--------+--------------------------------------------+-------------------+\n",
      "|      5 | 0xa017e4cf380c5fdc372463f3330853500b4b3cb9 |  262325           |\n",
      "+--------+--------------------------------------------+-------------------+\n",
      "|      6 | 0xa9966025816c490dffe18b5c58818ec14e0ce5da |  302656           |\n",
      "+--------+--------------------------------------------+-------------------+\n",
      "|      7 | 0x5e6f5784bdf1339971edc12ec033957ada47e433 |  111034           |\n",
      "+--------+--------------------------------------------+-------------------+\n",
      "|      8 | 0x190e018817732cf10cbeaa6285c444c241b4276a |  544885           |\n",
      "+--------+--------------------------------------------+-------------------+\n",
      "|      9 | 0xe3a172dd63e9766c4f7524c7d210963264ce91a5 |  549145           |\n",
      "+--------+--------------------------------------------+-------------------+\n",
      "\n",
      "Median Portfolio Value: 576056.5512097073\n"
     ]
    }
   ],
   "source": [
    "tokenAddress = '0x02e7f808990638e9e67e1f00313037ede2362361'\n",
    "tokenName = 'kibshi'\n",
    "date  = datetime.now().strftime('%Y-%m-%d')\n",
    "\n",
    "print_balance_top_n(cov_api,tokenAddress,tokenName,chainName,date,n=10)"
   ]
  },
  {
   "cell_type": "code",
   "execution_count": null,
   "metadata": {},
   "outputs": [],
   "source": [
    "0x7f9b09f4717072cf4dc18b95d1b09e2b30c76790"
   ]
  },
  {
   "cell_type": "code",
   "execution_count": null,
   "metadata": {},
   "outputs": [
    {
     "data": {
      "text/plain": [
       "167.15551989039997"
      ]
     },
     "execution_count": 15,
     "metadata": {},
     "output_type": "execute_result"
    }
   ],
   "source": [
    "#Possible bug\n",
    "_address = '0x5b3e022dcd0b3151b6235b561230510c096c6b11'\n",
    "wallet_list = [{'address': _address}]\n",
    "date = '2023-10-25'\n",
    "token_holders = cov_api.get_holders_portfolios(wallet_list=wallet_list, chainName=chainName, date=date)\n",
    "\n",
    "token_holders[0]['portfolio_sum']"
   ]
  }
 ],
 "metadata": {
  "kernelspec": {
   "display_name": "ether_crypto",
   "language": "python",
   "name": "python3"
  },
  "language_info": {
   "codemirror_mode": {
    "name": "ipython",
    "version": 3
   },
   "file_extension": ".py",
   "mimetype": "text/x-python",
   "name": "python",
   "nbconvert_exporter": "python",
   "pygments_lexer": "ipython3",
   "version": "3.10.9"
  }
 },
 "nbformat": 4,
 "nbformat_minor": 2
}
