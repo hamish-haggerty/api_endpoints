{
 "cells": [
  {
   "cell_type": "markdown",
   "metadata": {},
   "source": [
    "# moralis_api\n",
    "\n",
    "> Endpoints for the `moralis` api."
   ]
  },
  {
   "cell_type": "code",
   "execution_count": null,
   "metadata": {},
   "outputs": [],
   "source": [
    "#|default_exp moralis_api"
   ]
  },
  {
   "cell_type": "code",
   "execution_count": null,
   "metadata": {},
   "outputs": [],
   "source": [
    "#| hide\n",
    "from nbdev.showdoc import *"
   ]
  },
  {
   "cell_type": "code",
   "execution_count": null,
   "metadata": {},
   "outputs": [],
   "source": [
    "#| export\n",
    "\n",
    "from api_endpoints.etherscan_api import *\n",
    "import time \n",
    "from moralis import evm_api\n",
    "from openapi_evm_api.exceptions import ApiException\n",
    "import json"
   ]
  },
  {
   "cell_type": "code",
   "execution_count": null,
   "metadata": {},
   "outputs": [],
   "source": [
    "#| export\n",
    "\n",
    "import os\n",
    "from dotenv import load_dotenv\n",
    "load_dotenv()\n",
    "moralis_api_key = os.environ.get('moralis_api_key')"
   ]
  },
  {
   "cell_type": "code",
   "execution_count": null,
   "metadata": {},
   "outputs": [],
   "source": [
    "#| export\n",
    "\n",
    "import logging\n",
    "#logging.getLogger().setLevel(logging.INFO)\n",
    "\n",
    "logging.getLogger().setLevel(logging.WARNING)\n"
   ]
  },
  {
   "cell_type": "code",
   "execution_count": null,
   "metadata": {},
   "outputs": [],
   "source": [
    "#| export\n",
    "\n",
    "# def setup_price_cache(filename=\"../data/token_price_cache.json\"):\n",
    "#     \"\"\"Initialize or reset the token price cache JSON file.\"\"\"\n",
    "#     empty_cache = {}\n",
    "#     with open(filename, 'w') as f:\n",
    "#         json.dump(empty_cache, f, indent=4)\n",
    "\n",
    "# Uncomment the above function if you need to use it\n",
    "# setup_price_cache()\n",
    "\n",
    "class PriceFetcher:\n",
    "    def __init__(self, etherscan_api_key, moralis_api_key, cache_filename=\"../data/token_price_cache.json\"):\n",
    "        self.cache_filename = cache_filename\n",
    "        self.etherscan_api_key = etherscan_api_key\n",
    "        self.moralis_api_key = moralis_api_key\n",
    "        \n",
    "        blockfetcher = BlockFetcher(self.etherscan_api_key)\n",
    "        self.get_block_for_date = blockfetcher.get_block_for_date\n",
    "        \n",
    "        self.load_cache()\n",
    "\n",
    "    def load_cache(self):\n",
    "        try:\n",
    "            with open(self.cache_filename, 'r') as f:\n",
    "                self.cache = json.load(f)\n",
    "        except FileNotFoundError:\n",
    "            self.cache = {}\n",
    "\n",
    "    def save_cache(self):\n",
    "        with open(self.cache_filename, 'w') as f:\n",
    "            json.dump(self.cache, f, indent=4)\n",
    "\n",
    "    def get_token_price_on_date(self, date, tokenAddress):\n",
    "        start_time = time.time()\n",
    "        cache_key = f\"{date}_{tokenAddress}\"\n",
    "\n",
    "        if cache_key in self.cache:\n",
    "            cached_value = self.cache[cache_key]\n",
    "\n",
    "            if cached_value == \"API_ERROR\":\n",
    "                return None\n",
    "\n",
    "            return cached_value\n",
    "\n",
    "        pre_block_time = time.time()\n",
    "        block_number = self.get_block_for_date(date)\n",
    "        logging.info('Block fetching time: %s', time.time() - pre_block_time)\n",
    "\n",
    "        if block_number is None:\n",
    "            logging.info(f\"Could not find block number for date {date}.\")\n",
    "            self.cache[cache_key] = \"NO_DATA\"\n",
    "            self.save_cache()\n",
    "            return None\n",
    "        \n",
    "        params = {\n",
    "            \"chain\": \"eth\",\n",
    "            \"include\": \"percent_change\",\n",
    "            \"address\": tokenAddress,\n",
    "            \"to_block\": float(block_number),\n",
    "        }\n",
    "\n",
    "        try:\n",
    "            result = evm_api.token.get_token_price(\n",
    "                api_key=self.moralis_api_key,\n",
    "                params=params,\n",
    "            )\n",
    "            price = result['usdPrice']\n",
    "            logging.info('API call time: %s', time.time() - pre_block_time)\n",
    "\n",
    "            # Update the cache with the fetched price\n",
    "            self.cache[cache_key] = price\n",
    "            self.save_cache()  # Save cache after updating\n",
    "            logging.info('Total function time: %s', time.time() - start_time)\n",
    "            return price\n",
    "\n",
    "        except ApiException:\n",
    "            logging.error(f\"ApiException occurred while fetching price for token {tokenAddress} on date {date}. It's possible the API did not find the token or encountered other issues.\")\n",
    "            self.cache[cache_key] = \"API_ERROR\"\n",
    "            self.save_cache()  # Save cache after updating\n",
    "            return None\n",
    "        except Exception as e:\n",
    "            logging.error(f\"An unexpected error occurred while fetching price for token {tokenAddress} on date {date}: {str(e)}\")\n",
    "            self.cache[cache_key] = \"NO_DATA\"\n",
    "            self.save_cache()\n",
    "            return None\n"
   ]
  },
  {
   "cell_type": "markdown",
   "metadata": {},
   "source": [
    "How to use `PriceFetcher`"
   ]
  },
  {
   "cell_type": "code",
   "execution_count": null,
   "metadata": {},
   "outputs": [
    {
     "data": {
      "text/plain": [
       "9.745174815e-05"
      ]
     },
     "execution_count": null,
     "metadata": {},
     "output_type": "execute_result"
    }
   ],
   "source": [
    "#| hide\n",
    "\n",
    "#When cached, really fast\n",
    "date = \"2023-10-05\"\n",
    "tokenAddress = '0xae8627a4b3ec2c79c0c2971369482f004165a70b' #baconator, which `covalent` originally didn't succeed in getting `quote` for\n",
    "\n",
    "price_fetcher = PriceFetcher(etherscan_api_key=etherscan_api_key, moralis_api_key=moralis_api_key)\n",
    "price_fetcher.get_token_price_on_date(date=date, tokenAddress=tokenAddress)\n"
   ]
  },
  {
   "cell_type": "markdown",
   "metadata": {},
   "source": [
    "Alright, I guess we need to make this as fast as possible, or workout why it is slow...."
   ]
  },
  {
   "cell_type": "markdown",
   "metadata": {},
   "source": [
    "ONE THING WE CAN DO is to get all the prices for a token at once."
   ]
  },
  {
   "cell_type": "code",
   "execution_count": null,
   "metadata": {},
   "outputs": [],
   "source": [
    "#| export\n",
    "import datetime\n",
    "\n",
    "def get_all_prices(tokenAddress:str,etherscan_api_key:str,moralis_api_key:str):\n",
    "    \"Get all prices for a token from inception to current date. So one price per day.\"\n",
    "\n",
    "    #Alright. Let's get all the prices since inception for hpbitcoin.  \n",
    "    #tokenAddress = '0x72e4f9f808c49a2a61de9c5896298920dc4eeea9' #hpbitcoin\n",
    "    price_fetcher = PriceFetcher(etherscan_api_key=etherscan_api_key, moralis_api_key=moralis_api_key)\n",
    "\n",
    "    #Step 1): Get the creation date of the token.\n",
    "    _creation_date = get_creation_date(contract_address=tokenAddress,api_key=etherscan_api_key)\n",
    "    _creation_date = _creation_date.split(\" \")[0]\n",
    "    #print(f\"Creation date: {_creation_date}\")\n",
    "\n",
    "    #Get all dates from then until now:\n",
    "    dates_list = generate_dates_between(_creation_date, datetime.now().strftime(\"%Y-%m-%d\"))\n",
    "    #print(f\"Number of dates: {len(dates_list)}\")\n",
    "    #print(f\"First date: {dates_list[0]} | Last date: {dates_list[-1]}\")\n",
    "\n",
    "    for date in dates_list:\n",
    "        price=price_fetcher.get_token_price_on_date(date=date, tokenAddress=tokenAddress)\n",
    "        #print(f\"The price of token on {date} was {price}\")\n",
    "\n"
   ]
  },
  {
   "cell_type": "code",
   "execution_count": null,
   "metadata": {},
   "outputs": [],
   "source": [
    "#| hide\n",
    "\n",
    "# #dates = generate_dates_from_year(2014)\n",
    "\n",
    "# import logging\n",
    "# logging.getLogger().setLevel(logging.INFO)\n",
    "# #logging.getLogger().setLevel(logging.WARNING)\n",
    "\n",
    "# date = dates[-11]\n",
    "# tokenAddress = '0x72e4f9f808c49a2a61de9c5896298920dc4eeea9' #hpbitcoin\n",
    "\n",
    "# price_fetcher = PriceFetcher(etherscan_api_key=etherscan_api_key, moralis_api_key=moralis_api_key)\n",
    "# price_fetcher.get_token_price_on_date(date=date, tokenAddress=tokenAddress)\n"
   ]
  },
  {
   "cell_type": "code",
   "execution_count": null,
   "metadata": {},
   "outputs": [],
   "source": [
    "#| hide\n",
    "import nbdev; nbdev.nbdev_export()"
   ]
  }
 ],
 "metadata": {
  "kernelspec": {
   "display_name": "ether_crypto",
   "language": "python",
   "name": "python3"
  }
 },
 "nbformat": 4,
 "nbformat_minor": 2
}
