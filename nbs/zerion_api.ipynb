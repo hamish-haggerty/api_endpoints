{
 "cells": [
  {
   "cell_type": "markdown",
   "metadata": {},
   "source": [
    "# zerion_api\n",
    "\n",
    "> Endpoints for the `zerion` api."
   ]
  },
  {
   "cell_type": "code",
   "execution_count": null,
   "metadata": {},
   "outputs": [],
   "source": [
    "#|default_exp zerion_api"
   ]
  },
  {
   "cell_type": "code",
   "execution_count": null,
   "metadata": {},
   "outputs": [],
   "source": [
    "#| hide\n",
    "from nbdev.showdoc import *"
   ]
  },
  {
   "cell_type": "markdown",
   "metadata": {},
   "source": [
    "**Functionality:**\n",
    "\n",
    "`get_portfolio_value`\n",
    "\n",
    "Get the value of an address in USD. At the moment just at latest time.\n",
    "\n",
    "`get_wallet_positions`\n",
    "\n",
    "Get the portfolio of an address (i.e. all the positions). At the moment just at latest time.\n",
    "\n",
    "`get_chart`\n",
    "\n",
    "Can use to get the historical prices of an asset.\n",
    "\n",
    "`token_address_to_prices`\n",
    "\n",
    "Use to extract a dictionary of `dates:prices` given an address."
   ]
  },
  {
   "cell_type": "code",
   "execution_count": null,
   "metadata": {},
   "outputs": [],
   "source": [
    "#| export\n",
    "\n",
    "import json\n",
    "import requests\n",
    "import os\n",
    "from dotenv import load_dotenv\n",
    "load_dotenv()\n",
    "\n",
    "ZERION_AUTH = os.environ.get('zerion_auth')"
   ]
  },
  {
   "cell_type": "code",
   "execution_count": null,
   "metadata": {},
   "outputs": [],
   "source": [
    "#| hide\n",
    "\n",
    "_address = '0x7364a0f792e073814B426c918bf72792575b6c18'"
   ]
  },
  {
   "cell_type": "code",
   "execution_count": null,
   "metadata": {},
   "outputs": [
    {
     "name": "stdout",
     "output_type": "stream",
     "text": [
      "Portfolio value according to zerion is: 141.11988657032236\n"
     ]
    }
   ],
   "source": [
    "#| export\n",
    "\n",
    "def get_portfolio_value(address:str):\n",
    "    \"\"\"Get the total value of a portfolio in USD\"\"\"\n",
    "    #TODO: Obviously need to complete docstring etc, but we can leave as vague for now; unclear if we will\n",
    "    #e.g. wrap in class etc.\n",
    "\n",
    "    #API docs: https://developers.zerion.io/reference/getwalletportfolio\n",
    "\n",
    "    #COMMENT: note that the docs have some nice info about different responses, e.g. 202 etc. This may be useful later on.\n",
    "\n",
    "    url = f\"https://api.zerion.io/v1/wallets/{address}/portfolio?currency=usd\"\n",
    "\n",
    "    headers = {\n",
    "        \"accept\": \"application/json\",\n",
    "        \"authorization\": ZERION_AUTH\n",
    "    }\n",
    "\n",
    "    response = requests.get(url, headers=headers)\n",
    "\n",
    "    return response.json()\n",
    "\n",
    "# if __name__ == '__main__':\n",
    "#     _dict = get_portfolio_value(_address)\n",
    "#     print(f\"Portfolio value according to zerion is: {_dict['data']['attributes']['positions_distribution_by_type']['wallet']}\")\n"
   ]
  },
  {
   "cell_type": "markdown",
   "metadata": {},
   "source": [
    "Kinda complicated to key-index in, but we can use for debugging etc. Anyway..."
   ]
  },
  {
   "cell_type": "markdown",
   "metadata": {},
   "source": [
    "Next, get list of wallets positions:"
   ]
  },
  {
   "cell_type": "code",
   "execution_count": null,
   "metadata": {},
   "outputs": [],
   "source": [
    "#| export\n",
    "\n",
    "def get_wallet_positions(address:str, \n",
    "                         position_types:list[str]=None,\n",
    "                         protocol_ids:list[str]=None,\n",
    "                         fungible_ids:list[str]=None,\n",
    "                         currency:str='usd'):\n",
    "    \"\"\"This endpoint returns a list of wallet positions.\n",
    "    \n",
    "        API docs: https://developers.zerion.io/reference/listwalletpositions\n",
    "    \"\"\" \n",
    "\n",
    "    position_types_str = ''\n",
    "    protocol_ids_str = ''\n",
    "    fungible_ids_str = ''\n",
    "    \n",
    "    if position_types:\n",
    "        position_types_str = f\"filter[position_types]={','.join(position_types)}&\"\n",
    "    if protocol_ids:\n",
    "        protocol_ids_str = f\"filter[protocol_ids]={','.join(protocol_ids)}&\"\n",
    "    if fungible_ids:\n",
    "        fungible_ids_str = f\"filter[fungible_ids]={','.join(fungible_ids)}&\"\n",
    "\n",
    "    url = f\"https://api.zerion.io/v1/wallets/{address}/positions/?currency={currency}&{position_types_str}{protocol_ids_str}{fungible_ids_str}filter[trash]=only_non_trash&sort=value\"\n",
    "\n",
    "  \n",
    "    headers = {\n",
    "        \"accept\": \"application/json\",\n",
    "        \"authorization\": ZERION_AUTH\n",
    "              }\n",
    "\n",
    "    response = requests.get(url, headers=headers)\n",
    "\n",
    "\n",
    "    return response.json() \n",
    "\n",
    "# #This is mostly to help prototyping below, perhaps we will put its own cell explaining \"how to use\" eventually\n",
    "# if __name__ == '__main__':\n",
    "\n",
    "#     _dict = get_wallet_positions(_address)\n",
    "#     _portfolio = [_dict['data'][i]['attributes'] for i in range(len(_dict['data']))]\n",
    "#     print(f\"First item in portfolio is: {_portfolio[0]}\")\n",
    "#     print('Note that there is other information in the _dict object:\\n')\n",
    "#     for k,v in _dict['data'][0].items():\n",
    "#         print(f\"\\tKey type is: {type(k)}, Value type is: {type(v)}\")\n",
    "#         print(f\"\\tKey: {k}, Value: {v}\\n\")\n",
    "\n"
   ]
  },
  {
   "cell_type": "markdown",
   "metadata": {},
   "source": [
    "Alright, let's work out how to extract the data that we need:"
   ]
  },
  {
   "cell_type": "code",
   "execution_count": null,
   "metadata": {},
   "outputs": [],
   "source": [
    "# print(f\"The name of first guy in portfolio is: {_portfolio[0]['fungible_info']['name']}\")\n",
    "# print(f\"The symbol of first guy in portfolio is: {_portfolio[0]['fungible_info']['symbol']}\")\n",
    "# print(f\"The value of first guy in portfolio is: {_portfolio[0]['value']}\")"
   ]
  },
  {
   "cell_type": "code",
   "execution_count": null,
   "metadata": {},
   "outputs": [],
   "source": [
    "# #Simple test: summing portfolio value should get same result as earlier call\n",
    "\n",
    "# none_to_zero = lambda x: 0 if x is None else x\n",
    "\n",
    "# sum([none_to_zero(asset['value']) for asset in _portfolio])\n",
    "\n",
    "# #Ok, it is fairly close, but not exactly the same. A bit annoying but ok for now...\n",
    "# #1122.864752311196"
   ]
  },
  {
   "cell_type": "markdown",
   "metadata": {},
   "source": [
    "Get \"chart\" for fungible asset"
   ]
  },
  {
   "cell_type": "code",
   "execution_count": null,
   "metadata": {},
   "outputs": [],
   "source": [
    "#| export\n",
    "\n",
    "def get_chart(address:str,period:str='max',currency:str='usd'):\n",
    "    \"\"\"The 'charts' endpoint in the Zerion API allows users to retrieve a chart for a specific fungible asset.\n",
    "        `period` may be any of: 'max','hour', 'day', 'week', 'month', 'year'.\n",
    "\n",
    "        API docs: https://developers.zerion.io/reference/getfungiblechart\n",
    "    \n",
    "    \"\"\"\n",
    "\n",
    "    url = f\"https://api.zerion.io/v1/fungibles/{address}/charts/{period}?currency={currency}\"\n",
    "\n",
    "    headers = {\n",
    "        \"accept\": \"application/json\",\n",
    "        \"authorization\": ZERION_AUTH\n",
    "              }\n",
    "\n",
    "\n",
    "    response = requests.get(url, headers=headers)\n",
    "    return response.json()\n",
    "\n"
   ]
  },
  {
   "cell_type": "code",
   "execution_count": null,
   "metadata": {},
   "outputs": [],
   "source": [
    "#from api_endpoints.etherscan_api import *\n",
    "#blockfetcher = BlockFetcher(etherscan_api_key=etherscan_api_key)\n",
    "#blockfetcher.get_block_for_date(_dict['data']['attributes']['begin_at'].split('T')[0])"
   ]
  },
  {
   "cell_type": "markdown",
   "metadata": {},
   "source": [
    "We now have historical prices and can extract:"
   ]
  },
  {
   "cell_type": "code",
   "execution_count": null,
   "metadata": {},
   "outputs": [],
   "source": [
    "#| export\n",
    "\n",
    "import datetime\n",
    "from collections import defaultdict\n",
    "\n",
    "def unix_timestamp_to_date(unix_timestamp):\n",
    "    return datetime.datetime.utcfromtimestamp(unix_timestamp).strftime('%Y/%m/%d')\n",
    "\n",
    "def timestamp_price_pairs_to_date_dict(points:list)->dict:\n",
    "    \"\"\"Inputs:\n",
    "            points: list of lists (pairs) where first coord is unix timestamp, second is price on that date.\n",
    "                    e.g. [1683788578, 0.00010605266543295529] \n",
    "       Outputs:\n",
    "                    dict where key is date string and value is price on that date.\n",
    "       Comment:\n",
    "                    The source code is basically self explanatory.      \n",
    "    \"\"\"\n",
    "\n",
    "    return {unix_timestamp_to_date(point[0]): point[1] for point in points}\n",
    "\n",
    "def timestamp_price_pairs_to_date(points:list)->list:\n",
    "    \"\"\"Inputs:\n",
    "            points: list of lists (pairs) where first coord is unix timestamp, second is price on that date.\n",
    "                    e.g. [1683788578, 0.00010605266543295529] \n",
    "       Outputs:\n",
    "                    list of lists (pairs) where first coord is date string, second is price on that date.\n",
    "                    e.g. ['2023/05/11', 0.00010605266543295529] \n",
    "       Comment:\n",
    "                    The source code is basically self explanatory.      \n",
    "    \"\"\"\n",
    "\n",
    "    return [[unix_timestamp_to_date(point[0]), point[1]] for point in points]\n",
    "\n",
    "def timestamp_price_pairs_to_avg_date_dict(points: list) -> dict:\n",
    "    \"\"\"Inputs:\n",
    "            points: list of lists (pairs) where first coord is unix timestamp, second is price on that date.\n",
    "                    e.g. [1683788578, 0.00010605266543295529] \n",
    "       Outputs:\n",
    "                    dict where key is the date string and value is the average price for that date.\n",
    "        \n",
    "    \"\"\"\n",
    "    \n",
    "    date_price_aggregator = defaultdict(lambda: {'sum': 0, 'count': 0})\n",
    "\n",
    "    for point in points:\n",
    "        date = unix_timestamp_to_date(point[0])\n",
    "        date_price_aggregator[date]['sum'] += point[1]\n",
    "        date_price_aggregator[date]['count'] += 1\n",
    "\n",
    "    return {date: data['sum']/data['count'] for date, data in date_price_aggregator.items()}\n",
    "\n",
    "\n",
    "def token_address_to_prices(address:str,period:str='max',currency:str='usd')->dict:\n",
    "    \"\"\"Wrapper function to get prices for a token address.\n",
    "        Inputs: \n",
    "                address: str, address of token\n",
    "        Outputs:\n",
    "                dict where key is date string and value is price on that date.\n",
    "\n",
    "        #TODO: This gets ALL the prices since origin to the current date. I guess we want to save this so\n",
    "          we can cache and save on API calls. \n",
    "    \"\"\"\n",
    "\n",
    "    _points = get_chart(address=address,period=period,currency=currency)['data']['attributes']['points']\n",
    "    date_to_price_dict = timestamp_price_pairs_to_date_dict(_points)\n",
    "\n",
    "    return date_to_price_dict\n"
   ]
  },
  {
   "cell_type": "code",
   "execution_count": null,
   "metadata": {},
   "outputs": [],
   "source": [
    "#| hide\n",
    "import nbdev; nbdev.nbdev_export()"
   ]
  }
 ],
 "metadata": {
  "kernelspec": {
   "display_name": "ether_crypto",
   "language": "python",
   "name": "python3"
  }
 },
 "nbformat": 4,
 "nbformat_minor": 2
}
