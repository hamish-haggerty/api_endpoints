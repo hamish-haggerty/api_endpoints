{
 "cells": [
  {
   "cell_type": "markdown",
   "metadata": {},
   "source": [
    "# zerion_api\n",
    "\n",
    "> Endpoints for the `zerion` api."
   ]
  },
  {
   "cell_type": "code",
   "execution_count": null,
   "metadata": {},
   "outputs": [],
   "source": [
    "#|default_exp zerion_api"
   ]
  },
  {
   "cell_type": "code",
   "execution_count": null,
   "metadata": {},
   "outputs": [],
   "source": [
    "#| hide\n",
    "from nbdev.showdoc import *"
   ]
  },
  {
   "cell_type": "code",
   "execution_count": null,
   "metadata": {},
   "outputs": [],
   "source": [
    "#| export\n",
    "\n",
    "import json\n",
    "import requests\n",
    "import os\n",
    "from dotenv import load_dotenv\n",
    "load_dotenv()\n",
    "\n",
    "ZERION_AUTH = os.environ.get('zerion_auth')"
   ]
  },
  {
   "cell_type": "code",
   "execution_count": null,
   "metadata": {},
   "outputs": [],
   "source": [
    "#| hide\n",
    "\n",
    "_address = '0x7364a0f792e073814B426c918bf72792575b6c18'"
   ]
  },
  {
   "cell_type": "code",
   "execution_count": null,
   "metadata": {},
   "outputs": [
    {
     "name": "stdout",
     "output_type": "stream",
     "text": [
      "Portfolio value according to zerion is: 1149.1539322754966\n"
     ]
    }
   ],
   "source": [
    "#| export\n",
    "\n",
    "def get_portfolio_value(address:str):\n",
    "    \"\"\"Get the total value of a portfolio in USD\"\"\"\n",
    "    #TODO: Obviously need to complete docstring etc, but we can leave as vague for now; unclear if we will\n",
    "    #e.g. wrap in class etc.\n",
    "\n",
    "    #API docs: https://developers.zerion.io/reference/getwalletportfolio\n",
    "\n",
    "    #COMMENT: note that the docs have some nice info about different responses, e.g. 202 etc. This may be useful later on.\n",
    "\n",
    "    url = f\"https://api.zerion.io/v1/wallets/{address}/portfolio?currency=usd\"\n",
    "\n",
    "    headers = {\n",
    "        \"accept\": \"application/json\",\n",
    "        \"authorization\": ZERION_AUTH\n",
    "    }\n",
    "\n",
    "    response = requests.get(url, headers=headers)\n",
    "\n",
    "    return response.json()\n",
    "\n",
    "if __name__ == '__main__':\n",
    "    _dict = get_portfolio_value(_address)\n",
    "    print(f\"Portfolio value according to zerion is: {_dict['data']['attributes']['positions_distribution_by_type']['wallet']}\")\n"
   ]
  },
  {
   "cell_type": "markdown",
   "metadata": {},
   "source": [
    "Kinda complicated to key-index in, but we can use for debugging etc. Anyway..."
   ]
  },
  {
   "cell_type": "code",
   "execution_count": null,
   "metadata": {},
   "outputs": [
    {
     "data": {
      "text/plain": [
       "'0x7364a0f792e073814B426c918bf72792575b6c18'"
      ]
     },
     "execution_count": null,
     "metadata": {},
     "output_type": "execute_result"
    }
   ],
   "source": [
    "_address"
   ]
  },
  {
   "cell_type": "markdown",
   "metadata": {},
   "source": [
    "Next, get list of wallets positions:"
   ]
  },
  {
   "cell_type": "code",
   "execution_count": null,
   "metadata": {},
   "outputs": [
    {
     "name": "stdout",
     "output_type": "stream",
     "text": [
      "First item in portfolio is: {'parent': None, 'protocol': None, 'name': 'Asset', 'position_type': 'wallet', 'quantity': {'int': '10642258892672793599819', 'decimals': 18, 'float': 10642.258892672793, 'numeric': '10642.258892672793599819'}, 'value': 900.09260780899, 'price': 0.084577214, 'changes': {'absolute_1d': 89.42581596472257, 'percent_1d': 11.031143358084128}, 'fungible_info': {'name': 'Revest', 'symbol': 'RVST', 'icon': {'url': 'https://token-icons.s3.amazonaws.com/0x120a3879da835a5af037bb2d1456bebd6b54d4ba.png'}, 'flags': {'verified': False}, 'implementations': [{'chain_id': 'ethereum', 'address': '0x120a3879da835a5af037bb2d1456bebd6b54d4ba', 'decimals': 18}]}, 'flags': {'displayable': True, 'is_trash': False}, 'updated_at': '2023-09-10T02:19:59Z', 'updated_at_block': 18102938}\n",
      "Note that there is other information in the _dict object:\n",
      "\n",
      "\tKey type is: <class 'str'>, Value type is: <class 'str'>\n",
      "\tKey: type, Value: positions\n",
      "\n",
      "\tKey type is: <class 'str'>, Value type is: <class 'str'>\n",
      "\tKey: id, Value: 0x120a3879da835a5af037bb2d1456bebd6b54d4ba-ethereum-asset\n",
      "\n",
      "\tKey type is: <class 'str'>, Value type is: <class 'dict'>\n",
      "\tKey: attributes, Value: {'parent': None, 'protocol': None, 'name': 'Asset', 'position_type': 'wallet', 'quantity': {'int': '10642258892672793599819', 'decimals': 18, 'float': 10642.258892672793, 'numeric': '10642.258892672793599819'}, 'value': 900.09260780899, 'price': 0.084577214, 'changes': {'absolute_1d': 89.42581596472257, 'percent_1d': 11.031143358084128}, 'fungible_info': {'name': 'Revest', 'symbol': 'RVST', 'icon': {'url': 'https://token-icons.s3.amazonaws.com/0x120a3879da835a5af037bb2d1456bebd6b54d4ba.png'}, 'flags': {'verified': False}, 'implementations': [{'chain_id': 'ethereum', 'address': '0x120a3879da835a5af037bb2d1456bebd6b54d4ba', 'decimals': 18}]}, 'flags': {'displayable': True, 'is_trash': False}, 'updated_at': '2023-09-10T02:19:59Z', 'updated_at_block': 18102938}\n",
      "\n",
      "\tKey type is: <class 'str'>, Value type is: <class 'dict'>\n",
      "\tKey: relationships, Value: {'chain': {'links': {'related': 'https://api.zerion.io/v1/chains/ethereum'}, 'data': {'type': 'chains', 'id': 'ethereum'}}, 'fungible': {'links': {'related': 'https://api.zerion.io/v1/fungibles/0x120a3879da835a5af037bb2d1456bebd6b54d4ba?currency=usd'}, 'data': {'type': 'fungibles', 'id': '0x120a3879da835a5af037bb2d1456bebd6b54d4ba'}}}\n",
      "\n"
     ]
    }
   ],
   "source": [
    "#| export\n",
    "\n",
    "def get_wallet_positions(address:str, \n",
    "                         position_types:list[str]=None,\n",
    "                         protocol_ids:list[str]=None,\n",
    "                         fungible_ids:list[str]=None,\n",
    "                         currency:str='usd'):\n",
    "    \"\"\"This endpoint returns a list of wallet positions.\n",
    "    \n",
    "        API docs: https://developers.zerion.io/reference/listwalletpositions\n",
    "    \"\"\" \n",
    "\n",
    "    position_types_str = ''\n",
    "    protocol_ids_str = ''\n",
    "    fungible_ids_str = ''\n",
    "    \n",
    "    if position_types:\n",
    "        position_types_str = f\"filter[position_types]={','.join(position_types)}&\"\n",
    "    if protocol_ids:\n",
    "        protocol_ids_str = f\"filter[protocol_ids]={','.join(protocol_ids)}&\"\n",
    "    if fungible_ids:\n",
    "        fungible_ids_str = f\"filter[fungible_ids]={','.join(fungible_ids)}&\"\n",
    "\n",
    "    url = f\"https://api.zerion.io/v1/wallets/{address}/positions/?currency={currency}&{position_types_str}{protocol_ids_str}{fungible_ids_str}filter[trash]=only_non_trash&sort=value\"\n",
    "\n",
    "  \n",
    "\n",
    "    headers = {\n",
    "        \"accept\": \"application/json\",\n",
    "        \"authorization\": ZERION_AUTH\n",
    "              }\n",
    "\n",
    "    response = requests.get(url, headers=headers)\n",
    "\n",
    "\n",
    "    return response.json() \n",
    "\n",
    "#This is mostly to help prototyping below, perhaps we will put its own cell explaining \"how to use\" eventually\n",
    "if __name__ == '__main__':\n",
    "\n",
    "    _dict = get_wallet_positions(_address)\n",
    "    _portfolio = [_dict['data'][i]['attributes'] for i in range(len(_dict['data']))]\n",
    "    print(f\"First item in portfolio is: {_portfolio[0]}\")\n",
    "    print('Note that there is other information in the _dict object:\\n')\n",
    "    for k,v in _dict['data'][0].items():\n",
    "        print(f\"\\tKey type is: {type(k)}, Value type is: {type(v)}\")\n",
    "        print(f\"\\tKey: {k}, Value: {v}\\n\")\n",
    "\n"
   ]
  },
  {
   "cell_type": "markdown",
   "metadata": {},
   "source": [
    "Alright, let's work out how to extract the data that we need:"
   ]
  },
  {
   "cell_type": "code",
   "execution_count": null,
   "metadata": {},
   "outputs": [
    {
     "name": "stdout",
     "output_type": "stream",
     "text": [
      "The name of first guy in portfolio is: Revest\n",
      "The symbol of first guy in portfolio is: RVST\n",
      "The value of first guy in portfolio is: 900.09260780899\n"
     ]
    }
   ],
   "source": [
    "print(f\"The name of first guy in portfolio is: {_portfolio[0]['fungible_info']['name']}\")\n",
    "print(f\"The symbol of first guy in portfolio is: {_portfolio[0]['fungible_info']['symbol']}\")\n",
    "print(f\"The value of first guy in portfolio is: {_portfolio[0]['value']}\")"
   ]
  },
  {
   "cell_type": "code",
   "execution_count": null,
   "metadata": {},
   "outputs": [
    {
     "data": {
      "text/plain": [
       "1149.1118605095696"
      ]
     },
     "execution_count": null,
     "metadata": {},
     "output_type": "execute_result"
    }
   ],
   "source": [
    "#Simple test: summing portfolio value should get same result as earlier call\n",
    "\n",
    "none_to_zero = lambda x: 0 if x is None else x\n",
    "\n",
    "sum([none_to_zero(asset['value']) for asset in _portfolio])\n",
    "\n",
    "#Ok, it is fairly close, but not exactly the same. A bit annoying but ok. \n",
    "#1122.864752311196"
   ]
  },
  {
   "cell_type": "markdown",
   "metadata": {},
   "source": [
    "Get \"chart\" for fungible asset"
   ]
  },
  {
   "cell_type": "code",
   "execution_count": null,
   "metadata": {},
   "outputs": [],
   "source": [
    "#| export\n",
    "\n",
    "def get_chart(address:str,period:str='max',currency:str='usd'):\n",
    "    \"\"\"The 'charts' endpoint in the Zerion API allows users to retrieve a chart for a specific fungible asset.\n",
    "        `period` may be any of: 'max','hour', 'day', 'week', 'month', 'year'.\n",
    "    \n",
    "    \"\"\"\n",
    "\n",
    "    url = f\"https://api.zerion.io/v1/fungibles/{address}/charts/{period}?currency={currency}\"\n",
    "\n",
    "    headers = {\n",
    "        \"accept\": \"application/json\",\n",
    "        \"authorization\": ZERION_AUTH\n",
    "              }\n",
    "\n",
    "\n",
    "    response = requests.get(url, headers=headers)\n",
    "    return response.json()\n",
    "\n"
   ]
  },
  {
   "cell_type": "markdown",
   "metadata": {},
   "source": [
    "How to use `get_chart`:"
   ]
  },
  {
   "cell_type": "code",
   "execution_count": null,
   "metadata": {},
   "outputs": [],
   "source": [
    "_tokenaddress = '0x72e4f9f808c49a2a61de9c5896298920dc4eeea9' #hpbitcoin\n",
    "_dict = get_chart(_tokenaddress)"
   ]
  },
  {
   "cell_type": "code",
   "execution_count": null,
   "metadata": {},
   "outputs": [
    {
     "data": {
      "text/plain": [
       "dict_keys(['begin_at', 'end_at', 'stats', 'points'])"
      ]
     },
     "execution_count": null,
     "metadata": {},
     "output_type": "execute_result"
    }
   ],
   "source": [
    "_dict['data']['attributes'].keys()"
   ]
  },
  {
   "cell_type": "markdown",
   "metadata": {},
   "source": [
    "We can get the `points` like this:"
   ]
  },
  {
   "cell_type": "code",
   "execution_count": null,
   "metadata": {},
   "outputs": [
    {
     "data": {
      "text/plain": [
       "[1683763114, 0.00010612811086547703]"
      ]
     },
     "execution_count": null,
     "metadata": {},
     "output_type": "execute_result"
    }
   ],
   "source": [
    "_points = _dict['data']['attributes']['points']\n",
    "_points[0]"
   ]
  },
  {
   "cell_type": "code",
   "execution_count": null,
   "metadata": {},
   "outputs": [],
   "source": [
    "#from api_endpoints.etherscan_api import *\n",
    "#blockfetcher = BlockFetcher(etherscan_api_key=etherscan_api_key)\n",
    "#blockfetcher.get_block_for_date(_dict['data']['attributes']['begin_at'].split('T')[0])"
   ]
  },
  {
   "cell_type": "markdown",
   "metadata": {},
   "source": [
    "We now have historical prices and can extract:"
   ]
  },
  {
   "cell_type": "code",
   "execution_count": null,
   "metadata": {},
   "outputs": [],
   "source": [
    "#| export\n",
    "\n",
    "import datetime\n",
    "from collections import defaultdict\n",
    "\n",
    "def unix_timestamp_to_date(unix_timestamp):\n",
    "    return datetime.datetime.utcfromtimestamp(unix_timestamp).strftime('%Y/%m/%d')\n",
    "\n",
    "def timestamp_price_pairs_to_date_dict(points:list)->dict:\n",
    "    \"\"\"Inputs:\n",
    "            points: list of lists (pairs) where first coord is unix timestamp, second is price on that date.\n",
    "                    e.g. [1683788578, 0.00010605266543295529] \n",
    "       Outputs:\n",
    "                    dict where key is date string and value is price on that date.\n",
    "       Comment:\n",
    "                    The source code is basically self explanatory.      \n",
    "    \"\"\"\n",
    "\n",
    "    return {unix_timestamp_to_date(point[0]): point[1] for point in points}\n",
    "\n",
    "def timestamp_price_pairs_to_date(points:list)->list:\n",
    "    \"\"\"Inputs:\n",
    "            points: list of lists (pairs) where first coord is unix timestamp, second is price on that date.\n",
    "                    e.g. [1683788578, 0.00010605266543295529] \n",
    "       Outputs:\n",
    "                    list of lists (pairs) where first coord is date string, second is price on that date.\n",
    "                    e.g. ['2023/05/11', 0.00010605266543295529] \n",
    "       Comment:\n",
    "                    The source code is basically self explanatory.      \n",
    "    \"\"\"\n",
    "\n",
    "    return [[unix_timestamp_to_date(point[0]), point[1]] for point in points]\n",
    "\n",
    "def timestamp_price_pairs_to_avg_date_dict(points: list) -> dict:\n",
    "    \"\"\"Inputs:\n",
    "            points: list of lists (pairs) where first coord is unix timestamp, second is price on that date.\n",
    "                    e.g. [1683788578, 0.00010605266543295529] \n",
    "       Outputs:\n",
    "                    dict where key is the date string and value is the average price for that date.\n",
    "        \n",
    "    \"\"\"\n",
    "    \n",
    "    date_price_aggregator = defaultdict(lambda: {'sum': 0, 'count': 0})\n",
    "\n",
    "    for point in points:\n",
    "        date = unix_timestamp_to_date(point[0])\n",
    "        date_price_aggregator[date]['sum'] += point[1]\n",
    "        date_price_aggregator[date]['count'] += 1\n",
    "\n",
    "    return {date: data['sum']/data['count'] for date, data in date_price_aggregator.items()}\n",
    "\n"
   ]
  },
  {
   "cell_type": "markdown",
   "metadata": {},
   "source": [
    "How to use: "
   ]
  },
  {
   "cell_type": "code",
   "execution_count": null,
   "metadata": {},
   "outputs": [
    {
     "name": "stdout",
     "output_type": "stream",
     "text": [
      "dict_keys(['2023/05/10', '2023/05/11', '2023/05/12', '2023/05/13', '2023/05/14', '2023/05/15', '2023/05/16', '2023/05/17', '2023/05/18', '2023/05/19', '2023/05/20', '2023/05/21', '2023/05/22', '2023/05/23', '2023/05/24', '2023/05/25', '2023/05/26', '2023/05/27', '2023/05/28', '2023/05/29', '2023/05/30', '2023/05/31', '2023/06/01', '2023/06/02', '2023/06/03', '2023/06/04', '2023/06/05', '2023/06/06', '2023/06/07', '2023/06/08', '2023/06/09', '2023/06/10', '2023/06/11', '2023/06/12', '2023/06/13', '2023/06/14', '2023/06/15', '2023/06/16', '2023/06/17', '2023/06/18', '2023/06/19', '2023/06/20', '2023/06/21', '2023/06/22', '2023/06/23', '2023/06/24', '2023/06/25', '2023/06/26', '2023/06/27', '2023/06/28', '2023/06/29', '2023/06/30', '2023/07/01', '2023/07/02', '2023/07/03', '2023/07/04', '2023/07/05', '2023/07/06', '2023/07/07', '2023/07/08', '2023/07/09', '2023/07/10', '2023/07/11', '2023/07/12', '2023/07/13', '2023/07/14', '2023/07/15', '2023/07/16', '2023/07/17', '2023/07/18', '2023/07/19', '2023/07/20', '2023/07/21', '2023/07/22', '2023/07/23', '2023/07/24', '2023/07/25', '2023/07/26', '2023/07/27', '2023/07/28', '2023/07/29', '2023/07/30', '2023/07/31', '2023/08/01', '2023/08/02', '2023/08/03', '2023/08/04', '2023/08/05', '2023/08/06', '2023/08/07', '2023/08/08', '2023/08/09', '2023/08/10', '2023/08/11', '2023/08/12', '2023/08/13', '2023/08/14', '2023/08/15', '2023/08/16', '2023/08/17', '2023/08/18', '2023/08/19', '2023/08/20', '2023/08/21', '2023/08/22', '2023/08/23', '2023/08/24', '2023/08/25', '2023/08/26', '2023/08/27', '2023/08/28', '2023/08/29', '2023/08/30', '2023/08/31', '2023/09/01', '2023/09/02', '2023/09/03', '2023/09/04', '2023/09/05', '2023/09/06', '2023/09/07', '2023/09/08', '2023/09/09', '2023/09/10', '2023/09/11', '2023/09/12', '2023/09/13', '2023/09/14', '2023/09/15', '2023/09/16', '2023/09/17', '2023/09/18', '2023/09/19', '2023/09/20', '2023/09/21', '2023/09/22', '2023/09/23', '2023/09/24', '2023/09/25', '2023/09/26', '2023/09/27', '2023/09/28', '2023/09/29', '2023/09/30', '2023/10/01', '2023/10/02', '2023/10/03', '2023/10/04', '2023/10/05', '2023/10/06', '2023/10/07', '2023/10/08', '2023/10/09', '2023/10/10', '2023/10/11', '2023/10/12', '2023/10/13', '2023/10/14', '2023/10/15', '2023/10/16', '2023/10/17', '2023/10/18', '2023/10/19'])\n",
      "dict_values([0.00010612811086547703, 0.00010605266543295529, 0.002228218941912582, 0.0030039317914723218, 0.00443152940444566, 0.005374355212033617, 0.008771161522808008, 0.00883562589629365, 0.008372383137023204, 0.004225240751214487, 0.0034035843700140666, 0.002753038619292434, 0.0014409529570230007, 0.002129456635355187, 0.0016065177218444584, 0.0020915214652139163, 0.0021822402274142886, 0.002075324794797688, 0.0017336520644800888, 0.0013278259292465275, 0.0011910661460149588, 0.0009251387211227129, 0.0007090278984977684, 0.001410750418575199, 0.0024529701214174586, 0.0063881981120196794, 0.012334571962754783, 0.009940987479756296, 0.020161358798096475, 0.02149641845019462, 0.020526165762259043, 0.014727649431108217, 0.012242656284789785, 0.010602663740835813, 0.009224724683626796, 0.014068683040438469, 0.013240919756017275, 0.011339836222518293, 0.014037938666578712, 0.010224646215095386, 0.009118246278494134, 0.009853376993609308, 0.007494167313974049, 0.009562250006717498, 0.01408939724784308, 0.01821828493995822, 0.014759345684023581, 0.024801381856160935, 0.01712538841034067, 0.019238781840805907, 0.013749790157110786, 0.015112106524756237, 0.015516663931050478, 0.013395897226822176, 0.013318163488903323, 0.01569260648003892, 0.014387362596345194, 0.013514095671122259, 0.011564356503148973, 0.012230821295258435, 0.011173104498835596, 0.011063866749885128, 0.01197117694913446, 0.01819680381058636, 0.016484479733043282, 0.02316114998650566, 0.02971813210337709, 0.04647240457743024, 0.049445948271030916, 0.04804571404909177, 0.051923668938907576, 0.06660266253521782, 0.0712064893920759, 0.057421232547208205, 0.04716312307369175, 0.05069945316538032, 0.04081680959316978, 0.07650233573187822, 0.08138570969940287, 0.09092156390639748, 0.07423354118912885, 0.08497297742923997, 0.07153457564565228, 0.06814021820352202, 0.07466033184876572, 0.09143793513792811, 0.10579247455098188, 0.11004663054732529, 0.10331831361643713, 0.10529755786867767, 0.08900860357458311, 0.10008534156372333, 0.09892144706462436, 0.10100907592946626, 0.1261585861903036, 0.11571411710979196, 0.11484157910405605, 0.16478858791629966, 0.17747251280358597, 0.1471871083055498, 0.149859230289131, 0.14544186532634193, 0.14482927839074083, 0.17873825537428326, 0.16392673163141402, 0.14423417828630442, 0.12708377783346644, 0.11043149199719243, 0.10316439195245024, 0.09104402742690827, 0.09099051951200193, 0.07617793837792866, 0.09470286599213715, 0.10016574619732406, 0.08214040136231014, 0.07251628330342394, 0.06935266573847203, 0.05959321070179346, 0.06559214574011661, 0.08223181251191568, 0.08022993757835704, 0.07176987333729584, 0.06281816857806163, 0.05500499125844799, 0.06538144521851097, 0.0517838595768546, 0.05476019890199851, 0.06311230533713519, 0.06525822630836665, 0.06437555149529971, 0.05512325230795926, 0.05689812453976083, 0.062168434838573546, 0.07038094941775473, 0.07261161040827149, 0.06338182695020628, 0.0698838796853606, 0.07194193761053441, 0.0769125947923537, 0.0693012046497302, 0.06606449831532135, 0.06729747498409369, 0.07717408795885354, 0.08135734132900574, 0.09060716415183268, 0.09777096345554241, 0.09134106172408867, 0.08704637465926894, 0.08726689687673805, 0.07493409171423912, 0.08634733255068724, 0.06909273474331312, 0.06455072741785425, 0.06463776857023704, 0.05765593680376791, 0.054404111050379976, 0.05107522178094399, 0.06358147623084244, 0.06551344757837856, 0.06045687928734796, 0.07472297200969256, 0.07482491734009347, 0.07590676268209505])\n"
     ]
    }
   ],
   "source": [
    "price_dict = timestamp_price_pairs_to_avg_date_dict(_points)\n",
    "print(price_dict.keys())\n",
    "print(price_dict.values())\n"
   ]
  },
  {
   "cell_type": "markdown",
   "metadata": {},
   "source": [
    "Plot as sanity check:"
   ]
  },
  {
   "cell_type": "code",
   "execution_count": null,
   "metadata": {},
   "outputs": [
    {
     "data": {
      "image/png": "[encoded data removed]",
      "text/plain": [
       "<Figure size 1000x500 with 1 Axes>"
      ]
     },
     "metadata": {},
     "output_type": "display_data"
    }
   ],
   "source": [
    "# Extract keys (dates) and values\n",
    "dates = sorted(price_dict.keys())\n",
    "values = [price_dict[date] for date in dates]\n",
    "\n",
    "# Convert string dates to datetime objects for plotting\n",
    "parsed_dates = [datetime.datetime.strptime(date, \"%Y/%m/%d\") for date in dates]\n",
    "\n",
    "import matplotlib.pyplot as plt\n",
    "\n",
    "plt.figure(figsize=(10, 5))\n",
    "plt.plot(parsed_dates, values, marker='o', linestyle='-')\n",
    "plt.xlabel('Date')\n",
    "plt.ylabel('Value')\n",
    "plt.title('Value over time for hpbitcoin')\n",
    "plt.grid(True)\n",
    "plt.tight_layout()\n",
    "plt.show()\n",
    "#This code will display a simple line plot with your dates on the x-axis and the corresponding values on the y-axis. Adjust the aesthetics as needed.\n",
    "\n"
   ]
  },
  {
   "cell_type": "markdown",
   "metadata": {},
   "source": [
    "![Alt text](hpbitcoin_chart.png)"
   ]
  },
  {
   "cell_type": "markdown",
   "metadata": {},
   "source": [
    "Test:"
   ]
  },
  {
   "cell_type": "code",
   "execution_count": null,
   "metadata": {},
   "outputs": [],
   "source": [
    "#| hide\n",
    "\n",
    "# Test\n",
    "timestamp = 1683888999\n",
    "assert (unix_timestamp_to_date(timestamp)) == '2023/05/12'\n",
    "\n",
    "# Test\n",
    "point_dict = timestamp_price_pairs_to_date_dict(_points)\n",
    "assert point_dict['2023/05/11'] == 0.00010605266543295529\n",
    "\n",
    "def test_timestamp_price_pairs_to_avg_date_dict():\n",
    "    # Test data\n",
    "    sample_points = [\n",
    "        [1683788578, 0.00010605266543295529],\n",
    "        [1683788578, 0.00020605266543295529],\n",
    "        [1683874999, 0.002228218941912582],\n",
    "        [1683874999, 0.003228218941912582],\n",
    "        [1683874999, 0.004228218941912582],\n",
    "        [1683961399, 0.0030039317914723218],\n",
    "        [1683961399, 0.0040039317914723218]\n",
    "    ]\n",
    "    \n",
    "    # Convert using function\n",
    "    avg_date_price_dict = timestamp_price_pairs_to_avg_date_dict(sample_points)\n",
    "    \n",
    "    # Verify unique dates\n",
    "    assert len(avg_date_price_dict) == 3, \"Expected 3 unique dates in the dictionary\"\n",
    "    \n",
    "    # Verify average calculations\n",
    "    # For 2023/05/11\n",
    "    assert avg_date_price_dict['2023/05/11'] == (0.00010605266543295529 + 0.00020605266543295529) / 2, \"Incorrect average for 2023/05/11\"\n",
    "    # For 2023/05/12\n",
    "    assert avg_date_price_dict['2023/05/12'] == (0.002228218941912582 + 0.003228218941912582 + 0.004228218941912582) / 3, \"Incorrect average for 2023/05/12\"\n",
    "    # For 2023/05/13\n",
    "    assert avg_date_price_dict['2023/05/13'] == (0.0030039317914723218 + 0.0040039317914723218) / 2, \"Incorrect average for 2023/05/13\"\n",
    "\n",
    "    #print(\"All tests passed!\")\n",
    "\n",
    "# Test \n",
    "test_timestamp_price_pairs_to_avg_date_dict() #run several tests\n",
    "\n",
    "\n",
    "\n",
    "def test_are_dates_one_day_apart(dates):\n",
    "    parsed_dates = [datetime.datetime.strptime(date, \"%Y/%m/%d\") for date in dates]\n",
    "    assert all(b - a == datetime.timedelta(days=1) for a, b in zip(parsed_dates, parsed_dates[1:]))\n",
    "\n",
    "#Test\n",
    "_dates = price_dict.keys()\n",
    "test_are_dates_one_day_apart(_dates)\n"
   ]
  },
  {
   "cell_type": "code",
   "execution_count": null,
   "metadata": {},
   "outputs": [
    {
     "data": {
      "text/plain": [
       "0.00010605266543295529"
      ]
     },
     "execution_count": null,
     "metadata": {},
     "output_type": "execute_result"
    }
   ],
   "source": [
    "#| hide\n",
    "\n",
    "price_dict['2023/05/11']"
   ]
  },
  {
   "cell_type": "code",
   "execution_count": null,
   "metadata": {},
   "outputs": [],
   "source": [
    "#| hide\n",
    "import nbdev; nbdev.nbdev_export()"
   ]
  }
 ],
 "metadata": {
  "kernelspec": {
   "display_name": "ether_crypto",
   "language": "python",
   "name": "python3"
  }
 },
 "nbformat": 4,
 "nbformat_minor": 2
}
