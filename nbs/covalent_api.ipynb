{
 "cells": [
  {
   "cell_type": "code",
   "execution_count": null,
   "metadata": {},
   "outputs": [],
   "source": [
    "#|default_exp covalent_api"
   ]
  },
  {
   "cell_type": "markdown",
   "metadata": {},
   "source": [
    "https://www.covalenthq.com/docs/api/balances/get-historical-token-balances-for-address/"
   ]
  },
  {
   "cell_type": "markdown",
   "metadata": {},
   "source": [
    "**Functionality of `Covalent_Api`:**\n",
    "\n",
    "\n",
    "**`get_historical_balances`**\n",
    "\n",
    "Used to fetch the historical native, fungible (ERC20), and non-fungible (ERC721 & ERC1155) tokens held by an address at a given block height or date. Response includes daily prices and other metadata.\n",
    "\n",
    "**`get_token_holders`**\n",
    "\n",
    "Get token holders as of any block height (v2)\n",
    "\n",
    "Commonly used to get a list of all the token holders for a specified ERC20 or ERC721 token. Returns historic token holders when block-height is set (defaults to latest). Useful for building pie charts of token holders.\n",
    "\n",
    "\n",
    "**`get_holders_portfolios`**\n",
    "\n",
    "Get coins held by an address.\n"
   ]
  },
  {
   "cell_type": "markdown",
   "metadata": {},
   "source": [
    "**Other functionality of notebook:**\n",
    "\n",
    "**`union_top_n`**\n",
    "\n",
    "Computes all the coins in the top n portfolios of a token (i.e. union of all portfolios\n",
    "\n",
    "**`intersection_count`**\n",
    "\n",
    " For each token in the union, count how many holders have that token in their portfolio.\n",
    "\n",
    "**`Address_Holder_Data`**\n",
    "\n",
    " Wrapper to compute intersection_count\n",
    "\n",
    "**`contract_name_if_k_holders`**\n",
    "\n",
    "Finds contracts with exactly k holders in intersection_dict\n",
    "\n",
    "**`contract_name_if_more_than_k_holders`**\n",
    "\n",
    "Finds contracts with more than k holders in intersection_dict\n"
   ]
  },
  {
   "cell_type": "code",
   "execution_count": 4,
   "metadata": {},
   "outputs": [],
   "source": [
    "#| export\n",
    "\n",
    "import json\n",
    "import requests\n",
    "from requests.auth import HTTPBasicAuth\n",
    "from requests.exceptions import HTTPError, RequestException\n",
    "import time\n",
    "\n",
    "\n",
    "from fastcore.basics import *\n",
    "\n"
   ]
  },
  {
   "cell_type": "code",
   "execution_count": 5,
   "metadata": {},
   "outputs": [],
   "source": [
    "#| hide\n",
    "from fastcore.test import *\n"
   ]
  },
  {
   "cell_type": "code",
   "execution_count": 6,
   "metadata": {},
   "outputs": [],
   "source": [
    "#| export\n",
    "\n",
    "def wei_to_eth(wei):\n",
    "    \"Simple helper function to convert wei to eth\"\n",
    "    return wei / 10**18"
   ]
  },
  {
   "cell_type": "code",
   "execution_count": 7,
   "metadata": {},
   "outputs": [],
   "source": [
    "#| export\n",
    "\n",
    "import logging\n",
    "\n",
    "# Set up basic logging configuration\n",
    "logging.basicConfig(level=logging.WARNING, format='%(message)s')\n",
    "\n",
    "logger = logging.getLogger(__name__)"
   ]
  },
  {
   "cell_type": "code",
   "execution_count": 52,
   "metadata": {},
   "outputs": [
    {
     "name": "stdout",
     "output_type": "stream",
     "text": [
      "2604501.761579631\n"
     ]
    }
   ],
   "source": [
    "#| export\n",
    "\n",
    "#The general API is: \n",
    "#                       def some_function(self,args):\n",
    "#                            url = ... #define the url using args\n",
    "#                            return self.get_items(url)\n",
    "\n",
    "#rather than writing self.get_items(url) every time, we can use a decorator to do this for us.\n",
    "\n",
    "def url_decorator(func):\n",
    "    def wrapper(self, *args, **kwargs):\n",
    "        url = func(self, *args, **kwargs)\n",
    "        return self.get_items(url)\n",
    "    return wrapper\n",
    "\n",
    "class Covalent_Api:\n",
    "    \"\"\"This class is used to interact with the Covalent API.\n",
    "    \"\"\"\n",
    "\n",
    "    def __init__(self, api_key='cqt_rQ37X8PXHqGxkycgdXHJtkFhfwyP'):\n",
    "        self.api_key = api_key\n",
    "\n",
    "\n",
    "    #TODO: understand better\n",
    "    def get_items(self, url, retries=3, delay=1):\n",
    "        \"\"\"Given a url, get the items from the API.\n",
    "        Inputs:\n",
    "            `url`, a string, the url to get the items from.\n",
    "            `retries`, an integer, the number of times to retry the request.\n",
    "            `delay`, an integer, the number of seconds to wait between retries.\n",
    "\n",
    "        Outputs:\n",
    "            `items`, a list of dictionaries, each dictionary containing information about a token/address/etc\n",
    "        \"\"\"\n",
    "        headers = {\"accept\": \"application/json\"}\n",
    "        basic = HTTPBasicAuth(f'{self.api_key}', '')\n",
    "\n",
    "        while retries > 0:\n",
    "            try:\n",
    "                response = requests.get(url, headers=headers, auth=basic)\n",
    "                response.raise_for_status()  # Check for HTTP errors\n",
    "                data = response.json()\n",
    "\n",
    "                # Access 'data' field\n",
    "                data = data.get('data')\n",
    "                if data is None:\n",
    "                    return None\n",
    "\n",
    "                # Check if data is a list\n",
    "                if type(data) is list:\n",
    "                    return data\n",
    "\n",
    "                # Access 'items' field\n",
    "                return data.get('items')\n",
    "            \n",
    "            except HTTPError as e:\n",
    "                if e.response.status_code == 429:  # HTTP Status Code for 'Too Many Requests'\n",
    "                    time.sleep(delay)  # Adjust wait time\n",
    "                    retries -= 1\n",
    "                else:\n",
    "                    return None\n",
    "\n",
    "            except RequestException as e:\n",
    "                return None\n",
    "\n",
    "\n",
    "    @url_decorator\n",
    "    def get_historical_balances(self,chainName:str,walletAddress:str,date:str, quote_currency=\"USD\")->list:\n",
    "        \"\"\"Given a wallet address, get the historical balances for that wallet address on the specified chain and date.\n",
    "            Inputs:\n",
    "                `chainName`, e.g. 'eth-mainnet'\n",
    "                `walletAddress`, e.g. '0x7364a0f792e073814B426c918bf72792575b6c18'\n",
    "                `date`, e.g. '2021-01-01'.\n",
    "                `quote_currency`, e.g. 'USD'\n",
    "            Outputs:\n",
    "                `items`, a list of dictionaries, each dictionary containing the balance of a token at a given date along with some additional metadata.\n",
    "            Note:\n",
    "                While the core function generates a URL, the applied @url_decorator \n",
    "                modifies the return behavior to fetch items using that URL.\n",
    "        \"\"\"\n",
    "        assert type(date) is str, \"date must be a string\"\n",
    "\n",
    "        url = f\"https://api.covalenthq.com/v1/{chainName}/address/{walletAddress}/historical_balances/?quote-currency={quote_currency}&date={date}\"\n",
    "\n",
    "        return url \n",
    "    \n",
    "    @staticmethod\n",
    "    def print_balance(items):\n",
    "        \"Helper function to print the balance out, i.e. the object returned by `get_historical_balances`\"\n",
    "\n",
    "        for item in items:\n",
    "            print(f\"{item['contract_name']} balance: {item['balance']}\\n\")\n",
    "    \n",
    "    @url_decorator\n",
    "    def get_token_holders(self, chainName: str, tokenAddress: str, block_height=None, page_size=100, page_number=None) -> list:\n",
    "        \"\"\"\n",
    "        Fetches the token holders for a specific token on a given chain.\n",
    "        Inputs:\n",
    "            `chainName`: The chain name e.g. 'eth-mainnet'.\n",
    "            `tokenAddress`: The token's address.\n",
    "            `block_height`: Ending block to define a block range.\n",
    "            `page_size`: Number of items per page. Supported values are 100 and 1000.\n",
    "            `page_number`: 0-indexed page number to begin pagination.\n",
    "        Outputs:\n",
    "            `items`, a list of dictionaries, each dictionary containing information about a token holder.\n",
    "\n",
    "        Note: This gets the holders by percentage (i.e. largest holdest to smallest)\n",
    "\n",
    "        Note:\n",
    "        While the core function generates a URL, the applied @url_decorator \n",
    "        modifies the return behavior to fetch items using that URL.\n",
    "        \"\"\"\n",
    "\n",
    "        base_url = f\"https://api.covalenthq.com/v1/{chainName}/tokens/{tokenAddress}/token_holders_v2/?\"\n",
    "        \n",
    "        if block_height is not None:\n",
    "            base_url += f\"&block-height={block_height}\"\n",
    "        if page_size is not None:\n",
    "            base_url += f\"&page-size={page_size}\"\n",
    "        if page_number is not None:\n",
    "            base_url += f\"&page-number={page_number}\"\n",
    "\n",
    "        return base_url\n",
    "\n",
    "    def get_holders_portfolios(self,n_lst,chainName:str,date:str,quote_currency=\"USD\",log_output=False):\n",
    "        \"\"\"Input: \n",
    "                `n_lst`: a list of dictionaries containing the top holders of a token. Dictionary must contain the key 'address'.\n",
    "                 See get_historical_balances for description of other inputs.\n",
    "           Output: the same list of dictionaries with the portfolio added.\n",
    "        \"\"\"\n",
    "\n",
    "        # Setting up logging level based on the log_output value\n",
    "        if log_output:\n",
    "            logger.setLevel(logging.INFO)\n",
    "        else:\n",
    "            logger.setLevel(logging.WARNING)\n",
    "\n",
    "        #loop over the list of dictionaries (holders of the token)\n",
    "        for _holder in n_lst: #this loop should be parallelized, but ok for now provided it isn't too big.\n",
    "\n",
    "            _address = _holder['address']\n",
    "            _items = self.get_historical_balances(chainName=chainName,walletAddress=_address, quote_currency=quote_currency, date=date)\n",
    "            #_items is a list of dictionaries\n",
    "\n",
    "            #get the sum of the portfolio\n",
    "\n",
    "            #TODO: Make this more efficient: possibly convert to numpy array or dataframe or something and then sum\n",
    "            none_to_zero = lambda x: 0 if x is None else x\n",
    "            portfolio_sum = sum([none_to_zero(holding['quote']) for holding in _items])\n",
    "            \n",
    "            _holder['portfolio']=_items #update the _holder with the whole portfolio\n",
    "            _holder['portfolio_sum']=portfolio_sum #update the _holder with the total value of the portfolio\n",
    "\n",
    "            logger.info(f'got {_address} portfolio')  # Logging statement in place of print\n",
    "            \n",
    "        return n_lst\n",
    "    \n",
    "    #It seems that we already have this data via `get_historical_balances` throughts ['items']['quote'] #usd value\n",
    "    # @url_decorator\n",
    "    # def get_prices(self,chainName:str,address:str,quote_currency=\"USD\",dates=None):\n",
    "    #     \"\"\"Input: \n",
    "    #             `chainName`: e.g. 'eth-mainnet'\n",
    "    #             `address`: e.g. '0x7364a0f792e073814B426c918bf72792575b6c18'\n",
    "    #             `quote_currency`: e.g. 'USD'\n",
    "    #             `dates`: e.g. ['2021-01-01','2021-01-10'], i.e. from,to\n",
    "    #        Output: \n",
    "    #     \"\"\"\n",
    "\n",
    "    #     if len(dates)==1:\n",
    "    #         dates.append(dates[0]) #if only one date is specified, then we get the price for that date only.\n",
    "\n",
    "    #     url = f\"https://api.covalenthq.com/v1/pricing/historical_by_addresses_v2/{chainName}/{quote_currency}/{address}/?from={dates[0]}&to={dates[1]}\"\n",
    "    #     return url\n",
    "    \n",
    "    @staticmethod\n",
    "    def print_prices(items):\n",
    "        \"Helper function to print the prices out i.e. `items` as returned by `get_prices`\"\n",
    "        print(f\"Printing out prices of: {items[0]['contract_name']}\")\n",
    "        for k in items[0]['prices']:\n",
    "            print(f\"On {k['date']}, the price was {k['price']}, and the `pretty_price` was {k['pretty_price']}\")\n",
    "\n",
    "\n",
    "if __name__ == \"__main__\":\n",
    "\n",
    "\n",
    "    #Debugging:\n",
    "\n",
    "    #_address = XDOGE_holders[0]['address']\n",
    "    #_items= cov_api.get_historical_balances(chainName=chainName,walletAddress=_address, quote_currency=\"USD\", date=\"2023-08-30\")\n",
    "\n",
    "    n_lst = [{'address': XDOGE_holders[0]['address']}] #List of dictionaries\n",
    "    n_lst = cov_api.get_holders_portfolios(n_lst,chainName,quote_currency,date=\"2023-08-30\",log_output=False)\n",
    "\n",
    "    print(n_lst[0]['portfolio_sum'])\n"
   ]
  },
  {
   "cell_type": "markdown",
   "metadata": {},
   "source": [
    "Now we can combine `get_token_holders` and `get_historical_balances` to do things like the following:\n",
    "\n",
    "- Given $m$ token addresses, compute the top $n$ token holders (one definition of \"whale\").\n",
    "- Compute the historical balances of these token holders, for the present (say).\n",
    "- Then we can do some analysis on the $m \\times n$ addresses.\n",
    "\n",
    "Example with $m=2$: say $BITCOIN and $CBOT are trending tokens, as they are this week. Then we can get the wallet information of the top 10 holders of each. So $m \\times n = 10 \\times 2 = 20 $ addresses in total. There may be several things of interest here. For example, what (if any) is the most common token in the 20 addresses outside of $BITCOIN and $CBOT. If all the top holders of these tokens also hold some small token that hasn't pumped yet, then this is relevant information. Let's build on this first idea now:"
   ]
  },
  {
   "cell_type": "markdown",
   "metadata": {},
   "source": [
    "Step 1) Get top 10 token holders of two addresses:"
   ]
  },
  {
   "cell_type": "code",
   "execution_count": 10,
   "metadata": {},
   "outputs": [],
   "source": [
    "nickcage = '0xfcaf0e4498e78d65526a507360f755178b804ba8'\n",
    "hpbitcoin = '0x72e4f9F808C49A2a61dE9C5896298920Dc4EEEa9'\n",
    "\n",
    "cov_api = Covalent_Api() #might need to pass an API key (different to default)\n",
    "\n",
    "#List of top holders of nickcage and hpbitcoin. \n",
    "token_holders_nickcage = cov_api.get_token_holders(chainName='eth-mainnet',tokenAddress=nickcage,page_size=100,page_number=0)\n",
    "token_holders_hpbitcoin = cov_api.get_token_holders(chainName='eth-mainnet',tokenAddress=hpbitcoin,page_size=100,page_number=0)\n",
    "\n",
    "top_10_nickcage = [token_holders_nickcage[i] for i in range(10)]\n",
    "top_10_hpbitcoin = [token_holders_hpbitcoin[i] for i in range(10)]"
   ]
  },
  {
   "cell_type": "markdown",
   "metadata": {},
   "source": [
    "Step 2) Get the present wallet information of these \"whales\". i.e. update `top_10_.` with the respective portfolios:"
   ]
  },
  {
   "cell_type": "code",
   "execution_count": 11,
   "metadata": {},
   "outputs": [],
   "source": [
    "top_10_nickcage = cov_api.get_holders_portfolios(n_lst=top_10_nickcage,chainName='eth-mainnet')\n",
    "top_10_hpbitcoin = cov_api.get_holders_portfolios(n_lst=top_10_hpbitcoin,chainName='eth-mainnet')"
   ]
  },
  {
   "cell_type": "markdown",
   "metadata": {},
   "source": [
    "Now we can do some analysis!"
   ]
  },
  {
   "cell_type": "markdown",
   "metadata": {},
   "source": [
    "Step 3) Get union of portfolios:"
   ]
  },
  {
   "cell_type": "code",
   "execution_count": 12,
   "metadata": {},
   "outputs": [],
   "source": [
    "#| export\n",
    "\n",
    "def union_top_n(top_n):\n",
    "    \"Computes all the coins in the top n portfolios of a token (i.e. union of all portfolios))\"\n",
    "\n",
    "    top_n = list(set(\n",
    "        (item['contract_name'],item['contract_address'])\n",
    "        for entry in top_n #Basically: for each address in top_10_nickcage get all the tokens in their portfolio\n",
    "        for item in entry['portfolio']\n",
    "                    ))\n",
    "    return top_n"
   ]
  },
  {
   "cell_type": "code",
   "execution_count": 13,
   "metadata": {},
   "outputs": [],
   "source": [
    "union_top_10_nickcage = union_top_n(top_10_nickcage) #i.e. all the tokens help by the top 10 nickcage holders\n",
    "union_top_10_hpbitcoin = union_top_n(top_10_hpbitcoin)#i.e. all the tokens help by the top 10 nickcage holders"
   ]
  },
  {
   "cell_type": "markdown",
   "metadata": {},
   "source": [
    "Step 4): Get intersection counts:"
   ]
  },
  {
   "cell_type": "code",
   "execution_count": 14,
   "metadata": {},
   "outputs": [],
   "source": [
    "#| export\n",
    "\n",
    "def intersection_count(top_n:list, union_lst:list) -> dict:\n",
    "    \"\"\"\n",
    "    For each token in the union, count how many holders have that token in their portfolio.\n",
    "    Inputs:\n",
    "        top_n: list of dictionaries, each dictionary is a holder\n",
    "        union_lst: list of tokens, each token is a string\n",
    "    Output:\n",
    "        intersect_dict: dictionary, keys are tokens, values are integers\n",
    "    \"\"\"\n",
    "\n",
    "    # Create a dictionary with default value as 0\n",
    "    intersect_dict = {(token_name, token_address): 0 for token_name, token_address in union_lst}\n",
    "\n",
    "    # Pre-compute contract addresses for each holder\n",
    "    holder_portfolios = {}\n",
    "    for holder in top_n:\n",
    "        holder_portfolios[holder['address']] = set(item['contract_address'] for item in holder['portfolio'])\n",
    "\n",
    "    # Update the intersection count\n",
    "    for token_name, token_address in union_lst:\n",
    "        for holder_address, contracts in holder_portfolios.items():\n",
    "            if token_address in contracts:\n",
    "                intersect_dict[(token_name, token_address)] += 1\n",
    "\n",
    "    return intersect_dict\n",
    "\n"
   ]
  },
  {
   "cell_type": "code",
   "execution_count": 15,
   "metadata": {},
   "outputs": [],
   "source": [
    "intersect_dict_top_10_nickcage = intersection_count(top_10_nickcage,union_top_10_nickcage)\n",
    "intersect_dict_top_10_hpbitcoin = intersection_count(top_10_hpbitcoin,union_top_10_hpbitcoin)"
   ]
  },
  {
   "cell_type": "markdown",
   "metadata": {},
   "source": [
    "And we can verify the following **tests**:\n",
    "- that all holders amongst the top 10 of `nickcage` and `bitcoin` hold `nickcage` or `bitcoin` respectively (this must be vacuously true).\n",
    "- that the counts are all larger than 1 (at least one address must own the token for it to have appeared in the union)"
   ]
  },
  {
   "cell_type": "code",
   "execution_count": 16,
   "metadata": {},
   "outputs": [],
   "source": [
    "#names of the tokens\n",
    "nickcage_name = top_10_nickcage[0]['contract_name']\n",
    "hpbitcoin_name = top_10_hpbitcoin[0]['contract_name']\n",
    "#addresses\n",
    "nickcage_address = top_10_nickcage[0]['contract_address']\n",
    "hpbitcoin_address = top_10_hpbitcoin[0]['contract_address']\n",
    "\n",
    "#check that `nickcage` and `hpbitcoin` occur exactly 10 times in the top 10\n",
    "test_eq(intersect_dict_top_10_nickcage[(nickcage_name,nickcage_address)],10)\n",
    "test_eq(intersect_dict_top_10_hpbitcoin[(hpbitcoin_name,hpbitcoin_address)],10)\n",
    "\n",
    "#Check that each token appears at least once \n",
    "for k in intersect_dict_top_10_nickcage: assert intersect_dict_top_10_nickcage[k]>=1\n",
    "for k in intersect_dict_top_10_hpbitcoin: assert intersect_dict_top_10_hpbitcoin[k]>=1"
   ]
  },
  {
   "cell_type": "markdown",
   "metadata": {},
   "source": [
    "Ok, let's do some exploration of hpbitcoin, say:"
   ]
  },
  {
   "cell_type": "markdown",
   "metadata": {},
   "source": [
    "The line if k>len(intersect_dict): raises a ValueError if k is greater than the length of the dictionary. However, this may not be necessary because:\n",
    "\n",
    "The length of the dictionary doesn't directly correlate with the number of holders (k). The dictionary could have many keys (contracts) with a few holders, or vice versa.\n",
    "If k is greater than the number of holders in any contract, the function will naturally return an empty list, which might be the expected behavior."
   ]
  },
  {
   "cell_type": "code",
   "execution_count": 17,
   "metadata": {},
   "outputs": [],
   "source": [
    "#| export\n",
    "\n",
    "def contract_name_if_k_holders(intersect_dict,k):\n",
    "    \"Get the names of the contracts that have exactly k holders\"\n",
    "    if k>len(intersect_dict):\n",
    "        raise ValueError(\"k is greater than length of intersect_dict\")\n",
    "    return [contract_name for contract_name in intersect_dict.keys() if intersect_dict[contract_name] == k]\n",
    "\n",
    "def contract_name_if_more_than_k_holders(intersect_dict,k):\n",
    "    \"Get the names of the contracts that have more than k holders\"\n",
    "    if k>len(intersect_dict):\n",
    "        raise ValueError(\"k is greater than length of intersect_dict\")\n",
    "    return [contract_name for contract_name in intersect_dict.keys() if intersect_dict[contract_name] > k]"
   ]
  },
  {
   "cell_type": "code",
   "execution_count": 53,
   "metadata": {},
   "outputs": [],
   "source": [
    "#| export\n",
    "\n",
    "def contract_address_to_holders(n_holders,contract_address):\n",
    "    \"#Given an address, get the holders that hold that address\"\n",
    "    lst=[]\n",
    "    for _holder in n_holders:\n",
    "        for _token in _holder['portfolio']:\n",
    "            if _token['contract_address'] == contract_address:\n",
    "                lst.append(_holder)\n",
    "\n",
    "    return lst"
   ]
  },
  {
   "cell_type": "code",
   "execution_count": 18,
   "metadata": {},
   "outputs": [],
   "source": [
    "top_20_hpbitcoin = [token_holders_hpbitcoin[i] for i in range(20)]\n",
    "#get portfolio of top 20 holders of HPB token\n",
    "top_20_hpbitcoin = cov_api.get_holders_portfolios(n_lst=top_20_hpbitcoin,chainName='eth-mainnet')\n",
    "#Get union\n",
    "union_top_20_hpbitcoin = union_top_n(top_20_hpbitcoin) #i.e. all the tokens help by the top 100\n",
    "\n",
    "#Get intersection\n",
    "intersect_dict_top_20_hpbitcoin = intersection_count(top_n=top_20_hpbitcoin,union_lst=union_top_20_hpbitcoin)\n"
   ]
  },
  {
   "cell_type": "code",
   "execution_count": 19,
   "metadata": {},
   "outputs": [
    {
     "data": {
      "text/plain": [
       "[('Rog Coin', '0x76c8fc20045a423f800cbb23ad9ba853eb85688a'),\n",
       " ('ETHEREUM2.0', '0xea498670e8de236c17d75c0bd09dd4b1b6f39eb2'),\n",
       " ('Russian Roulette', '0x2e24be72c0bdf09f63ed5217b01bd5ad1e98b2f6'),\n",
       " ('HarryPotterObamaSonic10Inu', '0x72e4f9f808c49a2a61de9c5896298920dc4eeea9'),\n",
       " ('Fino', '0x96a3b1227fdbe7342d1358ae4ed87adc4584d9cf'),\n",
       " ('Bitlord', '0x781bd109834c534dc0f799afdf65e6eb5151b839'),\n",
       " ('HarryPotterObamaSonic10Inu (BITCOIN2.0)',\n",
       "  '0x464af6d0d292a61c1b71251a3d2354996e661153'),\n",
       " ('Friend Tech', '0x88c6aefe66fc619d073d3560bb5dc4d8a38f3e8c'),\n",
       " ('XDOGE', '0xd2b274cfbf9534f56b59ad0fb7e645e0354f4941'),\n",
       " ('Pond0x V2', '0x16148f8cdca3d703821f4a1a87123790c5e7459b'),\n",
       " ('Fuck Bald', '0x80267e32be79b4337a7cc861df97714440586aa7'),\n",
       " ('DFI.money2.0', '0xbc581118802bec35e755f0a85f62af6736a2c4a1'),\n",
       " ('Pond0x 2.0', '0x9a25b66c3f9c571074052456351990958bb80f3f'),\n",
       " ('Inu10SonicObamaPotterHarry', '0x46fad82e4c96ef5821eb4ae9f27fbc450ec472ee'),\n",
       " ('EpsteinClintonQanonPizzaGate10Inu',\n",
       "  '0x682a21d52451bb93e4bda3c557e46e0016d0edb0'),\n",
       " ('Bald', '0x02c9aaa47de7be1d08f551a59016a562ad11fb5f'),\n",
       " ('Ether', '0xeeeeeeeeeeeeeeeeeeeeeeeeeeeeeeeeeeeeeeee')]"
      ]
     },
     "execution_count": 19,
     "metadata": {},
     "output_type": "execute_result"
    }
   ],
   "source": [
    "contract_name_if_more_than_k_holders(intersect_dict_top_20_hpbitcoin,15)\n",
    "#contract_name_if_k_holders(intersect_dict_top_20_hpbitcoin,18)"
   ]
  },
  {
   "cell_type": "markdown",
   "metadata": {},
   "source": [
    "- 18 of the top 20 holders (*at present*) of HPbitcoin also own Bald token - which is a scam."
   ]
  },
  {
   "cell_type": "markdown",
   "metadata": {},
   "source": [
    "- Interestingly, at present 18/20 also hold `XDOGE`. Inspection of the `XDOGE` chart shows that it looks reasonably good. Market cap ~ 500k at present."
   ]
  },
  {
   "cell_type": "markdown",
   "metadata": {},
   "source": [
    "We can collect the `intersect_dict`, and other data through a simple wrapper:"
   ]
  },
  {
   "cell_type": "code",
   "execution_count": 20,
   "metadata": {},
   "outputs": [],
   "source": [
    "#| export\n",
    "\n",
    "class Address_Holder_Data:\n",
    "    \"wrapper class to get `intersection_count` for top n holders of a token (address)\"\n",
    "\n",
    "    def __init__(self, cov_api, tokenAddress, chainName,date,k,quote_currency=\"USD\"): \n",
    "        store_attr()\n",
    "        assert k <= 100, f\"The value of k should be <= 100. The current value is {k}.\"\n",
    "        \n",
    "        self.intersect_dict_top_n = self.get_data()\n",
    "        \n",
    "    def get_data(self):\n",
    "        self.token_holders = self.cov_api.get_token_holders(chainName=self.chainName, tokenAddress=self.tokenAddress, page_size=100, page_number=0)\n",
    "        self.top_n_holders = [self.token_holders[i] for i in range(self.k)]\n",
    "        self.top_n_holders = self.cov_api.get_holders_portfolios(n_lst=self.top_n_holders,chainName=self.chainName,quote_currency=self.quote_currency,date=self.date)\n",
    "        self.union_top_n = union_top_n(self.top_n_holders)\n",
    "        self.intersect_dict_top_n = intersection_count(top_n=self.top_n_holders, union_lst=self.union_top_n)\n",
    "\n",
    "        return self.intersect_dict_top_n\n"
   ]
  },
  {
   "cell_type": "code",
   "execution_count": 55,
   "metadata": {},
   "outputs": [
    {
     "name": "stdout",
     "output_type": "stream",
     "text": [
      "2023-08-30\n"
     ]
    }
   ],
   "source": [
    "#| export\n",
    "from datetime import datetime\n",
    "def todays_date():\n",
    "    \"Returns today's date as a string in UTC\"\n",
    "    return datetime.utcnow().strftime('%Y-%m-%d')\n"
   ]
  },
  {
   "cell_type": "markdown",
   "metadata": {},
   "source": [
    "Let's use this API to have a look at `XDOGE`:"
   ]
  },
  {
   "cell_type": "code",
   "execution_count": 347,
   "metadata": {},
   "outputs": [
    {
     "data": {
      "text/plain": [
       "[('XDOGE', '0xd2b274cfbf9534f56b59ad0fb7e645e0354f4941'),\n",
       " ('Ether', '0xeeeeeeeeeeeeeeeeeeeeeeeeeeeeeeeeeeeeeeee'),\n",
       " ('KuKu', '0xc3071803b9d23460820b516673fd3cec0415d0ed')]"
      ]
     },
     "execution_count": 347,
     "metadata": {},
     "output_type": "execute_result"
    }
   ],
   "source": [
    "xdoge_address = '0xd2b274cfbf9534f56b59ad0fb7e645e0354f4941'\n",
    "xdoge_data = Address_Holder_Data(cov_api=cov_api, tokenAddress=xdoge_address, chainName='eth-mainnet', k=20)\n",
    "\n",
    "contract_name_if_more_than_k_holders(xdoge_data.intersect_dict_top_n,k=10)"
   ]
  },
  {
   "cell_type": "markdown",
   "metadata": {},
   "source": [
    "We can also use covalent API to get historical prices of token:"
   ]
  },
  {
   "cell_type": "code",
   "execution_count": 32,
   "metadata": {},
   "outputs": [
    {
     "name": "stdout",
     "output_type": "stream",
     "text": [
      "Printing out prices of: HarryPotterObamaSonic10Inu\n",
      "On 2023-08-26, the price was 0.0918059, and the `pretty_price` was $0.09\n",
      "On 2023-08-25, the price was 0.104179405, and the `pretty_price` was $0.10\n"
     ]
    }
   ],
   "source": [
    "items = cov_api.get_prices(chainName='eth-mainnet',address=hpbitcoin,quote_currency=\"USD\",dates=[\"2023-08-25\",\"2023-08-26\"])\n",
    "cov_api.print_prices(items)"
   ]
  },
  {
   "cell_type": "code",
   "execution_count": 448,
   "metadata": {},
   "outputs": [
    {
     "data": {
      "text/plain": [
       "'HarryPotterObamaSonic10Inu'"
      ]
     },
     "execution_count": 448,
     "metadata": {},
     "output_type": "execute_result"
    }
   ],
   "source": [
    "items = cov_api.get_prices(chainName='eth-mainnet',address=hpbitcoin,quote_currency=\"USD\",dates=[\"2023-08-25\",\"2023-08-26\"])\n",
    "print(f\"Printing out prices of: {items[0]['contract_name']}\")\n",
    "cov_api.print_prices(items)"
   ]
  },
  {
   "cell_type": "code",
   "execution_count": 59,
   "metadata": {},
   "outputs": [],
   "source": [
    "import nbdev\n",
    "nbdev.export.nb_export('covalent_api.ipynb', './')"
   ]
  }
 ],
 "metadata": {
  "kernelspec": {
   "display_name": "ether_crypto",
   "language": "python",
   "name": "python3"
  },
  "language_info": {
   "codemirror_mode": {
    "name": "ipython",
    "version": 3
   },
   "file_extension": ".py",
   "mimetype": "text/x-python",
   "name": "python",
   "nbconvert_exporter": "python",
   "pygments_lexer": "ipython3",
   "version": "3.10.9"
  },
  "orig_nbformat": 4
 },
 "nbformat": 4,
 "nbformat_minor": 2
}
