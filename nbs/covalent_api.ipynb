{
 "cells": [
  {
   "cell_type": "markdown",
   "metadata": {},
   "source": [
    "# covalent_api\n",
    "\n",
    "> Endpoints for the `covalent` api: https://www.covalenthq.com/docs/api/"
   ]
  },
  {
   "cell_type": "markdown",
   "metadata": {},
   "source": [
    "Summary:\n",
    "    - We just *get* the data here - we process elsewhere."
   ]
  },
  {
   "cell_type": "code",
   "execution_count": null,
   "metadata": {},
   "outputs": [],
   "source": [
    "#|default_exp covalent_api"
   ]
  },
  {
   "cell_type": "code",
   "execution_count": null,
   "metadata": {},
   "outputs": [],
   "source": [
    "#| hide\n",
    "from nbdev.showdoc import *"
   ]
  },
  {
   "cell_type": "markdown",
   "metadata": {},
   "source": [
    "**Functionality of `Covalent_Api` class - this grabs data via the covalent API:**\n",
    "\n",
    "\n",
    "`get_historical_balances`\n",
    "\n",
    "Used to fetch the historical native, fungible (ERC20), and non-fungible (ERC721 & ERC1155) tokens held by an address at a given block height or date. Response includes daily prices and other metadata.\n",
    "https://www.covalenthq.com/docs/api/balances/get-historical-token-balances-for-address/\n",
    "\n",
    "`get_token_holders`\n",
    "\n",
    "Get token holders as of any block height (v2).\n",
    "Commonly used to get a list of all the token holders for a specified ERC20 or ERC721 token. Returns historic token holders when block-height is set (defaults to latest). Useful for building pie charts of token holders.\n",
    "Note: This gets the holders by percentage (i.e. largest holdest to smallest)\n",
    "https://www.covalenthq.com/docs/api/balances/get-token-holders-as-of-any-block-height-v2/\n",
    "\n",
    "\n",
    "`get_holders_portfolios`\n",
    "\n",
    "Wrapper around `get_historical_balances` to update a list of holders with their portfolios.\n",
    "\n",
    "\n"
   ]
  },
  {
   "cell_type": "code",
   "execution_count": null,
   "metadata": {},
   "outputs": [],
   "source": [
    "#| export\n",
    "\n",
    "import json\n",
    "import requests\n",
    "from requests.auth import HTTPBasicAuth\n",
    "from requests.exceptions import HTTPError, RequestException\n",
    "import time\n",
    "from fastcore.basics import *\n",
    "from fastcore.test import *\n",
    "from typing import List"
   ]
  },
  {
   "cell_type": "code",
   "execution_count": null,
   "metadata": {},
   "outputs": [],
   "source": [
    "#| export\n",
    "\n",
    "import logging\n",
    "\n",
    "# Set up basic logging configuration\n",
    "logging.basicConfig(level=logging.INFO, format='%(message)s')\n",
    "\n",
    "logger = logging.getLogger(__name__)"
   ]
  },
  {
   "cell_type": "code",
   "execution_count": null,
   "metadata": {},
   "outputs": [],
   "source": [
    "#| export\n",
    "\n",
    "import os\n",
    "from dotenv import load_dotenv\n",
    "\n",
    "load_dotenv()\n",
    "COVALENT_API_KEY = os.environ.get('covalent_api_key')"
   ]
  },
  {
   "cell_type": "code",
   "execution_count": null,
   "metadata": {},
   "outputs": [],
   "source": [
    "#| export\n",
    "\n",
    "#The general API is: \n",
    "#                       def some_function(self,args):\n",
    "#                            url = ... #define the url \n",
    "#                            return self.get_items(url)\n",
    "\n",
    "#rather than writing self.get_items(url) every time, we can use a decorator to do this for us.\n",
    "from requests.exceptions import HTTPError, ReadTimeout, RequestException\n",
    "\n",
    "def url_decorator(func):\n",
    "    def wrapper(self, *args, **kwargs):\n",
    "        url = func(self, *args, **kwargs)\n",
    "        return self.get_items(url)\n",
    "    return wrapper\n",
    "\n",
    "class Covalent_Api:\n",
    "    \"\"\"This class is used to interact with the Covalent API.\n",
    "    \"\"\"\n",
    "\n",
    "    def __init__(self, covalent_api_key=COVALENT_API_KEY,\n",
    "                 request_timeout=30,retries=5,delay=1\n",
    "                 ):\n",
    "        self.covalent_api_key = covalent_api_key\n",
    "        self.request_timeout = request_timeout\n",
    "        self.retries = retries\n",
    "        self.delay = delay\n",
    "\n",
    "    def get_items(self, url):\n",
    "        \"\"\"Given a url, get the items from the API.\"\"\"\n",
    "\n",
    "        headers = {\"accept\": \"application/json\"}\n",
    "        basic = HTTPBasicAuth(f'{self.covalent_api_key}', '')\n",
    "\n",
    "        while self.retries > 0:\n",
    "            try:\n",
    "                response = requests.get(url, headers=headers, auth=basic, timeout=self.request_timeout)\n",
    "                response.raise_for_status()  \n",
    "                data = response.json()['data']  # Directly access 'data' field\n",
    "                \n",
    "                if data is None:\n",
    "                    logger.warning(f\"No data received from {url}. Retries left: {self.retries}\")\n",
    "                    self.retries -= 1\n",
    "                    time.sleep(self.delay)\n",
    "                    continue\n",
    "\n",
    "                if isinstance(data, list):\n",
    "                    return data\n",
    "\n",
    "                return data.get('items')\n",
    "\n",
    "            except (ReadTimeout, RequestException, HTTPError) as e:\n",
    "                logger.warning(f\"{type(e).__name__} occurred: {e} for URL: {url}. Retrying in {self.delay} seconds...\")\n",
    "                self.retries -= 1\n",
    "                time.sleep(self.delay)\n",
    "                continue\n",
    "            except Exception as e:\n",
    "                logger.error(f\"Unexpected error: {e} for URL: {url}. Returning None.\")\n",
    "                return None\n",
    "\n",
    "        logger.warning(f\"Exceeded the maximum number of retries ({self.retries}) for URL: {url} without success\")\n",
    "        return None\n",
    "\n",
    "    @url_decorator\n",
    "    def _fetch_historical_balances(self, chainName: str, walletAddress: str, date: str, quote_currency=\"USD\") -> str:\n",
    "        \"\"\"\n",
    "        This is an internal method that just constructs and returns the URL.\n",
    "        \"\"\"\n",
    "        assert type(date) is str, \"date must be a string\"\n",
    "        url = f\"https://api.covalenthq.com/v1/{chainName}/address/{walletAddress}/historical_balances/?quote-currency={quote_currency}&date={date}\"\n",
    "        return url \n",
    "\n",
    "    def get_historical_balances(self, chainName: str, walletAddress: str, date: str, quote_currency=\"USD\") -> list[dict]:\n",
    "        \"\"\"\n",
    "        Given a wallet address, get the historical balances for that wallet address on the specified chain and date.\n",
    "        This method fetches the data and then processes it.\n",
    "        \"\"\"\n",
    "        items = self._fetch_historical_balances(chainName, walletAddress, date, quote_currency)\n",
    "        if items is None:\n",
    "            logger.error(f\"Failed to fetch data for {walletAddress} on date {date}\")\n",
    "            return []\n",
    "        \n",
    "        return items \n",
    "    \n",
    "    @url_decorator\n",
    "    def get_token_holders(self, chainName: str, tokenAddress: str, block_height=None, page_size=100, page_number=None) -> list:\n",
    "        \"\"\"\n",
    "        API docs: https://www.covalenthq.com/docs/api/balances/get-token-holders-as-of-any-block-height-v2/\n",
    "        Fetches the token holders for a specific token on a given chain.\n",
    "        Note: There is a possible `block-height` parameter, which we omit for now (see the API docs to clarify)\n",
    "        \n",
    "        Inputs:\n",
    "            `chainName`: The chain name e.g. 'eth-mainnet'.\n",
    "            `tokenAddress`: The token's address.\n",
    "            `block_height`: Ending block to define a block range.\n",
    "            `page_size`: Number of items per page. Supported values are 100 and 1000.\n",
    "            `page_number`: 0-indexed page number to begin pagination.\n",
    "        Outputs:\n",
    "            `items`, a list of dictionaries, each dictionary containing information about a token holder.\n",
    "\n",
    "        Note: This gets the holders by percentage (i.e. largest holdest to smallest)\n",
    "\n",
    "        Note:\n",
    "        While the core function generates a URL, the applied @url_decorator \n",
    "        modifies the return behavior to fetch items using that URL.\n",
    "        \"\"\"\n",
    "\n",
    "        base_url = f\"https://api.covalenthq.com/v1/{chainName}/tokens/{tokenAddress}/token_holders_v2/?\"\n",
    "\n",
    "        \n",
    "        if block_height is not None:\n",
    "            base_url += f\"&block-height={block_height}\"\n",
    "        if page_size is not None:\n",
    "            base_url += f\"&page-size={page_size}\"\n",
    "        if page_number is not None:\n",
    "            base_url += f\"&page-number={page_number}\"\n",
    "\n",
    "        return base_url\n",
    "\n",
    "    def get_holders_portfolios(self,wallet_list:list[dict],chainName:str,date:str,quote_currency=\"USD\",log_output=False)->list[dict]:\n",
    "        \"\"\"Input: \n",
    "                `wallet_list`: a list of  wallets as dicts. Each dict must contain the key 'address'.\n",
    "                 See get_historical_balances for description of other inputs.\n",
    "           Output: `wallet_list` - the same list of dictionaries with the portfolio added.\n",
    "        \"\"\"\n",
    "\n",
    "        #TODO: this address 0x80f8c8d0d29c99b7af1b4d97cad357061037ecb3 seems to give false data (~$20m for ShibaDoge\n",
    "        #Maybe should email covalent about this to let them know. Please see the dextools chart for shibadoge. \n",
    "        #We plonked the info manually into the covalent API to verify and it looks like it is an issue on their end.\n",
    "        #Just something to be aware of: covalent seems to not be infallible.\n",
    "\n",
    "        # Setting up logging level based on the log_output value\n",
    "        if log_output:\n",
    "            logger.setLevel(logging.INFO)\n",
    "        else:\n",
    "            logger.setLevel(logging.WARNING)\n",
    "\n",
    "        #loop over the list of dictionaries (holders of the token)\n",
    "        for _holder in wallet_list: #this loop should be parallelized, but ok for now provided it isn't too big.\n",
    "\n",
    "            _address = _holder['address']\n",
    "            logger.info(f'getting {_address} portfolio')  # Logging statement in place of print\n",
    "            _items = self.get_historical_balances(chainName=chainName,walletAddress=_address, quote_currency=quote_currency, date=date)\n",
    "            if _items == None:\n",
    "                print(f'failed to get {_address} portfolio: `get_historical_balances` returned `None`')  # Logging statement in place of print\n",
    "                _holder['portfolio']=None\n",
    "                _holder['portfolio_sum']=None\n",
    "                continue\n",
    "\n",
    "            #TODO: Make this more efficient: possibly convert to numpy array or dataframe or something and then sum\n",
    "            \n",
    "            none_to_zero = lambda x: 0 if x is None else x\n",
    "            portfolio_sum = sum([none_to_zero(holding['quote']) for holding in _items])\n",
    "            \n",
    "            _holder['portfolio']=_items #update the _holder with the whole portfolio\n",
    "            _holder['portfolio_sum']=portfolio_sum #update the _holder with the total value of the portfolio\n",
    "\n",
    "            logger.info(f'got {_address} portfolio')  # Logging statement in place of print\n",
    "            \n",
    "        return wallet_list\n",
    "    "
   ]
  },
  {
   "cell_type": "code",
   "execution_count": null,
   "metadata": {},
   "outputs": [],
   "source": [
    "#Possible bug - wrong balance:\n",
    "\n",
    "###\n",
    "cov_api = Covalent_Api() #might need to pass an API key (different to default -- see __init__ of class)\n",
    "#tokenAddress = '0x72e4f9F808C49A2a61dE9C5896298920Dc4EEEa9' #an erc20 token address (hpbitcoin)\n",
    "chainName='eth-mainnet'\n",
    "###\n",
    "\n",
    "_address = '0x5b3e022dcd0b3151b6235b561230510c096c6b11' #top dog holder\n",
    "wallet_list = [{'address': _address}]\n",
    "date = '2023-10-25'\n",
    "token_holders = cov_api.get_holders_portfolios(wallet_list=wallet_list, chainName=chainName, date=date)\n",
    "print(token_holders[0]['portfolio_sum'])\n",
    "\n",
    "#But according to zerion etc, they have more."
   ]
  },
  {
   "cell_type": "code",
   "execution_count": null,
   "metadata": {},
   "outputs": [
    {
     "name": "stdout",
     "output_type": "stream",
     "text": [
      "43.182720073000006\n"
     ]
    }
   ],
   "source": [
    "\n",
    "cov_api = Covalent_Api() #might need to pass an API key (different to default -- see __init__ of class)\n",
    "#tokenAddress = '0x72e4f9F808C49A2a61dE9C5896298920Dc4EEEa9' #an erc20 token address (hpbitcoin)\n",
    "chainName='eth-mainnet'\n",
    "###\n",
    "\n",
    "_address = '0x7364a0f792e073814b426c918bf72792575b6c18' #\n",
    "wallet_list = [{'address': _address}]\n",
    "date = '2023-10-26'\n",
    "token_holders = cov_api.get_holders_portfolios(wallet_list=wallet_list, chainName=chainName, date=date)\n",
    "print(token_holders[0]['portfolio_sum'])\n"
   ]
  },
  {
   "cell_type": "code",
   "execution_count": null,
   "metadata": {},
   "outputs": [
    {
     "data": {
      "text/plain": [
       "{'contract_decimals': 18,\n",
       " 'contract_name': 'Cramer Coin',\n",
       " 'contract_ticker_symbol': 'CRAMER',\n",
       " 'contract_address': '0x64df3aab3b21cc275bb76c4a581cf8b726478ee0',\n",
       " 'supports_erc': ['erc20'],\n",
       " 'logo_url': 'https://logos.covalenthq.com/tokens/1/0x64df3aab3b21cc275bb76c4a581cf8b726478ee0.png',\n",
       " 'block_height': 18430676,\n",
       " 'last_transferred_block_height': 18417846,\n",
       " 'last_transferred_at': '2023-10-24T04:50:35Z',\n",
       " 'native_token': False,\n",
       " 'type': 'cryptocurrency',\n",
       " 'is_spam': False,\n",
       " 'balance': '10198876054968402625192',\n",
       " 'quote_rate': 0.00068977,\n",
       " 'quote': 7.0348787,\n",
       " 'pretty_quote': '$7.03',\n",
       " 'nft_data': None}"
      ]
     },
     "execution_count": null,
     "metadata": {},
     "output_type": "execute_result"
    }
   ],
   "source": [
    "token_holders[0]['portfolio'][2]"
   ]
  },
  {
   "cell_type": "code",
   "execution_count": null,
   "metadata": {},
   "outputs": [
    {
     "name": "stdout",
     "output_type": "stream",
     "text": [
      "[{'contract_decimals': 18, 'contract_name': '2DAI.io', 'contract_ticker_symbol': '2DAI', 'contract_address': '0xb44b653f147569d88a684cbf6549e1968e8b2a1d', 'supports_erc': ['erc20'], 'logo_url': 'https://logos.covalenthq.com/tokens/1/0xb44b653f147569d88a684cbf6549e1968e8b2a1d.png', 'block_height': 18023703, 'last_transferred_block_height': 18005101, 'last_transferred_at': '2023-08-27T09:26:47Z', 'native_token': False, 'type': 'cryptocurrency', 'is_spam': False, 'balance': '610665846022468007830200', 'quote_rate': 0.0015497, 'quote': 946.3489, 'pretty_quote': '$946.35', 'nft_data': None}, {'contract_decimals': 18, 'contract_name': 'EverMoon', 'contract_ticker_symbol': 'EVERMOON', 'contract_address': '0x4ad434b8cdc3aa5ac97932d6bd18b5d313ab0f6f', 'supports_erc': ['erc20'], 'logo_url': 'https://logos.covalenthq.com/tokens/1/0x4ad434b8cdc3aa5ac97932d6bd18b5d313ab0f6f.png', 'block_height': 18023703, 'last_transferred_block_height': 17760310, 'last_transferred_at': '2023-07-24T03:33:23Z', 'native_token': False, 'type': 'cryptocurrency', 'is_spam': False, 'balance': '90517462125132589232055', 'quote_rate': 0.0023993, 'quote': 217.17854, 'pretty_quote': '$217.18', 'nft_data': None}, {'contract_decimals': 8, 'contract_name': 'XDOGE', 'contract_ticker_symbol': 'XDOGE', 'contract_address': '0xd2b274cfbf9534f56b59ad0fb7e645e0354f4941', 'supports_erc': ['erc20'], 'logo_url': 'https://logos.covalenthq.com/tokens/1/0xd2b274cfbf9534f56b59ad0fb7e645e0354f4941.png', 'block_height': 18023703, 'last_transferred_block_height': 18021366, 'last_transferred_at': '2023-08-29T16:08:47Z', 'native_token': False, 'type': 'cryptocurrency', 'is_spam': False, 'balance': '14773554278629680653', 'quote_rate': 1.151e-09, 'quote': 170.04361, 'pretty_quote': '$170.04', 'nft_data': None}, {'contract_decimals': 18, 'contract_name': 'Ether', 'contract_ticker_symbol': 'ETH', 'contract_address': '0xeeeeeeeeeeeeeeeeeeeeeeeeeeeeeeeeeeeeeeee', 'supports_erc': None, 'logo_url': 'https://www.datocms-assets.com/86369/1669619533-ethereum.png', 'block_height': 18023703, 'last_transferred_block_height': 18021366, 'last_transferred_at': '2023-08-29T16:08:47Z', 'native_token': True, 'type': 'cryptocurrency', 'is_spam': False, 'balance': '40355292544779705', 'quote_rate': 1729.106, 'quote': 69.77858, 'pretty_quote': '$69.78', 'nft_data': None}, {'contract_decimals': 18, 'contract_name': 'FUCK PEPE', 'contract_ticker_symbol': 'FKPEPE', 'contract_address': '0x082646b22a3960da69ef7a778c16dd6fb85dd999', 'supports_erc': ['erc20'], 'logo_url': 'https://logos.covalenthq.com/tokens/1/0x082646b22a3960da69ef7a778c16dd6fb85dd999.png', 'block_height': 18023703, 'last_transferred_block_height': 17400711, 'last_transferred_at': '2023-06-03T14:20:47Z', 'native_token': False, 'type': 'cryptocurrency', 'is_spam': False, 'balance': '38758428580088520560678430883', 'quote_rate': 3.4365e-10, 'quote': 13.319334, 'pretty_quote': '$13.32', 'nft_data': None}, {'contract_decimals': 18, 'contract_name': 'Polkamon', 'contract_ticker_symbol': 'PMON', 'contract_address': '0x1796ae0b0fa4862485106a0de9b654efe301d0b2', 'supports_erc': ['erc20'], 'logo_url': 'https://logos.covalenthq.com/tokens/1/0x1796ae0b0fa4862485106a0de9b654efe301d0b2.png', 'block_height': 18023703, 'last_transferred_block_height': 12170663, 'last_transferred_at': '2021-04-04T03:19:04Z', 'native_token': False, 'type': 'cryptocurrency', 'is_spam': False, 'balance': '9698113661858928793', 'quote_rate': 0.4098, 'quote': 3.9742868, 'pretty_quote': '$3.97', 'nft_data': None}, {'contract_decimals': 9, 'contract_name': 'Olympus', 'contract_ticker_symbol': 'OHM', 'contract_address': '0x64aa3364f17a4d01c6f1751fd97c2bd3d7e7f1d5', 'supports_erc': ['erc20'], 'logo_url': 'https://logos.covalenthq.com/tokens/1/0x64aa3364f17a4d01c6f1751fd97c2bd3d7e7f1d5.png', 'block_height': 18023703, 'last_transferred_block_height': 14227349, 'last_transferred_at': '2022-02-18T02:17:30Z', 'native_token': False, 'type': 'cryptocurrency', 'is_spam': False, 'balance': '4758462', 'quote_rate': 10.895, 'quote': 0.051843446, 'pretty_quote': '$0.05', 'nft_data': None}, {'contract_decimals': 2, 'contract_name': 'Biaocoin', 'contract_ticker_symbol': 'BIAO', 'contract_address': '0x00282fd551d03dc033256c4bf119532e8c735d8a', 'supports_erc': ['erc20'], 'logo_url': 'https://logos.covalenthq.com/tokens/1/0x00282fd551d03dc033256c4bf119532e8c735d8a.png', 'block_height': 18023703, 'last_transferred_block_height': 17391887, 'last_transferred_at': '2023-06-02T08:31:11Z', 'native_token': False, 'type': 'dust', 'is_spam': False, 'balance': '0', 'quote_rate': 1.84e-07, 'quote': 0.0, 'pretty_quote': '$0.00', 'nft_data': None}, {'contract_decimals': 18, 'contract_name': 'KiboShib', 'contract_ticker_symbol': 'KIBSHI', 'contract_address': '0x02e7f808990638e9e67e1f00313037ede2362361', 'supports_erc': ['erc20'], 'logo_url': 'https://logos.covalenthq.com/tokens/1/0x02e7f808990638e9e67e1f00313037ede2362361.png', 'block_height': 18023703, 'last_transferred_block_height': 17314833, 'last_transferred_at': '2023-05-22T12:28:23Z', 'native_token': False, 'type': 'dust', 'is_spam': False, 'balance': '0', 'quote_rate': 1.2e-07, 'quote': 0.0, 'pretty_quote': '$0.00', 'nft_data': None}, {'contract_decimals': 9, 'contract_name': 'BEER', 'contract_ticker_symbol': 'BEER', 'contract_address': '0x0d58df0929b6baf8ed231f3fa672f0e5dcd665f7', 'supports_erc': ['erc20'], 'logo_url': 'https://logos.covalenthq.com/tokens/1/0x0d58df0929b6baf8ed231f3fa672f0e5dcd665f7.png', 'block_height': 18023703, 'last_transferred_block_height': 17369315, 'last_transferred_at': '2023-05-30T04:16:11Z', 'native_token': False, 'type': 'dust', 'is_spam': False, 'balance': '0', 'quote_rate': 1.51e-11, 'quote': 0.0, 'pretty_quote': '$0.00', 'nft_data': None}, {'contract_decimals': 18, 'contract_name': 'SchwiftAI', 'contract_ticker_symbol': 'SWAI', 'contract_address': '0x3540dfcad7cf102a2e44aa0e2132fab1c89d7eae', 'supports_erc': ['erc20'], 'logo_url': 'https://logos.covalenthq.com/tokens/1/0x3540dfcad7cf102a2e44aa0e2132fab1c89d7eae.png', 'block_height': 18023703, 'last_transferred_block_height': 17294212, 'last_transferred_at': '2023-05-19T14:45:23Z', 'native_token': False, 'type': 'dust', 'is_spam': False, 'balance': '0', 'quote_rate': 1.30184e-05, 'quote': 0.0, 'pretty_quote': '$0.00', 'nft_data': None}, {'contract_decimals': 18, 'contract_name': 'Rabbit Race', 'contract_ticker_symbol': 'RABBITS', 'contract_address': '0x3576eff2be8b1a31782b3e8dfd962a6ddb087890', 'supports_erc': ['erc20'], 'logo_url': 'https://logos.covalenthq.com/tokens/1/0x3576eff2be8b1a31782b3e8dfd962a6ddb087890.png', 'block_height': 18023703, 'last_transferred_block_height': 17824316, 'last_transferred_at': '2023-08-02T02:25:23Z', 'native_token': False, 'type': 'dust', 'is_spam': False, 'balance': '0', 'quote_rate': 0.0010809, 'quote': 0.0, 'pretty_quote': '$0.00', 'nft_data': None}, {'contract_decimals': 18, 'contract_name': 'Binance USD', 'contract_ticker_symbol': 'BUSD', 'contract_address': '0x4fabb145d64652a948d72533023f6e7a623c7c53', 'supports_erc': ['erc20'], 'logo_url': 'https://logos.covalenthq.com/tokens/1/0x4fabb145d64652a948d72533023f6e7a623c7c53.png', 'block_height': 18023703, 'last_transferred_block_height': 16080923, 'last_transferred_at': '2022-11-30T06:09:47Z', 'native_token': False, 'type': 'dust', 'is_spam': False, 'balance': '0', 'quote_rate': 1.002, 'quote': 0.0, 'pretty_quote': '$0.00', 'nft_data': None}, {'contract_decimals': 18, 'contract_name': 'CAROLINE', 'contract_ticker_symbol': 'HER', 'contract_address': '0x5c2975269e74cb3a8514e5b800a1e66c694d4df8', 'supports_erc': ['erc20'], 'logo_url': 'https://logos.covalenthq.com/tokens/1/0x5c2975269e74cb3a8514e5b800a1e66c694d4df8.png', 'block_height': 18023703, 'last_transferred_block_height': 17293469, 'last_transferred_at': '2023-05-19T12:14:35Z', 'native_token': False, 'type': 'dust', 'is_spam': False, 'balance': '0', 'quote_rate': 1.3731e-06, 'quote': 0.0, 'pretty_quote': '$0.00', 'nft_data': None}, {'contract_decimals': 18, 'contract_name': 'Dai Stablecoin', 'contract_ticker_symbol': 'DAI', 'contract_address': '0x6b175474e89094c44da98b954eedeac495271d0f', 'supports_erc': ['erc20'], 'logo_url': 'https://logos.covalenthq.com/tokens/1/0x6b175474e89094c44da98b954eedeac495271d0f.png', 'block_height': 18023703, 'last_transferred_block_height': 16080931, 'last_transferred_at': '2022-11-30T06:11:23Z', 'native_token': False, 'type': 'dust', 'is_spam': False, 'balance': '0', 'quote_rate': 1.0, 'quote': 0.0, 'pretty_quote': '$0.00', 'nft_data': None}, {'contract_decimals': 9, 'contract_name': 'Image Generation AI | imgnAI.com', 'contract_ticker_symbol': 'imgnAI', 'contract_address': '0xa735a3af76cc30791c61c10d585833829d36cbe0', 'supports_erc': ['erc20'], 'logo_url': 'https://logos.covalenthq.com/tokens/1/0xa735a3af76cc30791c61c10d585833829d36cbe0.png', 'block_height': 18023703, 'last_transferred_block_height': 17222718, 'last_transferred_at': '2023-05-09T11:53:23Z', 'native_token': False, 'type': 'dust', 'is_spam': False, 'balance': '0', 'quote_rate': 0.0186987, 'quote': 0.0, 'pretty_quote': '$0.00', 'nft_data': None}, {'contract_decimals': 18, 'contract_name': 'Good Gensler', 'contract_ticker_symbol': 'GENSLR', 'contract_address': '0xad1a5b8538a866ecd56ddd328b50ed57ced5d936', 'supports_erc': ['erc20'], 'logo_url': 'https://logos.covalenthq.com/tokens/1/0xad1a5b8538a866ecd56ddd328b50ed57ced5d936.png', 'block_height': 18023703, 'last_transferred_block_height': 17364520, 'last_transferred_at': '2023-05-29T12:03:23Z', 'native_token': False, 'type': 'dust', 'is_spam': False, 'balance': '0', 'quote_rate': 9.0984e-10, 'quote': 0.0, 'pretty_quote': '$0.00', 'nft_data': None}, {'contract_decimals': 9, 'contract_name': 'WarioXrpDumbledoreYugioh69Inu', 'contract_ticker_symbol': 'XRP', 'contract_address': '0xb1c064c3f2908f741c9dea4afc5773238b53e6cc', 'supports_erc': ['erc20'], 'logo_url': 'https://logos.covalenthq.com/tokens/1/0xb1c064c3f2908f741c9dea4afc5773238b53e6cc.png', 'block_height': 18023703, 'last_transferred_block_height': 17731080, 'last_transferred_at': '2023-07-20T01:23:11Z', 'native_token': False, 'type': 'dust', 'is_spam': False, 'balance': '0', 'quote_rate': 6.07e-05, 'quote': 0.0, 'pretty_quote': '$0.00', 'nft_data': None}, {'contract_decimals': 6, 'contract_name': 'Tether USD', 'contract_ticker_symbol': 'USDT', 'contract_address': '0xdac17f958d2ee523a2206206994597c13d831ec7', 'supports_erc': ['erc20'], 'logo_url': 'https://logos.covalenthq.com/tokens/1/0xdac17f958d2ee523a2206206994597c13d831ec7.png', 'block_height': 18023703, 'last_transferred_block_height': 17890232, 'last_transferred_at': '2023-08-11T07:44:11Z', 'native_token': False, 'type': 'dust', 'is_spam': False, 'balance': '0', 'quote_rate': 0.9994, 'quote': 0.0, 'pretty_quote': '$0.00', 'nft_data': None}, {'contract_decimals': 9, 'contract_name': 'AudioAI', 'contract_ticker_symbol': 'AAI', 'contract_address': '0x072668a75ba5a0740582d44c8d55a85aadb0644a', 'supports_erc': ['erc20'], 'logo_url': 'https://logos.covalenthq.com/tokens/1/0x072668a75ba5a0740582d44c8d55a85aadb0644a.png', 'block_height': 18023703, 'last_transferred_block_height': 17767025, 'last_transferred_at': '2023-07-25T02:06:11Z', 'native_token': False, 'type': 'dust', 'is_spam': False, 'balance': '0', 'quote_rate': None, 'quote': None, 'pretty_quote': None, 'nft_data': None}, {'contract_decimals': 18, 'contract_name': 'Popeye', 'contract_ticker_symbol': 'PEYE', 'contract_address': '0x07fa44538ea698641eac40008bb1f7d6dda21d1c', 'supports_erc': ['erc20'], 'logo_url': 'https://logos.covalenthq.com/tokens/1/0x07fa44538ea698641eac40008bb1f7d6dda21d1c.png', 'block_height': 18023703, 'last_transferred_block_height': 17371519, 'last_transferred_at': '2023-05-30T11:43:11Z', 'native_token': False, 'type': 'cryptocurrency', 'is_spam': False, 'balance': '4096686953242119607438589', 'quote_rate': None, 'quote': None, 'pretty_quote': None, 'nft_data': None}, {'contract_decimals': 9, 'contract_name': 'Spidey', 'contract_ticker_symbol': 'SPIDEY', 'contract_address': '0x0bf7ce0233973f4fc98d978cf470299863312cc3', 'supports_erc': ['erc20'], 'logo_url': 'https://logos.covalenthq.com/tokens/1/0x0bf7ce0233973f4fc98d978cf470299863312cc3.png', 'block_height': 18023703, 'last_transferred_block_height': 17394248, 'last_transferred_at': '2023-06-02T16:31:23Z', 'native_token': False, 'type': 'dust', 'is_spam': False, 'balance': '0', 'quote_rate': None, 'quote': None, 'pretty_quote': None, 'nft_data': None}, {'contract_decimals': 6, 'contract_name': 'PopXi', 'contract_ticker_symbol': 'POPXI', 'contract_address': '0x1864c4a8ab10504998086715e915fabcf67abe84', 'supports_erc': ['erc20'], 'logo_url': 'https://logos.covalenthq.com/tokens/1/0x1864c4a8ab10504998086715e915fabcf67abe84.png', 'block_height': 18023703, 'last_transferred_block_height': 17371931, 'last_transferred_at': '2023-05-30T13:06:11Z', 'native_token': False, 'type': 'cryptocurrency', 'is_spam': False, 'balance': '78110376997267', 'quote_rate': None, 'quote': None, 'pretty_quote': None, 'nft_data': None}, {'contract_decimals': 18, 'contract_name': 'Yeet ze Jeet', 'contract_ticker_symbol': 'YEET', 'contract_address': '0x226597281b5706ffb963f1890b5a2794f86e5228', 'supports_erc': ['erc20'], 'logo_url': 'https://logos.covalenthq.com/tokens/1/0x226597281b5706ffb963f1890b5a2794f86e5228.png', 'block_height': 18023703, 'last_transferred_block_height': 17824323, 'last_transferred_at': '2023-08-02T02:26:47Z', 'native_token': False, 'type': 'dust', 'is_spam': False, 'balance': '0', 'quote_rate': None, 'quote': None, 'pretty_quote': None, 'nft_data': None}, {'contract_decimals': 18, 'contract_name': 'Text2VidAI', 'contract_ticker_symbol': 'T2V', 'contract_address': '0x27bcfc2c049224383275ea1d226190a004737e86', 'supports_erc': ['erc20'], 'logo_url': 'https://logos.covalenthq.com/tokens/1/0x27bcfc2c049224383275ea1d226190a004737e86.png', 'block_height': 18023703, 'last_transferred_block_height': 18004793, 'last_transferred_at': '2023-08-27T08:24:23Z', 'native_token': False, 'type': 'dust', 'is_spam': False, 'balance': '0', 'quote_rate': None, 'quote': None, 'pretty_quote': None, 'nft_data': None}, {'contract_decimals': 18, 'contract_name': 'IQ', 'contract_ticker_symbol': 'IQ', 'contract_address': '0x2c6693389078b6f8b0691e3cb97a85e5e3cfcc04', 'supports_erc': ['erc20'], 'logo_url': 'https://logos.covalenthq.com/tokens/1/0x2c6693389078b6f8b0691e3cb97a85e5e3cfcc04.png', 'block_height': 18023703, 'last_transferred_block_height': 17369326, 'last_transferred_at': '2023-05-30T04:18:23Z', 'native_token': False, 'type': 'dust', 'is_spam': False, 'balance': '0', 'quote_rate': None, 'quote': None, 'pretty_quote': None, 'nft_data': None}, {'contract_decimals': 9, 'contract_name': 'Made In China', 'contract_ticker_symbol': '$CHINA', 'contract_address': '0x2eb714fa68e9873ce457bd6da60a4966d0c76591', 'supports_erc': ['erc20'], 'logo_url': 'https://logos.covalenthq.com/tokens/1/0x2eb714fa68e9873ce457bd6da60a4966d0c76591.png', 'block_height': 18023703, 'last_transferred_block_height': 17362843, 'last_transferred_at': '2023-05-29T06:23:59Z', 'native_token': False, 'type': 'dust', 'is_spam': False, 'balance': '0', 'quote_rate': None, 'quote': None, 'pretty_quote': None, 'nft_data': None}, {'contract_decimals': 9, 'contract_name': 'Kermit', 'contract_ticker_symbol': '克米特', 'contract_address': '0x393f7e69d58af4b0508226533b33c49f90b6a49b', 'supports_erc': ['erc20'], 'logo_url': 'https://logos.covalenthq.com/tokens/1/0x393f7e69d58af4b0508226533b33c49f90b6a49b.png', 'block_height': 18023703, 'last_transferred_block_height': 17393228, 'last_transferred_at': '2023-06-02T13:04:47Z', 'native_token': False, 'type': 'dust', 'is_spam': False, 'balance': '0', 'quote_rate': None, 'quote': None, 'pretty_quote': None, 'nft_data': None}, {'contract_decimals': 9, 'contract_name': 'B-Nomad', 'contract_ticker_symbol': 'BNomad', 'contract_address': '0x40dea65c8b6e2e672b24f0bd9999124b5408201c', 'supports_erc': ['erc20'], 'logo_url': 'https://logos.covalenthq.com/tokens/1/0x40dea65c8b6e2e672b24f0bd9999124b5408201c.png', 'block_height': 18023703, 'last_transferred_block_height': 17328000, 'last_transferred_at': '2023-05-24T08:55:35Z', 'native_token': False, 'type': 'dust', 'is_spam': False, 'balance': '0', 'quote_rate': None, 'quote': None, 'pretty_quote': None, 'nft_data': None}, {'contract_decimals': 9, 'contract_name': 'FUCKRACE', 'contract_ticker_symbol': 'FCKR', 'contract_address': '0x4911e8cbe156589e8516769800ed494f34668e55', 'supports_erc': ['erc20'], 'logo_url': 'https://logos.covalenthq.com/tokens/1/0x4911e8cbe156589e8516769800ed494f34668e55.png', 'block_height': 18023703, 'last_transferred_block_height': 17841849, 'last_transferred_at': '2023-08-04T13:14:11Z', 'native_token': False, 'type': 'cryptocurrency', 'is_spam': False, 'balance': '136925287848422085', 'quote_rate': None, 'quote': None, 'pretty_quote': None, 'nft_data': None}, {'contract_decimals': 9, 'contract_name': 'GOD', 'contract_ticker_symbol': 'GOD', 'contract_address': '0x4c746edf20762dc201ac40135e0c13e400d23d58', 'supports_erc': ['erc20'], 'logo_url': 'https://logos.covalenthq.com/tokens/1/0x4c746edf20762dc201ac40135e0c13e400d23d58.png', 'block_height': 18023703, 'last_transferred_block_height': 17313237, 'last_transferred_at': '2023-05-22T07:04:47Z', 'native_token': False, 'type': 'cryptocurrency', 'is_spam': False, 'balance': '435803648939831157', 'quote_rate': None, 'quote': None, 'pretty_quote': None, 'nft_data': None}, {'contract_decimals': 18, 'contract_name': 'Starzy', 'contract_ticker_symbol': 'STARZY', 'contract_address': '0x51546745a0f9112a5f42bd492a90f7fb389c72fc', 'supports_erc': ['erc20'], 'logo_url': 'https://logos.covalenthq.com/tokens/1/0x51546745a0f9112a5f42bd492a90f7fb389c72fc.png', 'block_height': 18023703, 'last_transferred_block_height': 17330154, 'last_transferred_at': '2023-05-24T16:12:11Z', 'native_token': False, 'type': 'cryptocurrency', 'is_spam': False, 'balance': '26473283757392366222154886', 'quote_rate': None, 'quote': None, 'pretty_quote': None, 'nft_data': None}, {'contract_decimals': 9, 'contract_name': 'MAGA', 'contract_ticker_symbol': 'TRUMP', 'contract_address': '0x576e2bed8f7b46d34016198911cdf9886f78bea7', 'supports_erc': ['erc20'], 'logo_url': 'https://logos.covalenthq.com/tokens/1/0x576e2bed8f7b46d34016198911cdf9886f78bea7.png', 'block_height': 18023703, 'last_transferred_block_height': 17990260, 'last_transferred_at': '2023-08-25T07:36:35Z', 'native_token': False, 'type': 'cryptocurrency', 'is_spam': False, 'balance': '2228375570770', 'quote_rate': None, 'quote': None, 'pretty_quote': None, 'nft_data': None}, {'contract_decimals': 18, 'contract_name': 'JohnXina', 'contract_ticker_symbol': 'XINA', 'contract_address': '0x58e496db58c1f398965c4ea4d76e1c9a8fe87cb5', 'supports_erc': ['erc20'], 'logo_url': 'https://logos.covalenthq.com/tokens/1/0x58e496db58c1f398965c4ea4d76e1c9a8fe87cb5.png', 'block_height': 18023703, 'last_transferred_block_height': 17533436, 'last_transferred_at': '2023-06-22T06:38:47Z', 'native_token': False, 'type': 'dust', 'is_spam': False, 'balance': '0', 'quote_rate': None, 'quote': None, 'pretty_quote': None, 'nft_data': None}, {'contract_decimals': 9, 'contract_name': 'RICE COIN', 'contract_ticker_symbol': '饭', 'contract_address': '0x66f7b851bf3321a660b13c5e37b0757b313ee2bf', 'supports_erc': ['erc20'], 'logo_url': 'https://logos.covalenthq.com/tokens/1/0x66f7b851bf3321a660b13c5e37b0757b313ee2bf.png', 'block_height': 18023703, 'last_transferred_block_height': 17376347, 'last_transferred_at': '2023-05-31T04:00:11Z', 'native_token': False, 'type': 'cryptocurrency', 'is_spam': False, 'balance': '5071130987369915914', 'quote_rate': None, 'quote': None, 'pretty_quote': None, 'nft_data': None}, {'contract_decimals': 18, 'contract_name': 'Rigby Regular Show', 'contract_ticker_symbol': 'RIGBY', 'contract_address': '0x673fc1409c2334a3f26e33f37721d7e2707c7959', 'supports_erc': ['erc20'], 'logo_url': 'https://logos.covalenthq.com/tokens/1/0x673fc1409c2334a3f26e33f37721d7e2707c7959.png', 'block_height': 18023703, 'last_transferred_block_height': 17321158, 'last_transferred_at': '2023-05-23T09:50:11Z', 'native_token': False, 'type': 'dust', 'is_spam': False, 'balance': '0', 'quote_rate': None, 'quote': None, 'pretty_quote': None, 'nft_data': None}, {'contract_decimals': 9, 'contract_name': 'Tang Dynasty', 'contract_ticker_symbol': 'TANG', 'contract_address': '0x7699b0cac09d03714ac2fa3da9ced13d0c5db03d', 'supports_erc': ['erc20'], 'logo_url': 'https://logos.covalenthq.com/tokens/1/0x7699b0cac09d03714ac2fa3da9ced13d0c5db03d.png', 'block_height': 18023703, 'last_transferred_block_height': 17407374, 'last_transferred_at': '2023-06-04T12:54:59Z', 'native_token': False, 'type': 'cryptocurrency', 'is_spam': False, 'balance': '77710892656847', 'quote_rate': None, 'quote': None, 'pretty_quote': None, 'nft_data': None}, {'contract_decimals': 9, 'contract_name': 'MegaMind ', 'contract_ticker_symbol': '$MIND  ', 'contract_address': '0x8ad3a0b5913389bc80e09a099c9297bec8e776a8', 'supports_erc': ['erc20'], 'logo_url': 'https://logos.covalenthq.com/tokens/1/0x8ad3a0b5913389bc80e09a099c9297bec8e776a8.png', 'block_height': 18023703, 'last_transferred_block_height': 17292045, 'last_transferred_at': '2023-05-19T07:25:47Z', 'native_token': False, 'type': 'cryptocurrency', 'is_spam': False, 'balance': '7480986519385538', 'quote_rate': None, 'quote': None, 'pretty_quote': None, 'nft_data': None}, {'contract_decimals': 18, 'contract_name': 'Happy Tree Friends', 'contract_ticker_symbol': 'HTF', 'contract_address': '0x9270696c3b052cefac539ffe1fe65f14b04cb85d', 'supports_erc': ['erc20'], 'logo_url': 'https://logos.covalenthq.com/tokens/1/0x9270696c3b052cefac539ffe1fe65f14b04cb85d.png', 'block_height': 18023703, 'last_transferred_block_height': 17401190, 'last_transferred_at': '2023-06-03T15:57:59Z', 'native_token': False, 'type': 'cryptocurrency', 'is_spam': False, 'balance': '2346998870415587134002', 'quote_rate': None, 'quote': None, 'pretty_quote': None, 'nft_data': None}, {'contract_decimals': 18, 'contract_name': 'Proof of Anon', 'contract_ticker_symbol': '0xProof', 'contract_address': '0x9464dd05cac8ae74bf522e4c10725db6b56f92bc', 'supports_erc': ['erc20'], 'logo_url': 'https://logos.covalenthq.com/tokens/1/0x9464dd05cac8ae74bf522e4c10725db6b56f92bc.png', 'block_height': 18023703, 'last_transferred_block_height': 17726157, 'last_transferred_at': '2023-07-19T08:50:35Z', 'native_token': False, 'type': 'dust', 'is_spam': False, 'balance': '0', 'quote_rate': None, 'quote': None, 'pretty_quote': None, 'nft_data': None}, {'contract_decimals': 18, 'contract_name': 'DOGEGPT', 'contract_ticker_symbol': 'DogeGPT', 'contract_address': '0xa47873467da108eadf7e7dec0c94020aa30a1ff1', 'supports_erc': ['erc20'], 'logo_url': 'https://logos.covalenthq.com/tokens/1/0xa47873467da108eadf7e7dec0c94020aa30a1ff1.png', 'block_height': 18023703, 'last_transferred_block_height': 17407166, 'last_transferred_at': '2023-06-04T12:12:47Z', 'native_token': False, 'type': 'cryptocurrency', 'is_spam': False, 'balance': '2150345175940046712267665651668', 'quote_rate': None, 'quote': None, 'pretty_quote': None, 'nft_data': None}, {'contract_decimals': 9, 'contract_name': 'Barbie Token', 'contract_ticker_symbol': 'BARBIE', 'contract_address': '0xb2807e2312f3b02b40653203dfcb3f2e01115c69', 'supports_erc': ['erc20'], 'logo_url': 'https://logos.covalenthq.com/tokens/1/0xb2807e2312f3b02b40653203dfcb3f2e01115c69.png', 'block_height': 18023703, 'last_transferred_block_height': 17369361, 'last_transferred_at': '2023-05-30T04:25:35Z', 'native_token': False, 'type': 'dust', 'is_spam': False, 'balance': '0', 'quote_rate': None, 'quote': None, 'pretty_quote': None, 'nft_data': None}, {'contract_decimals': 8, 'contract_name': 'MdmaCocaineSpeedEcstasyHeroinCrystalMethMushrooms', 'contract_ticker_symbol': 'DRUGS', 'contract_address': '0xc60e5f480e367d85c5fcc2298eb77d145a1b8383', 'supports_erc': ['erc20'], 'logo_url': 'https://logos.covalenthq.com/tokens/1/0xc60e5f480e367d85c5fcc2298eb77d145a1b8383.png', 'block_height': 18023703, 'last_transferred_block_height': 17983955, 'last_transferred_at': '2023-08-24T10:25:59Z', 'native_token': False, 'type': 'cryptocurrency', 'is_spam': False, 'balance': '86097106', 'quote_rate': None, 'quote': None, 'pretty_quote': None, 'nft_data': None}, {'contract_decimals': 18, 'contract_name': 'Nakamigos', 'contract_ticker_symbol': 'MIGOS', 'contract_address': '0xd465a1638f66826b202fb5684ed6c66f37ddca69', 'supports_erc': ['erc20'], 'logo_url': 'https://logos.covalenthq.com/tokens/1/0xd465a1638f66826b202fb5684ed6c66f37ddca69.png', 'block_height': 18023703, 'last_transferred_block_height': 17363430, 'last_transferred_at': '2023-05-29T08:22:47Z', 'native_token': False, 'type': 'dust', 'is_spam': False, 'balance': '0', 'quote_rate': None, 'quote': None, 'pretty_quote': None, 'nft_data': None}, {'contract_decimals': 18, 'contract_name': 'CHAD token', 'contract_ticker_symbol': 'CHAD', 'contract_address': '0xd542390757837a45d99fbddb36e4f0f7f8c0d767', 'supports_erc': ['erc20'], 'logo_url': 'https://logos.covalenthq.com/tokens/1/0xd542390757837a45d99fbddb36e4f0f7f8c0d767.png', 'block_height': 18023703, 'last_transferred_block_height': 17294198, 'last_transferred_at': '2023-05-19T14:42:35Z', 'native_token': False, 'type': 'dust', 'is_spam': False, 'balance': '0', 'quote_rate': None, 'quote': None, 'pretty_quote': None, 'nft_data': None}, {'contract_decimals': 9, 'contract_name': 'Something', 'contract_ticker_symbol': 'SOMETHING', 'contract_address': '0xd57cdba5e2828ee1411530a38326e56347da8771', 'supports_erc': ['erc20'], 'logo_url': 'https://logos.covalenthq.com/tokens/1/0xd57cdba5e2828ee1411530a38326e56347da8771.png', 'block_height': 18023703, 'last_transferred_block_height': 17666430, 'last_transferred_at': '2023-07-10T23:10:23Z', 'native_token': False, 'type': 'cryptocurrency', 'is_spam': False, 'balance': '2776134890703', 'quote_rate': None, 'quote': None, 'pretty_quote': None, 'nft_data': None}, {'contract_decimals': 9, 'contract_name': 'FUCK MY LIFE', 'contract_ticker_symbol': 'FML', 'contract_address': '0xdbebc7aad915be80fad033ddb5ce437c35fc3265', 'supports_erc': ['erc20'], 'logo_url': 'https://logos.covalenthq.com/tokens/1/0xdbebc7aad915be80fad033ddb5ce437c35fc3265.png', 'block_height': 18023703, 'last_transferred_block_height': 17315971, 'last_transferred_at': '2023-05-22T16:19:11Z', 'native_token': False, 'type': 'dust', 'is_spam': False, 'balance': '0', 'quote_rate': None, 'quote': None, 'pretty_quote': None, 'nft_data': None}, {'contract_decimals': None, 'contract_name': None, 'contract_ticker_symbol': None, 'contract_address': '0xebe8b87b93f946cb80b067987a96a838a147caf0', 'supports_erc': ['erc20'], 'logo_url': 'https://logos.covalenthq.com/tokens/1/0xebe8b87b93f946cb80b067987a96a838a147caf0.png', 'block_height': 18023703, 'last_transferred_block_height': 17383928, 'last_transferred_at': '2023-06-01T05:36:47Z', 'native_token': False, 'type': 'dust', 'is_spam': False, 'balance': '669289122635801', 'quote_rate': None, 'quote': None, 'pretty_quote': None, 'nft_data': None}, {'contract_decimals': 9, 'contract_name': 'Spidey', 'contract_ticker_symbol': 'SPIDEY', 'contract_address': '0xeec99623e79206b8f762623f59f32e88c98b4968', 'supports_erc': ['erc20'], 'logo_url': 'https://logos.covalenthq.com/tokens/1/0xeec99623e79206b8f762623f59f32e88c98b4968.png', 'block_height': 18023703, 'last_transferred_block_height': 17391933, 'last_transferred_at': '2023-06-02T08:40:23Z', 'native_token': False, 'type': 'dust', 'is_spam': False, 'balance': '0', 'quote_rate': None, 'quote': None, 'pretty_quote': None, 'nft_data': None}, {'contract_decimals': 8, 'contract_name': 'Nihao Inu', 'contract_ticker_symbol': 'NINU', 'contract_address': '0xef8208620657ecbae253b2dd6eb940e202f9a70c', 'supports_erc': ['erc20'], 'logo_url': 'https://logos.covalenthq.com/tokens/1/0xef8208620657ecbae253b2dd6eb940e202f9a70c.png', 'block_height': 18023703, 'last_transferred_block_height': 17390885, 'last_transferred_at': '2023-06-02T05:07:23Z', 'native_token': False, 'type': 'dust', 'is_spam': False, 'balance': '0', 'quote_rate': None, 'quote': None, 'pretty_quote': None, 'nft_data': None}]\n"
     ]
    }
   ],
   "source": [
    "#Prototyping \n",
    "###Setup: hyperparameters\n",
    "cov_api = Covalent_Api() #might need to pass an API key (different to default -- see __init__ of class)\n",
    "#tokenAddress = '0x72e4f9F808C49A2a61dE9C5896298920Dc4EEEa9' #an erc20 token address (hpbitcoin)\n",
    "chainName='eth-mainnet'\n",
    "###\n",
    "\n",
    "\n",
    "#New args required:\n",
    "walletAddress = '0x7364a0f792e073814B426c918bf72792575b6c18'\n",
    "date = '2023-08-30' #a date\n",
    "\n",
    "#Get the historical balances for a given wallet address on a given chain and date\n",
    "_holdings = cov_api.get_historical_balances(chainName=chainName,walletAddress=walletAddress,date=date) #This is a list of dicts\n",
    "\n",
    "print(_holdings)"
   ]
  },
  {
   "cell_type": "code",
   "execution_count": null,
   "metadata": {},
   "outputs": [
    {
     "data": {
      "text/plain": [
       "{'contract_decimals': 18,\n",
       " 'contract_name': 'EverMoon',\n",
       " 'contract_ticker_symbol': 'EVERMOON',\n",
       " 'contract_address': '0x4ad434b8cdc3aa5ac97932d6bd18b5d313ab0f6f',\n",
       " 'supports_erc': ['erc20'],\n",
       " 'logo_url': 'https://logos.covalenthq.com/tokens/1/0x4ad434b8cdc3aa5ac97932d6bd18b5d313ab0f6f.png',\n",
       " 'block_height': 18023703,\n",
       " 'last_transferred_block_height': 17760310,\n",
       " 'last_transferred_at': '2023-07-24T03:33:23Z',\n",
       " 'native_token': False,\n",
       " 'type': 'cryptocurrency',\n",
       " 'is_spam': False,\n",
       " 'balance': '90517462125132589232055',\n",
       " 'quote_rate': 0.0023993,\n",
       " 'quote': 217.17854,\n",
       " 'pretty_quote': '$217.18',\n",
       " 'nft_data': None}"
      ]
     },
     "execution_count": null,
     "metadata": {},
     "output_type": "execute_result"
    }
   ],
   "source": [
    "_holdings[1]"
   ]
  },
  {
   "cell_type": "markdown",
   "metadata": {},
   "source": [
    "**PROBLEM**\n",
    "\n",
    "Currently it does not successfully get all holdings. e.g. for my own metamask wallet,\n",
    "it correctly retrieves that there is a holding (as of time of writing, Oct 2023) `Baconator`\n",
    "however, it does not retrieve price data (i.e. `quote` is `None`). However, we can get \n",
    "this quantity through other APIs, e.g. `moralis` - which is slow and has cost, or `zerion`\n",
    "which (atm) is free, but also slow per API call.\n",
    "\n",
    "Anyway. "
   ]
  },
  {
   "cell_type": "markdown",
   "metadata": {},
   "source": [
    "How to use:"
   ]
  },
  {
   "cell_type": "code",
   "execution_count": null,
   "metadata": {},
   "outputs": [],
   "source": [
    "###Setup: hyperparameters\n",
    "cov_api = Covalent_Api() #might need to pass an API key (different to default -- see __init__ of class)\n",
    "tokenAddress = '0x72e4f9F808C49A2a61dE9C5896298920Dc4EEEa9' #an erc20 token address (hpbitcoin)\n",
    "chainName='eth-mainnet'\n",
    "###"
   ]
  },
  {
   "cell_type": "markdown",
   "metadata": {},
   "source": [
    "**How to use `get_token_holders`**: it is used to get the top token holders of a token."
   ]
  },
  {
   "cell_type": "code",
   "execution_count": null,
   "metadata": {},
   "outputs": [
    {
     "name": "stdout",
     "output_type": "stream",
     "text": [
      "<class 'list'>\n"
     ]
    }
   ],
   "source": [
    "#get the top 100 holders of the given address\n",
    "token_holders_hpbitcoin = cov_api.get_token_holders(chainName=chainName,tokenAddress=tokenAddress,page_size=100,page_number=0)\n",
    "print(type(token_holders_hpbitcoin))\n",
    "assert len(token_holders_hpbitcoin)==100\n",
    "top_10_holders_hpbitcoin = token_holders_hpbitcoin[:10]\n",
    "assert len(top_10_holders_hpbitcoin)==10"
   ]
  },
  {
   "cell_type": "markdown",
   "metadata": {},
   "source": [
    "**How to use `get_historical_balances`**:\n",
    "\n",
    "#NOTE: Basically a helper function to compute `get_holders_portfolios`"
   ]
  },
  {
   "cell_type": "code",
   "execution_count": null,
   "metadata": {},
   "outputs": [],
   "source": [
    "#New args required:\n",
    "walletAddress = top_10_holders_hpbitcoin[3]['address'] #a wallet address.\n",
    "date = '2023-08-30' #a date\n",
    "\n",
    "#Get the historical balances for a given wallet address on a given chain and date\n",
    "portfolio = cov_api.get_historical_balances(chainName=chainName,walletAddress=walletAddress,date=date)"
   ]
  },
  {
   "cell_type": "code",
   "execution_count": null,
   "metadata": {},
   "outputs": [],
   "source": [
    "#TODO: tests of `get_historical_balances` here"
   ]
  },
  {
   "cell_type": "markdown",
   "metadata": {},
   "source": [
    "**How to use `get_holders_portfolios`**: requires a list of holders, e.g. output from `get_token_holders`. Basically it will update the token holders with their portfolios on the provided date (so a wrapper for `get_historical_balances`):"
   ]
  },
  {
   "cell_type": "code",
   "execution_count": null,
   "metadata": {},
   "outputs": [
    {
     "name": "stdout",
     "output_type": "stream",
     "text": [
      "Total portfolio value of the 4th largest holder of hpbitcoin on 2023-08-30 was: $2190284.3138066335 USD\n"
     ]
    }
   ],
   "source": [
    "#now update token holders info by getting their whole portfolios on the given `date`. We take the list output from `get_token_holders` and update it with the portfolio info.\n",
    "date = '2023-08-30'\n",
    "top_10_holders_hpbitcoin = cov_api.get_holders_portfolios(wallet_list=top_10_holders_hpbitcoin,chainName=chainName,date=date)\n",
    "\n",
    "#Can now also get information like: what was the total portfolio value of the 4th largest holder of hpbitcoin on the given date?\n",
    "print(f\"Total portfolio value of the 4th largest holder of hpbitcoin on {date} was: ${top_10_holders_hpbitcoin[3]['portfolio_sum']} USD\")\n",
    "#top_10_holders_hpbitcoin[3]['portfolio'] gives the whole portfolio of the 4th largest holder of hpbitcoin on the given date.\n"
   ]
  },
  {
   "cell_type": "code",
   "execution_count": null,
   "metadata": {},
   "outputs": [],
   "source": [
    "#| hide\n",
    "import nbdev; nbdev.nbdev_export()"
   ]
  }
 ],
 "metadata": {
  "kernelspec": {
   "display_name": "ether_crypto",
   "language": "python",
   "name": "python3"
  }
 },
 "nbformat": 4,
 "nbformat_minor": 2
}
