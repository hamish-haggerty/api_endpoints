{
 "cells": [
  {
   "cell_type": "markdown",
   "metadata": {},
   "source": [
    "# etherscan_api\n",
    "\n",
    "> Endpoints for the `etherscan` api that we couldn't find extant in other packages: https://docs.etherscan.io/"
   ]
  },
  {
   "cell_type": "markdown",
   "metadata": {},
   "source": [
    "**Functionality:**\n",
    "\n",
    "`get_contract_creator`  \n",
    "Obvious\n",
    "\n",
    "`get_first_n_addresses`  \n",
    "Get the first n addresses holding a token. This is currently hacky, and there is an issue with MEV bots. But working ok enough (I think) to use.\n",
    "\n",
    "`get_last_n_transactions_for_erc20`\n",
    "Not tested and can't think of use for it atm.\n",
    "\n",
    "`get_creation_date`\n",
    "Obvious"
   ]
  },
  {
   "cell_type": "code",
   "execution_count": null,
   "metadata": {},
   "outputs": [],
   "source": [
    "#|default_exp etherscan_api"
   ]
  },
  {
   "cell_type": "code",
   "execution_count": null,
   "metadata": {},
   "outputs": [],
   "source": [
    "#| hide\n",
    "from nbdev.showdoc import *"
   ]
  },
  {
   "cell_type": "code",
   "execution_count": null,
   "metadata": {},
   "outputs": [],
   "source": [
    "#| export\n",
    "import requests\n",
    "import json\n",
    "import time"
   ]
  },
  {
   "cell_type": "code",
   "execution_count": null,
   "metadata": {},
   "outputs": [],
   "source": [
    "#| hide\n",
    "from fastcore.test import *"
   ]
  },
  {
   "cell_type": "code",
   "execution_count": null,
   "metadata": {},
   "outputs": [],
   "source": [
    "#| export\n",
    " \n",
    "api_key = 'DWNVAVM1GPZK3PUIKM79AQ2ZZS1JUPI417'  #my API key for etherscan"
   ]
  },
  {
   "cell_type": "code",
   "execution_count": null,
   "metadata": {},
   "outputs": [],
   "source": [
    "#| export\n",
    "\n",
    "#Several relevant addresses for illustration purposes in the notebook (including testing etc).\n",
    "pepe_address = '0x6982508145454Ce325dDbE47a25d4ec3d2311933' #Pepe address\n",
    "pepe_deployer = '0xfbfEaF0DA0F2fdE5c66dF570133aE35f3eB58c9A' #Pepe deployer\n",
    "bybit_address = '0xf89d7b9c864f589bbF53a82105107622B35EaA40'  #ByBit hot wallet associated with Pepe deployer....\n",
    "fuckrace_address = \"0x4911E8cBe156589E8516769800Ed494F34668E55\"\n",
    "fuckrace_deployer = \"0xf627853a09E49B4D9D4A3e3913Da80a3f6d741b7\"\n"
   ]
  },
  {
   "cell_type": "code",
   "execution_count": null,
   "metadata": {},
   "outputs": [],
   "source": [
    "#| export\n",
    "\n",
    "from typing import List\n",
    "def get_contract_creator(contract_addresses: List[str], api_key: str) -> str:\n",
    "    \"\"\"\n",
    "    Retrieves the contract creator and the transaction hash of the contract creation transaction.\n",
    "    API docs: https://docs.etherscan.io/api-endpoints/contracts\n",
    "    Args:\n",
    "        contract_addresses (List[str]): A list of contract addresses to look up. Accepts up to 5.\n",
    "        api_key (str): The API key for accessing the necessary web service.\n",
    "\n",
    "    Returns:\n",
    "        dict: where the keys are the contract_addresses and the values are dicts containing the creator address and the transaction hash of the contract creation transaction.\n",
    "    \"\"\"\n",
    "\n",
    "    assert len(contract_addresses) <= 5, \"Only up to 5 contract addresses can be looked up at a time.\"\n",
    "\n",
    "\n",
    "    base_url = f\"https://api.etherscan.io/api?module=contract&action=getcontractcreation&contractaddresses=\"\n",
    "\n",
    "    for address in contract_addresses:\n",
    "        base_url += f\"{address},\"\n",
    "    \n",
    "    base_url=base_url.rstrip(',')\n",
    "\n",
    "    base_url += f\"&apikey={api_key}\"\n",
    "            \n",
    "            #&apikey={api_key}}\"\n",
    "\n",
    "    response = requests.get(base_url)\n",
    "    data = json.loads(response.text)\n",
    "\n",
    "    if data['status'] =='0':\n",
    "        print(\"Error:\", data['message'])\n",
    "        return None\n",
    "\n",
    "    data=data['result']\n",
    "    data_dict={}\n",
    "    for item in data:\n",
    "\n",
    "        data_dict[item['contractAddress']] = item\n",
    "    \n",
    "    return data_dict\n"
   ]
  },
  {
   "cell_type": "markdown",
   "metadata": {},
   "source": [
    "A simple test that `get_contract_creator` is working as expected:"
   ]
  },
  {
   "cell_type": "code",
   "execution_count": null,
   "metadata": {},
   "outputs": [],
   "source": [
    "#| hide\n",
    "\n",
    "#test\n",
    "_addresses = [pepe_address,fuckrace_address]\n",
    "_data = get_contract_creator(_addresses,api_key)\n",
    "\n",
    "#Annoying wrinkle with lower case\n",
    "test_eq(_data[pepe_address.lower()]['contractCreator'],pepe_deployer.lower())\n",
    "test_eq(_data[fuckrace_address.lower()]['contractCreator'],fuckrace_deployer.lower())"
   ]
  },
  {
   "cell_type": "markdown",
   "metadata": {},
   "source": [
    "`get_total_eth_transacted` seems to be redundant now as we can directly get porfolio info via covalent api.\n",
    "#TODO: delete this later if this is in fact true."
   ]
  },
  {
   "cell_type": "code",
   "execution_count": null,
   "metadata": {},
   "outputs": [],
   "source": [
    "#| export\n",
    "\n",
    "# def get_total_eth_transacted(address, api_key):\n",
    "#     url = f\"https://api.etherscan.io/api?module=account&action=txlist&address={address}&startblock=0&endblock=99999999&sort=asc&apikey={api_key}\"\n",
    "#     response = requests.get(url)\n",
    "#     transactions = json.loads(response.text)['result']\n",
    "    \n",
    "#     total_in = 0\n",
    "#     total_out = 0\n",
    "#     for txn in transactions:\n",
    "#         value = int(txn['value']) / (10 ** 18)  # Convert from Wei to Ether\n",
    "#         if txn['to'] == address.lower():\n",
    "#             total_in += value\n",
    "#         elif txn['from'] == address.lower():\n",
    "#             total_out += value\n",
    "    \n",
    "#     return total_in, total_out\n",
    "\n",
    "#Code to handle arbitrary number of transactions, which however seems to slow things down a lot, and we possibly do not\n",
    "#even need it. So, we will stick to the above code for now.\n",
    "\n",
    "# def get_total_eth_transacted(address, api_key):\n",
    "#     startblock = 0\n",
    "#     endblock = 99999999\n",
    "#     total_in = 0\n",
    "#     total_out = 0\n",
    "    \n",
    "#     while True:\n",
    "#         url = f\"https://api.etherscan.io/api?module=account&action=txlist&address={address}&startblock={startblock}&endblock={endblock}&sort=asc&apikey={api_key}\"\n",
    "#         response = requests.get(url)\n",
    "#         transactions = json.loads(response.text)['result']\n",
    "        \n",
    "#         for txn in transactions:\n",
    "#             value = int(txn['value']) / (10 ** 18)  # Convert from Wei to Ether\n",
    "#             if txn['to'] == address.lower():\n",
    "#                 total_in += value\n",
    "#             elif txn['from'] == address.lower():\n",
    "#                 total_out += value\n",
    "\n",
    "#         # If less than 10000 transactions were returned, we've got them all\n",
    "#         if len(transactions) < 10000:\n",
    "#             break\n",
    "#         else:\n",
    "#             # Use the 'blockNumber' of the last transaction as 'startblock' for the next request\n",
    "#             startblock = int(transactions[-1]['blockNumber']) + 1\n",
    "            \n",
    "#         # Sleep for a short period to respect API rate limits\n",
    "#         time.sleep(0.2)\n",
    "    \n",
    "#     return total_in, total_out\n"
   ]
  },
  {
   "cell_type": "code",
   "execution_count": null,
   "metadata": {},
   "outputs": [],
   "source": [
    "#| export\n",
    "\n",
    "def get_first_n_addresses(contract_address:str, n:int, api_key:str)->dict:\n",
    "    \"\"\"Get the first n addresses holding a contract (e.g. erc20).\n",
    "       API docs: https://docs.etherscan.io/api-endpoints/accounts#get-a-list-of-erc20-token-transfer-events-by-address\n",
    "        Args:\n",
    "            contract_address (str): The address of the contract.\n",
    "            n (int): The number of first holders' addresses to retrieve.\n",
    "            api_key (str): API key to authenticate the request.\n",
    "\n",
    "        Returns:\n",
    "            dict: A dictionary containing the first n addresses holding the contract. \n",
    "                  The keys are the addresses (which is the main thing we want). Values are tuples: (tx_hash,count)\n",
    "                  where tx_hash is the hash of the transaction wherein the address received the contract\n",
    "                  (mostly useful for debugging/logging purposes) and count records the order.\n",
    "                  So e.g. count=0 ~ means the address is the first holder of the contract. We use the ~ symbol since e.g. mev\n",
    "                  bots can be excluded from etherscan page.\n",
    "\n",
    "        NOTE: mev bot transactions seem to not show up on etherscans page, so be careful with debugging.\n",
    "        TODO: possibly need a way to handle the mev bot issue.\n",
    "\n",
    "    \"\"\"\n",
    "    holders_dict = {}\n",
    "    count = 0\n",
    "    page_num = 1\n",
    "    \n",
    "    while count < n:\n",
    "        url = f\"https://api.etherscan.io/api?module=account&action=tokentx&contractaddress={contract_address}&startblock=0&endblock=99999999&page={page_num}&offset=100&sort=asc&apikey={api_key}\"\n",
    "        response = requests.get(url)\n",
    "        data = response.json()\n",
    "        \n",
    "        if 'result' not in data or not data['result']:\n",
    "            # No more data to process\n",
    "            break\n",
    "        \n",
    "        for tx in data['result']:\n",
    "            address = tx['to']\n",
    "            if holders_dict.get(address,None)==None:  # Avoid duplicates\n",
    "                holders_dict[address] = (tx['hash'],count)\n",
    "                count += 1\n",
    "                if count == n:\n",
    "                    return holders_dict\n",
    "        \n",
    "        # Move to the next page of results\n",
    "        page_num += 1\n",
    "\n",
    "    return holders_dict\n"
   ]
  },
  {
   "cell_type": "markdown",
   "metadata": {},
   "source": [
    "Initial test / sanity check of `get_first_n_addresses`:"
   ]
  },
  {
   "cell_type": "code",
   "execution_count": null,
   "metadata": {},
   "outputs": [
    {
     "name": "stdout",
     "output_type": "stream",
     "text": [
      "The 0-th holder of contract is: 0xf627853a09e49b4d9d4a3e3913da80a3f6d741b7 with tx_id=0x585a4a6cacd6dae2c14e348b195df2779728e5f0d7d5fb80a68dcb4df19d68e3\n",
      "The 1-th holder of contract is: 0x4911e8cbe156589e8516769800ed494f34668e55 with tx_id=0x75b329de189b34dbbb53853c9b76e18ac70f62c1ef852c77c3ae3e139ab2c38c\n",
      "The 2-th holder of contract is: 0xbbd52fac458d29050128c8d62edff4a5e7cdb0a0 with tx_id=0x7e008702f0d19b4a31b8017f8b5cae71a6ae0a8bbc59660065dbd86a088dc855\n",
      "The 3-th holder of contract is: 0x77c39ce537b28b1b0df41e0e6cb8c34a2d85286c with tx_id=0xe0b2a091fa01cc681be5bf6b59f16131635db7deb19414fb3915c1f27638a78e\n",
      "The 4-th holder of contract is: 0x13553f6e4f6679e4f024748c068bc0c87bc90b8b with tx_id=0xf18bcaa79fad671f93d3c9a5fa0abf1570087f42e572d5d7c45be438c8240435\n"
     ]
    }
   ],
   "source": [
    "#| hide\n",
    "\n",
    "#test\n",
    "_holders_dict = get_first_n_addresses(fuckrace_address,5,api_key)\n",
    "\n",
    "for _address,(tx_id,count) in _holders_dict.items():\n",
    "\n",
    "    print(f\"The {count}-th holder of contract is: {_address} with tx_id={tx_id}\")\n",
    "\n",
    "    if count==0: test_eq(_address,\"0xf627853a09e49b4d9d4a3e3913da80a3f6d741b7\")\n",
    "    if count==1: test_eq(_address,\"0x4911e8cbe156589e8516769800ed494f34668e55\")\n",
    "\n",
    "#seems to work ok at least on this guy, inspecting the first few elements. Ok. "
   ]
  },
  {
   "cell_type": "markdown",
   "metadata": {},
   "source": [
    "#NOTE on this test\n",
    "We can verify that the first 3 are on the coins etherscan page. The first 2 match the first 2 on etherscan page. However, the third hash here is not the third hash on etherscan, it is the fourth. The third etherscan page hash is `0xac0dd6c9b5b49f164ec952a94ff546cee86b1cdb6a447e7fa2db8cd6fca07adf`. The address of this transaction hash is `0x4911e8cbe156589e8516769800ed494f34668e55`. We can verify that this is the address corresponding to the second transaction, so it makes sense, since we are looking for first $n$ *unique* addresses. Since this address corresponds to the second transaction we don't recount it.\n",
    "\n",
    "The rest of the first 10 are not on the coins page. e.g. the 10th is not, but plonking it into etherscan reveals it as a `mev` transaction which explains why it doesn't show up on etherscan page."
   ]
  },
  {
   "cell_type": "code",
   "execution_count": null,
   "metadata": {},
   "outputs": [],
   "source": [
    "#TODO: we need more rigorous testing of `get_first_n_addresses`"
   ]
  },
  {
   "cell_type": "markdown",
   "metadata": {},
   "source": [
    "Some simple sanity checks with `get_first_n_addresses` with `pepe`:"
   ]
  },
  {
   "cell_type": "code",
   "execution_count": null,
   "metadata": {},
   "outputs": [
    {
     "name": "stdout",
     "output_type": "stream",
     "text": [
      "First transaction hash is: ('0x2afae7763487e60b893cb57803694810e6d3d136186a6de6719921afd7ca304a', 0)\n",
      "Second transaction hash is ('0xb38bba8bf8f61029a31e027c37fbc1065db784a39501d456a05cc490db5b4578', 1)\n",
      "200th transaction hash is ('0x970c88c76f8c9a6dec2067fa9f5d0731c1d3fcba7aab54b279513dc53f04b982', 199)\n"
     ]
    }
   ],
   "source": [
    "#| hide\n",
    "\n",
    "#test\n",
    "_holders_dict = get_first_n_addresses(pepe_address,220,api_key)\n",
    "_first_n_addresses = list(_holders_dict.keys())\n",
    "_transaction_hashes = list(_holders_dict.values())\n",
    "print(f'First transaction hash is: {_transaction_hashes[0]}')\n",
    "#First transaction seems correct: plonking it into etherscan yields:\n",
    "#ERC-20 Tokens Transferred: From Null: 0x000...000 To Pepe: Deployer For 420,690,000,000,000 ($485,938,919.44)\n",
    "#which seems ok. \n",
    "\n",
    "print(f'Second transaction hash is {_transaction_hashes[1]}')\n",
    "#Second transaction involves pepe deployer which seems reasonable\n",
    "\n",
    "print(f'200th transaction hash is {_transaction_hashes[199]}')\n",
    "#Verified that this is a valid transaction by plonking it into etherscan"
   ]
  },
  {
   "cell_type": "markdown",
   "metadata": {},
   "source": [
    "Can't think of a strong use for the folowing function `get_last_n_transactions_for_erc20` at the moment. Just leave it here for now."
   ]
  },
  {
   "cell_type": "code",
   "execution_count": null,
   "metadata": {},
   "outputs": [],
   "source": [
    "#| export\n",
    "\n",
    "def get_last_n_transactions_for_erc20(contract_address, n, api_key):\n",
    "    \"\"\"Fetch the last n transactions for an ERC-20 token.\n",
    "\n",
    "    Args:\n",
    "    - contract_address (str): The ERC-20 token's contract address.\n",
    "    - n (int): The number of transactions to retrieve.\n",
    "    - api_key (str): Your Etherscan API key.\n",
    "\n",
    "    Returns:\n",
    "    - list[dict]: A list of transaction dictionaries.\n",
    "    \"\"\"\n",
    "    \n",
    "    transactions_list = []\n",
    "    page_num = 1\n",
    "    \n",
    "    while len(transactions_list) < n:\n",
    "        url = f\"https://api.etherscan.io/api?module=account&action=tokentx&contractaddress={contract_address}&page={page_num}&offset=100&sort=desc&apikey={api_key}\"\n",
    "        response = requests.get(url)\n",
    "        data = response.json()\n",
    "        \n",
    "        if 'result' not in data or not data['result']:\n",
    "            # No more data to process\n",
    "            break\n",
    "        \n",
    "        transactions_list.extend(data['result'])\n",
    "\n",
    "        # If we've collected more than 'n' transactions, truncate the list\n",
    "        if len(transactions_list) > n:\n",
    "            transactions_list = transactions_list[:n]\n",
    "            break\n",
    "        \n",
    "        # Move to the next page of results\n",
    "        page_num += 1\n",
    "\n",
    "    return transactions_list\n",
    "\n",
    "if __name__ == \"__main__\":\n",
    "# Example usage:\n",
    "    contract_address = \"0x02e7f808990638e9e67e1f00313037ede2362361\" #kibshi\n",
    "    n = 100\n",
    "\n",
    "    transactions = get_last_n_transactions_for_erc20(contract_address, n, api_key)\n",
    "    # for tx in transactions:\n",
    "    #     print(tx)\n"
   ]
  },
  {
   "cell_type": "code",
   "execution_count": null,
   "metadata": {},
   "outputs": [],
   "source": [
    "#| export\n",
    "\n",
    "from typing import Optional, Union\n",
    "from datetime import datetime\n",
    "\n",
    "def get_creation_date(api_key: str, contract_address: str, network: Optional[str] = 'mainnet') -> Union[str, None]:\n",
    "    \"\"\"\n",
    "    Fetch the creation date of an ERC20 contract using the Etherscan API.\n",
    "    \n",
    "    Parameters:\n",
    "    - api_key (str): The API key for Etherscan.\n",
    "    - contract_address (str): The Ethereum address of the contract.\n",
    "    - network (Optional[str]): The Ethereum network ('mainnet', 'ropsten', etc.). Default is 'mainnet'.\n",
    "    \n",
    "    Returns:\n",
    "    - str: The creation date in the format 'YYYY-MM-DD HH:MM:SS' in UTC if found.\n",
    "    - None: If the contract has no transactions or the API request fails.\n",
    "    \"\"\"\n",
    "    # Determine the base URL depending on the network\n",
    "    base_url = 'https://api.etherscan.io/api?'\n",
    "    if network != 'mainnet':\n",
    "        base_url = f'https://{network}.etherscan.io/api?'\n",
    "\n",
    "    # Define API parameters\n",
    "    params = {\n",
    "        'module': 'account',\n",
    "        'action': 'txlist',\n",
    "        'address': contract_address,\n",
    "        'startblock': 0,\n",
    "        'endblock': 99999999,\n",
    "        'sort': 'asc',\n",
    "        'apikey': api_key\n",
    "    }\n",
    "\n",
    "    # Make API request\n",
    "    response = requests.get(base_url, params=params)\n",
    "    if response.status_code == 200:\n",
    "        data = json.loads(response.text)\n",
    "        if 'result' in data and len(data['result']) > 0:\n",
    "            # The first transaction should be the contract creation transaction\n",
    "            creation_transaction = data['result'][0]\n",
    "            timestamp = int(creation_transaction['timeStamp'])\n",
    "            creation_date = datetime.utcfromtimestamp(timestamp).strftime('%Y-%m-%d %H:%M:%S')\n",
    "            return creation_date\n",
    "        else:\n",
    "            return None\n",
    "    else:\n",
    "        return None\n"
   ]
  },
  {
   "cell_type": "code",
   "execution_count": null,
   "metadata": {},
   "outputs": [],
   "source": [
    "#| hide\n",
    "\n",
    "#test\n",
    "fuckrace_creation_date = get_creation_date(api_key, fuckrace_address)\n",
    "test_eq(fuckrace_creation_date,'2023-08-03 17:53:47')\n",
    "#Note that on dextools trading began ~1 day later, but visual inspection of etherscan shows that this answer is correct.\n",
    "#So that is encouraging."
   ]
  },
  {
   "cell_type": "code",
   "execution_count": null,
   "metadata": {},
   "outputs": [],
   "source": [
    "#| hide\n",
    "import nbdev; nbdev.nbdev_export()"
   ]
  }
 ],
 "metadata": {
  "kernelspec": {
   "display_name": "python3",
   "language": "python",
   "name": "python3"
  }
 },
 "nbformat": 4,
 "nbformat_minor": 2
}
